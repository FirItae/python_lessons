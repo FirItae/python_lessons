{
 "cells": [
  {
   "cell_type": "markdown",
   "metadata": {},
   "source": [
    "Задачи с сайта https://codechick.io/challenges"
   ]
  },
  {
   "cell_type": "markdown",
   "metadata": {},
   "source": [
    "# Набор 1. Строки и числа.\n"
   ]
  },
  {
   "cell_type": "markdown",
   "metadata": {},
   "source": [
    "## Task 1. [Переведите минуты в секунды](https://codechick.io/challenges/13)\n",
    "\n",
    "### Напишите программу, которая принимает целочисленные значения минут (minutes) и конвертирует это значение в секунды.\n",
    "\n",
    "Пример работы:\n",
    "\n",
    "Вход: 3\n",
    "\n",
    "Вывод: 3 minutes is 180 seconds\n",
    "\n"
   ]
  },
  {
   "cell_type": "code",
   "execution_count": null,
   "metadata": {},
   "outputs": [],
   "source": []
  },
  {
   "cell_type": "markdown",
   "metadata": {},
   "source": [
    "## Task 2.[ Переведите часы в секунды](https://codechick.io/challenges/15)\n",
    " \n",
    "### Напишите программу, которая переведет количество часов (hours) в секунды.\n",
    "\n",
    "Пример работы:\n",
    "\n",
    "Вход: 2\n",
    "\n",
    "Вывод: 2 hours is 7200 seconds"
   ]
  },
  {
   "cell_type": "code",
   "execution_count": null,
   "metadata": {},
   "outputs": [],
   "source": []
  },
  {
   "cell_type": "markdown",
   "metadata": {},
   "source": [
    "## Task 3. [Найти периметр прямоугольника](https://codechick.io/challenges/21)\n",
    "\n",
    "### Напишите программу, которая позволит найти периметр прямоугольника, зная его ширину (width) и длину (length).\n",
    "\n",
    "Пример работы:\n",
    "\n",
    "Вход: \n",
    "\n",
    "6\n",
    "\n",
    "7\n",
    "\n",
    "Вывод: \n",
    "\n",
    "Периметр прямоугольника со сторонами 6 и 7 равен 26"
   ]
  },
  {
   "cell_type": "code",
   "execution_count": null,
   "metadata": {},
   "outputs": [],
   "source": []
  },
  {
   "cell_type": "markdown",
   "metadata": {},
   "source": [
    "## Task 4. [Переведите часы и минуты в секунды](https://codechick.io/challenges/27)\n",
    "\n",
    "### Напишите программу, которая принимает целочисленные значения часов (hours) и минут (minutes), конвертирует эти значения в секунды, а затем суммирует и возвращает в качестве результата.\n",
    "\n",
    "Пример работы:\n",
    "\n",
    "Вход: \n",
    "\n",
    "1\n",
    "\n",
    "3\n",
    "\n",
    "\n",
    "Вывод: \n",
    "\n",
    " 1 hours and 3 minutes is 3780 seconds"
   ]
  },
  {
   "cell_type": "code",
   "execution_count": null,
   "metadata": {},
   "outputs": [],
   "source": []
  },
  {
   "cell_type": "markdown",
   "metadata": {},
   "source": [
    "## Task 5. [Объединить имя и фамилию в одну строку](https://codechick.io/challenges/51)\n",
    "\n",
    "Учитывая две строки first_name и last_name, напечатать одну строку в формате \"Name is  first_name last_name\".\n",
    "\n",
    "Пример работы:\n",
    "\n",
    "Вход: \n",
    "\n",
    "\"Doe\" \n",
    "\n",
    "John\"\n",
    "\n",
    "Вывод: \n",
    "\n",
    "Name is  John Doe"
   ]
  },
  {
   "cell_type": "code",
   "execution_count": null,
   "metadata": {},
   "outputs": [],
   "source": []
  },
  {
   "cell_type": "markdown",
   "metadata": {},
   "source": [
    "## Task 6. [Преобразовать число в строку из тире](https://codechick.io/challenges/59)\n",
    "\n",
    "### Создайте программу, которая принимает число (от 1 до 60) и печатает соответствующую строку из дефисов.\n",
    "\n",
    "Пример работы:\n",
    "\n",
    "Вход: \n",
    "\n",
    "2\n",
    "\n",
    "Вывод: \n",
    "\n",
    "--"
   ]
  },
  {
   "cell_type": "code",
   "execution_count": null,
   "metadata": {},
   "outputs": [],
   "source": []
  },
  {
   "cell_type": "markdown",
   "metadata": {},
   "source": [
    "## Task 7. [Gooooogle](https://codechick.io/challenges/74)\n",
    "\n",
    "### Напишите программу , которая принимает число number, и печатает слово Google с количеством букв o, равным number.\n",
    "\n",
    "Пример работы:\n",
    "\n",
    "Вход: \n",
    "\n",
    "2\n",
    "\n",
    "Вывод: \n",
    "\n",
    "\"Google\""
   ]
  },
  {
   "cell_type": "code",
   "execution_count": null,
   "metadata": {},
   "outputs": [],
   "source": []
  },
  {
   "cell_type": "markdown",
   "metadata": {},
   "source": [
    "## Task 8. [Объем пиццы](https://codechick.io/challenges/160)\n",
    "\n",
    "### Том - очень методичный парень, который любит геометрию и пиццу: он так их любит, что перед тем, как съесть пиццу, он вычисляет ее радиус и высоту. Теперь он хочет узнать от вас общий объем пиццы, который он проглотил!\n",
    "\n",
    "### У вас есть два параметра, которые измерил Том:\n",
    "\n",
    "### radius (радиус)\n",
    "\n",
    "### height (высота)\n",
    "\n",
    "### Он говорит вам, что если умножить высоту на квадрат радиуса и умножить результат на математическую константу π (Пи) ≈ 3.14, вы получите общий объем пиццы. Реализуйте программу, которая печатает объем пиццы в виде целого числа, округленного (функция [round()](https://pythonru.com/uroki/funkcija-round-dlja-nachinajushhih) ) до ближайшего целого числа.\n",
    "\n",
    "Пример работы:\n",
    "\n",
    "Вход: \n",
    "\n",
    "7\n",
    "\n",
    "2\n",
    "\n",
    "Вывод: \n",
    "\n",
    "Объем пиццы - 308"
   ]
  },
  {
   "cell_type": "code",
   "execution_count": 2,
   "metadata": {},
   "outputs": [
    {
     "data": {
      "text/plain": [
       "308"
      ]
     },
     "execution_count": 2,
     "metadata": {},
     "output_type": "execute_result"
    }
   ],
   "source": []
  },
  {
   "cell_type": "markdown",
   "metadata": {},
   "source": [
    "## Task 9.\n",
    "\n",
    "### Напишите программу, которая принимает координаты двух точек(a, b) на двумерной плоскости и печатает длину отрезка, соединяющего эти две точки. [Как посчитать длинну через координаты.](https://ru.wikihow.com/вычислить-длину-отрезка-по-координатам)\n",
    "\n",
    "Пример работы:\n",
    "\n",
    "Вход:\n",
    "\n",
    "15\n",
    "\n",
    "7\n",
    "\n",
    "22\n",
    "\n",
    "11\n",
    "\n",
    "Вывод: \n",
    "Длина отрезка = 8.06"
   ]
  },
  {
   "cell_type": "code",
   "execution_count": null,
   "metadata": {},
   "outputs": [],
   "source": [
    "ax = \n",
    "ay = \n",
    "bx = \n",
    "by = "
   ]
  },
  {
   "cell_type": "markdown",
   "metadata": {},
   "source": [
    "## Task 10. [Сколько ног на ферме](https://codechick.io/challenges/26)\n",
    "\n",
    "### Для решения этой задачи необходимо написать программу, которая посчитает количество ног у всех животных на ферме. На ферме живут курочки (chickens), коровки (cows), и свинки (pigs). Зная количество животных каждого вида, посчитайте, сколько всего ног на ферме.\n",
    "\n",
    "### - у курочки 2 ноги;\n",
    "\n",
    "### - у коровки 4 ноги;\n",
    "\n",
    "### - у свинки 4 ноги.\n",
    "\n",
    "## Программа принимает 3 числа: количество курочек, коровок и свинок, и возвращает общее количество ног всех животных.\n",
    "\n",
    "\n",
    "\n",
    "Пример работы:\n",
    "\n",
    "Вход: \n",
    "\n",
    "2\n",
    "\n",
    "3\n",
    "\n",
    "5\n",
    "\n",
    "\n",
    "Вывод: \n",
    "\n",
    "Общее количество ног на ферме = 36"
   ]
  },
  {
   "cell_type": "code",
   "execution_count": null,
   "metadata": {},
   "outputs": [],
   "source": []
  },
  {
   "cell_type": "markdown",
   "metadata": {},
   "source": []
  }
 ],
 "metadata": {
  "kernelspec": {
   "display_name": "Python 3",
   "language": "python",
   "name": "python3"
  },
  "language_info": {
   "codemirror_mode": {
    "name": "ipython",
    "version": 3
   },
   "file_extension": ".py",
   "mimetype": "text/x-python",
   "name": "python",
   "nbconvert_exporter": "python",
   "pygments_lexer": "ipython3",
   "version": "3.9.6"
  }
 },
 "nbformat": 4,
 "nbformat_minor": 2
}
