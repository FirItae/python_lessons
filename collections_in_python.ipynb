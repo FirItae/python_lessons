{
  "cells": [
    {
      "cell_type": "markdown",
      "metadata": {
        "id": "9EjkQ5C04fHL"
      },
      "source": [
        "# **Коллекции в Python.**\n",
        "Коллекция - это объект, который хранит в себе набор значений, одного или нескольких типов.\n",
        "\n",
        "Коллекции можно разденить по нескольким признакам:\n",
        "- изменяемые, неизменяемые\n",
        "- упорядоченные, неупорядоченные.\n",
        "\n",
        "Основные коллеции Python\n",
        "- Списки (list)\n",
        "- Строки(str)\n",
        "- Словари (dict)\n",
        "- Множества (set)\n",
        "- Кортежи(tuple)\n",
        "\n",
        "\n",
        "\n",
        "---\n",
        "(по  признаку изменяемые, неизменяемые можно разделить все типы данных, не только коллекции - подробная информация об этом есть здесь:\n",
        "https://pythonist.ru/izmenyaemye-vs-neizmenyaemye-obekty-v-python/)\n",
        "\n",
        "---\n",
        "# Неизменяемые коллекции\n",
        "Неизменяемые коллекции - коллекции, в которые, после их создания, невозможно добавить изменения. Мы можем на них воздействовать, и получать **новые** - изменённые коллекции.\n",
        "\n",
        "К неизменяемым коллекциям относятся:\n",
        "- Строки(str)\n",
        "- Кортежи(tuple)\n",
        "---\n",
        "# Изменяемые коллекции\n",
        "Изменяемые коллекции можно изменить \"на месте\" - это значит, что воздействие на такие коллекции изменит эту коллекцию. В связи с этим возникает опасность: если две(или больше) переменные ссылаются на один и тот же изменяемый объект в памяти, то изменения, которые вносятся через одну переменную - будут видны из другой(эту опасность мы разберем дальше на примере списков)\n",
        "\n",
        "К изменяемым коллекциям относятся:\n",
        "- Списки (list)\n",
        "- Словари (dict)\n",
        "- Множества (set)\n",
        "---\n",
        "# Упорядоченные коллекции\n",
        "В упорядоченных коллекциях - каждый элемент этой коллекции \"закреплен на какой-то позиции\"- каждому элементу \"присвоен свой порядковый номер\"-индекс,и по этому индексу можно обратиться к элменту последовательности.\n",
        "При выводе в терминал упорядоченной коллекции - все элементы будут стоять на своих местах.\n",
        "\n",
        "К упорядоченным коллекциям относятся:\n",
        "- Списки (list)\n",
        "- Кортежи(tuple)\n",
        "- Строки(str)\n",
        "---\n",
        "# Не(у)порядоченные коллекции\n",
        "В неупорядоченных коллекциях - каждый элемент просто присутстует в коллекции и не закреплен за каким-то номером. Важно что он там есть и не важно на каком месте.\n",
        "При выводе в терминал упорядоченной коллекции - элементы могут \"произвольно\" менятся местами.\n",
        "\n",
        "К неупорядоченным коллекциям относятся:\n",
        "- Множества (set)\n",
        "- Словари (dict)\n",
        "\n",
        "\n",
        "\n",
        "\n",
        "\n",
        "\n",
        "\n"
      ]
    },
    {
      "cell_type": "markdown",
      "metadata": {
        "id": "Ymo_O9x8O27I"
      },
      "source": [
        "# **Списки**\n",
        "\n",
        "Списки – это самые гибкий тип упорядоченных, изменяемых коллекций в языке Python. Списки могут содержать объекты **любых** типов: числа, строки,кортежи,словари, и даже другие списки. Кроме того, в отличие от строк, списки могут изменяться непосредственно, с помощью операции присваивания по смещениям и срезам, с помощью методов списков, с использованием инструкций удаления и другими способами.\n",
        "\n",
        "\n",
        "\n",
        "\n"
      ]
    },
    {
      "cell_type": "code",
      "execution_count": 2,
      "metadata": {
        "colab": {
          "base_uri": "https://localhost:8080/"
        },
        "id": "kgw14kdVNtKW",
        "outputId": "5dc1eeee-cc35-4349-df97-2ca0b4024cda"
      },
      "outputs": [
        {
          "name": "stdout",
          "output_type": "stream",
          "text": [
            "Разницы между созданием пустого(!) списка с помощью литералов- empty_list1: [], и функции list- empty_list2: [] - нет\n"
          ]
        }
      ],
      "source": [
        "# инициализация пустого списка\n",
        "empty_list1 = []\n",
        "empty_list2 = list()\n",
        "print(f'Разницы между созданием пустого(!) списка с помощью литералов- empty_list1: {empty_list1}, и функции list- empty_list2: {empty_list2} - нет')\n",
        "# Однако лучше создавать пустой список с помощью литералов, тк это у нас как у программистов займет меньше времени)\n",
        "# + Так принято"
      ]
    },
    {
      "cell_type": "code",
      "execution_count": 3,
      "metadata": {
        "colab": {
          "base_uri": "https://localhost:8080/"
        },
        "id": "6J63yLCyO2N6",
        "outputId": "3ee7af14-54b9-4298-d0d3-2af6bac6c154"
      },
      "outputs": [
        {
          "data": {
            "text/plain": [
              "[1, 5, 3, 3]"
            ]
          },
          "execution_count": 3,
          "metadata": {},
          "output_type": "execute_result"
        }
      ],
      "source": [
        "# создание списка, который содержит элементы\n",
        "L = [1, 5, 3, 3] # 4 элемента с индексами 0,1,2,3\n",
        "L"
      ]
    },
    {
      "cell_type": "markdown",
      "metadata": {
        "id": "HK9X-VXHq3sk"
      },
      "source": [
        "С помощью функции list() мы меняем тип данных. Мы можем преобразовать в список с помощью этой функии только итерируемые объекты.\n",
        "\n",
        "Например: из строки можно сделать список."
      ]
    },
    {
      "cell_type": "code",
      "execution_count": 4,
      "metadata": {
        "colab": {
          "base_uri": "https://localhost:8080/"
        },
        "id": "19ZD5V1wq2vs",
        "outputId": "60f62ec6-36e9-4687-ce16-4b950f3965f3"
      },
      "outputs": [
        {
          "data": {
            "text/plain": [
              "['1', ' ', '2', ' ', '3', ' ', '4', ' ', '5', '!']"
            ]
          },
          "execution_count": 4,
          "metadata": {},
          "output_type": "execute_result"
        }
      ],
      "source": [
        "list('1 2 3 4 5!')"
      ]
    },
    {
      "cell_type": "code",
      "execution_count": 5,
      "metadata": {
        "colab": {
          "base_uri": "https://localhost:8080/",
          "height": 259
        },
        "id": "NyK-4oDYr0Sx",
        "outputId": "a8ed96b6-8bf2-4c06-e055-0946ce5f0bdb"
      },
      "outputs": [
        {
          "ename": "TypeError",
          "evalue": "list expected at most 1 argument, got 4",
          "output_type": "error",
          "traceback": [
            "\u001b[0;31m---------------------------------------------------------------------------\u001b[0m",
            "\u001b[0;31mTypeError\u001b[0m                                 Traceback (most recent call last)",
            "Cell \u001b[0;32mIn[5], line 2\u001b[0m\n\u001b[1;32m      1\u001b[0m \u001b[38;5;66;03m# list принимает только 1 аргумент - то,что необходимо преобразовать в список\u001b[39;00m\n\u001b[0;32m----> 2\u001b[0m L \u001b[38;5;241m=\u001b[39m \u001b[38;5;28;43mlist\u001b[39;49m\u001b[43m(\u001b[49m\u001b[38;5;241;43m1\u001b[39;49m\u001b[43m,\u001b[49m\u001b[43m \u001b[49m\u001b[38;5;241;43m5\u001b[39;49m\u001b[43m,\u001b[49m\u001b[43m \u001b[49m\u001b[38;5;241;43m3\u001b[39;49m\u001b[43m,\u001b[49m\u001b[43m \u001b[49m\u001b[38;5;241;43m3\u001b[39;49m\u001b[43m)\u001b[49m \u001b[38;5;66;03m# такая запись приведет к ошибке(если нужен перевод- воспользуйтесь переводчиком)\u001b[39;00m\n",
            "\u001b[0;31mTypeError\u001b[0m: list expected at most 1 argument, got 4"
          ]
        }
      ],
      "source": [
        "# list принимает только 1 аргумент - то,что необходимо преобразовать в список\n",
        "L = list(1, 5, 3, 3) # такая запись приведет к ошибке(если нужен перевод- воспользуйтесь переводчиком)"
      ]
    },
    {
      "cell_type": "code",
      "execution_count": null,
      "metadata": {
        "colab": {
          "base_uri": "https://localhost:8080/",
          "height": 225
        },
        "id": "fg9imROf9I57",
        "outputId": "3277e874-4e31-44b8-ea3a-d87d28033355"
      },
      "outputs": [
        {
          "ename": "TypeError",
          "evalue": "'int' object is not iterable",
          "output_type": "error",
          "traceback": [
            "\u001b[0;31m---------------------------------------------------------------------------\u001b[0m",
            "\u001b[0;31mTypeError\u001b[0m                                 Traceback (most recent call last)",
            "\u001b[0;32m<ipython-input-5-5660d2dc705c>\u001b[0m in \u001b[0;36m<cell line: 2>\u001b[0;34m()\u001b[0m\n\u001b[1;32m      1\u001b[0m \u001b[0;31m# ошибка будет также, если передать неитерируемый объект\u001b[0m\u001b[0;34m\u001b[0m\u001b[0;34m\u001b[0m\u001b[0m\n\u001b[0;32m----> 2\u001b[0;31m \u001b[0mlist\u001b[0m\u001b[0;34m(\u001b[0m\u001b[0;36m1\u001b[0m\u001b[0;34m)\u001b[0m\u001b[0;34m\u001b[0m\u001b[0;34m\u001b[0m\u001b[0m\n\u001b[0m",
            "\u001b[0;31mTypeError\u001b[0m: 'int' object is not iterable"
          ]
        }
      ],
      "source": [
        "# ошибка будет также, если передать неитерируемый объект\n",
        "list(1)"
      ]
    },
    {
      "cell_type": "code",
      "execution_count": 6,
      "metadata": {
        "colab": {
          "base_uri": "https://localhost:8080/"
        },
        "id": "HW--NekPN1CH",
        "outputId": "eef816ab-ea04-4cd2-9ef8-d2446426fb0e"
      },
      "outputs": [
        {
          "name": "stdout",
          "output_type": "stream",
          "text": [
            "Преобразуем из <class 'set'> в список,\n",
            "{1, 2, 3} ---> [1, 2, 3]\n"
          ]
        }
      ],
      "source": [
        "# здесь потренируйтесь и попробуйте попередовать функции разные коллекции\n",
        "# строчки, множества, кортежи, словари\n",
        "# Пример:\n",
        "collection_for_check = {1,2,3}\n",
        "list_made_from_another_collection = list(collection_for_check)\n",
        "print(f'Преобразуем из {type(collection_for_check)} в список,\\n{collection_for_check} ---> {list_made_from_another_collection}')\n"
      ]
    },
    {
      "cell_type": "code",
      "execution_count": 7,
      "metadata": {
        "colab": {
          "base_uri": "https://localhost:8080/"
        },
        "id": "AkfqNAKotJLI",
        "outputId": "9b1d1e3f-582b-4bea-d4af-9de8d4d07160"
      },
      "outputs": [
        {
          "data": {
            "text/plain": [
              "['abc', ['def', 'ghi']]"
            ]
          },
          "execution_count": 7,
          "metadata": {},
          "output_type": "execute_result"
        }
      ],
      "source": [
        "#В качестве элемента списка может быть другой список\n",
        "list_with_list = ['abc', ['def', 'ghi']] # ['def', 'ghi'] - Вложенный список\n",
        "list_with_list"
      ]
    },
    {
      "cell_type": "code",
      "execution_count": 8,
      "metadata": {
        "colab": {
          "base_uri": "https://localhost:8080/"
        },
        "id": "TYlDOD7uuK_l",
        "outputId": "8f4020b4-fd3e-438e-c31c-4ec74e4ee53a"
      },
      "outputs": [
        {
          "data": {
            "text/plain": [
              "[-4, -3, -2, -1, 0, 1, 2, 3]"
            ]
          },
          "execution_count": 8,
          "metadata": {},
          "output_type": "execute_result"
        }
      ],
      "source": [
        "continuous_sequence1 = list(range(-4, 4)) # создание списка из непрерывной последовательности целых чисел\n",
        "continuous_sequence1 #обратите внимание! правая граница - не включается в результирующий список"
      ]
    },
    {
      "cell_type": "code",
      "execution_count": 9,
      "metadata": {
        "colab": {
          "base_uri": "https://localhost:8080/"
        },
        "id": "d0-SWiACyUB3",
        "outputId": "7471dd29-6ea5-47a1-b3fa-3b3b24ccb083"
      },
      "outputs": [
        {
          "data": {
            "text/plain": [
              "[-4, -2, 0, 2]"
            ]
          },
          "execution_count": 9,
          "metadata": {},
          "output_type": "execute_result"
        }
      ],
      "source": [
        "continuous_sequence2 = list(range(-4, 4, 2)) # создание списка из непрерывной последовательности целых чисел. с некоторым шагом\n",
        "continuous_sequence2 #обратите внимание! последним элементом - будет поместившийся в границы, с учетом шага, элемент, не включая границу"
      ]
    },
    {
      "cell_type": "code",
      "execution_count": 10,
      "metadata": {
        "colab": {
          "base_uri": "https://localhost:8080/"
        },
        "id": "xJ4ehWEMzDEJ",
        "outputId": "7f8d7e10-6768-41e3-eeb7-2d03a0b93a78"
      },
      "outputs": [
        {
          "data": {
            "text/plain": [
              "[4, 3, 2, 1, 0, -1, -2, -3]"
            ]
          },
          "execution_count": 10,
          "metadata": {},
          "output_type": "execute_result"
        }
      ],
      "source": [
        "continuous_sequence3 = list(range(4, -4, -1)) # создание списка из непрерывной последовательности целых чиселс шагом в обраном направлении\n",
        "continuous_sequence3"
      ]
    },
    {
      "cell_type": "code",
      "execution_count": 11,
      "metadata": {
        "colab": {
          "base_uri": "https://localhost:8080/"
        },
        "id": "-VkgN7HBzXjg",
        "outputId": "10f691f1-8aa1-4415-d3ec-1bdd9bb97481"
      },
      "outputs": [
        {
          "data": {
            "text/plain": [
              "[]"
            ]
          },
          "execution_count": 11,
          "metadata": {},
          "output_type": "execute_result"
        }
      ],
      "source": [
        "# здесь попробуйте создавать разные списки с последовательностми с помощью range, каждый раз думайте почему так получилось\n",
        "# пример\n",
        "list(range(-1,-5,2)) # пустой  список\n",
        "# Почему? - (-1) + 2 = 0 (уже вышли за границы) - соответсвенно, между (-1) и (-5) - нет чисел, соответсвенно список пустой"
      ]
    },
    {
      "cell_type": "markdown",
      "metadata": {
        "id": "JlWjkM0N0yPM"
      },
      "source": [
        "----"
      ]
    },
    {
      "cell_type": "markdown",
      "metadata": {
        "id": "GlT9jTgp1i4p"
      },
      "source": [
        "# **Индексация и срезы**\n",
        "\n"
      ]
    },
    {
      "cell_type": "code",
      "execution_count": 12,
      "metadata": {
        "colab": {
          "base_uri": "https://localhost:8080/"
        },
        "id": "xV0qH01Uxp4p",
        "outputId": "ceb8f94f-9621-47eb-cf51-868a0ee860b2"
      },
      "outputs": [
        {
          "name": "stdout",
          "output_type": "stream",
          "text": [
            "Первый элемент: S\n",
            "Последний элемент: m\n",
            "Срез элементов: ['p', 'a']\n",
            "Длина: 4\n"
          ]
        }
      ],
      "source": [
        "l = list('Spam')\n",
        "\n",
        "print('Первый элемент:',l[0])\n",
        "\n",
        "print('Последний элемент:',l[-1])\n",
        "\n",
        "print('Срез элементов:',l[1:-1])\n",
        "\n",
        "print('Длина:',len(l))"
      ]
    },
    {
      "cell_type": "markdown",
      "metadata": {
        "id": "D7wbeTeN09Hp"
      },
      "source": [
        "# **Индексация**\n",
        "\n",
        "Чтобы взять элемент по индексу, необходимо нужный индекс передать в квадратных скобках"
      ]
    },
    {
      "cell_type": "code",
      "execution_count": 13,
      "metadata": {
        "colab": {
          "base_uri": "https://localhost:8080/"
        },
        "id": "ed7KJofT3pyU",
        "outputId": "ecd53652-1528-4189-eca1-7f5614601eaa"
      },
      "outputs": [
        {
          "name": "stdout",
          "output_type": "stream",
          "text": [
            "Индекс - 0, элемент - \"Я\"\n",
            "Индекс - 1, элемент - \" \"\n",
            "Индекс - 2, элемент - \"п\"\n",
            "Индекс - 3, элемент - \"о\"\n",
            "Индекс - 4, элемент - \"м\"\n",
            "Индекс - 5, элемент - \"н\"\n",
            "Индекс - 6, элемент - \"ю\"\n",
            "Индекс - 7, элемент - \" \"\n",
            "Индекс - 8, элемент - \"ч\"\n",
            "Индекс - 9, элемент - \"у\"\n",
            "Индекс - 10, элемент - \"д\"\n",
            "Индекс - 11, элемент - \"н\"\n",
            "Индекс - 12, элемент - \"о\"\n",
            "Индекс - 13, элемент - \"е\"\n",
            "Индекс - 14, элемент - \" \"\n",
            "Индекс - 15, элемент - \"м\"\n",
            "Индекс - 16, элемент - \"г\"\n",
            "Индекс - 17, элемент - \"н\"\n",
            "Индекс - 18, элемент - \"о\"\n",
            "Индекс - 19, элемент - \"в\"\n",
            "Индекс - 20, элемент - \"е\"\n",
            "Индекс - 21, элемент - \"н\"\n",
            "Индекс - 22, элемент - \"ь\"\n",
            "Индекс - 23, элемент - \"е\"\n",
            "Индекс - 24, элемент - \"\n",
            "\"\n"
          ]
        },
        {
          "data": {
            "text/plain": [
              "['Я',\n",
              " ' ',\n",
              " 'п',\n",
              " 'о',\n",
              " 'м',\n",
              " 'н',\n",
              " 'ю',\n",
              " ' ',\n",
              " 'ч',\n",
              " 'у',\n",
              " 'д',\n",
              " 'н',\n",
              " 'о',\n",
              " 'е',\n",
              " ' ',\n",
              " 'м',\n",
              " 'г',\n",
              " 'н',\n",
              " 'о',\n",
              " 'в',\n",
              " 'е',\n",
              " 'н',\n",
              " 'ь',\n",
              " 'е',\n",
              " '\\n']"
            ]
          },
          "execution_count": 13,
          "metadata": {},
          "output_type": "execute_result"
        }
      ],
      "source": [
        "list_for_example = list('Я помню чудное мгновенье\\n')\n",
        "\n",
        "for i, element in enumerate(list_for_example):\n",
        "  print(f'Индекс - {i}, элемент - \"{element}\"')\n",
        "list_for_example"
      ]
    },
    {
      "cell_type": "markdown",
      "metadata": {
        "id": "6c29jC3q6msz"
      },
      "source": [
        "К одному и тому же элементу можно обращаться с помощью как прямой, так и отрицательной нумерации.\n",
        "\n",
        "Отрицательную нумерацию (-|отрицательный индекс|) можно воспринимать как сокращенную запись такого выражения: длинна_списка -|отрицательный индекс|\n",
        "\n",
        "Например, в нашем случае:\n",
        "\n",
        "-1 элемент <=> длинна_списка -1 = 24\n",
        "\n"
      ]
    },
    {
      "cell_type": "code",
      "execution_count": 14,
      "metadata": {
        "colab": {
          "base_uri": "https://localhost:8080/"
        },
        "id": "eDoVD_GS7rk8",
        "outputId": "82752321-0486-41fc-e3ed-6cc076967cce"
      },
      "outputs": [
        {
          "name": "stdout",
          "output_type": "stream",
          "text": [
            "длинна списка = 25, предпоследний элемент = 23\n"
          ]
        }
      ],
      "source": [
        "# да, переменные можно называть кирилицей, но  никогда! никогда! так не делайте\n",
        "# и ругайте тех, кто делает))\n",
        "# Так не принято! и не правильно с точки зрения стандартов стилистики!\n",
        "# я просто показываю вам, что так можно с точки зрения синтаксиса\n",
        "# чтобы вы знали, что могли написать переменную, допустив опечатку(поставив вместо латинской- a, русскую -а)\n",
        "# их визуально - не отличить, но для компьютера это будут разные переменные\n",
        "# и компьютер не будет \"ругаться\" на кирилицу\n",
        "len_of_list = len(list_for_example)\n",
        "last_element = len_of_list -2\n",
        "print(f'длинна списка = {len_of_list}, предпоследний элемент = {last_element}')\n"
      ]
    },
    {
      "cell_type": "code",
      "execution_count": 15,
      "metadata": {
        "colab": {
          "base_uri": "https://localhost:8080/"
        },
        "id": "ArDNrU5S077W",
        "outputId": "5f51c8cf-afef-43c6-dd59-ff3abb42f150"
      },
      "outputs": [
        {
          "name": "stdout",
          "output_type": "stream",
          "text": [
            "е <=> е\n"
          ]
        }
      ],
      "source": [
        "print(f'{list_for_example[-2]} <=> {list_for_example[23]}')"
      ]
    },
    {
      "cell_type": "code",
      "execution_count": 17,
      "metadata": {
        "colab": {
          "base_uri": "https://localhost:8080/",
          "height": 69
        },
        "id": "jf8aGxXRKq2P",
        "outputId": "808b5a40-5d30-4f19-8ffe-39160a6a2fcd"
      },
      "outputs": [
        {
          "name": "stdout",
          "output_type": "stream",
          "text": [
            "\n",
            "\n"
          ]
        },
        {
          "data": {
            "text/plain": [
              "'\\n'"
            ]
          },
          "execution_count": 17,
          "metadata": {},
          "output_type": "execute_result"
        }
      ],
      "source": [
        "# обратите внимние! последний элемент - символ переноса строки, это 1 элемент\n",
        "# (один символ: хоть он состоит из двух \\ и n, компьютер воспринемет его как единый сивол)\n",
        "# Также обратите внимние!  при выводе через принт его видно не будет\n",
        "print(list_for_example[-1])# строка просто перенесется # причем 2 раза, тк print тоже переносит строку\n",
        "list_for_example[-1]# однако его можно увидеть с помощью встроеного вывода в тетрадке"
      ]
    },
    {
      "cell_type": "code",
      "execution_count": 20,
      "metadata": {
        "colab": {
          "base_uri": "https://localhost:8080/"
        },
        "id": "TupoX7XIRf2i",
        "outputId": "8fc48074-acef-4223-c8a3-a9bf7828efc7"
      },
      "outputs": [
        {
          "name": "stdout",
          "output_type": "stream",
          "text": [
            "Вы ввели положительный индекс: 24, отрицательный индекс: -1\n",
            "Правильно\n"
          ]
        }
      ],
      "source": [
        "# здесь потренируйтесь находить положительные и отрицательные индексы\n",
        "# которые относятся к одному объекту\n",
        "positive_index = int(input('Введите число - положительный индекс: '))\n",
        "negative_index = int(input('Введите число - отрицательный индекс: '))\n",
        "# тут я использую однострочное условие, чтобы автоматизировать проверку, не обращайте внимание\n",
        "# скоро вы узнаете как это работает)\n",
        "print(f'Вы ввели положительный индекс: {positive_index}, отрицательный индекс: {negative_index}')\n",
        "print('Правильно' if (positive_index-len(list_for_example)) == negative_index else 'Неправильно')"
      ]
    },
    {
      "cell_type": "markdown",
      "metadata": {
        "id": "QHnxmyi5MtoK"
      },
      "source": [
        "# **Срезы**\n",
        "\n",
        "Срезы можно воспринимать как набор индексов, по которым мы хотим взять элементы.\n",
        "Срезы как и индексы - записываются в квадратных скобках.\n",
        "\n",
        "Схему среза можно описать следующим образом:\n",
        "\n",
        "[начало : конец(не включительно) : шаг]\n",
        "\n",
        "Это очень похоже на создание последовательности чисел c помощью range.\n",
        "Нужно уточнить,срез и range - разные по своей природе и с используются с разными целями, но интересно заметить, что если взять одинаковые: начало,конец и шаг, то range создаст последовательность чисел условно равную \"набору индексов\",который взьмет срез.\n",
        "\n",
        "Поясню о чем я говорю:\n",
        "\n"
      ]
    },
    {
      "cell_type": "code",
      "execution_count": null,
      "metadata": {
        "colab": {
          "base_uri": "https://localhost:8080/"
        },
        "id": "AfeWyKWdMs5F",
        "outputId": "e0e6cb09-6f2b-4f11-da74-a11fda19c9ed"
      },
      "outputs": [
        {
          "data": {
            "text/plain": [
              "[1, 3, 5, 7]"
            ]
          },
          "execution_count": 18,
          "metadata": {},
          "output_type": "execute_result"
        }
      ],
      "source": [
        "# сначала на списке с числами - число совпадает с индексами\n",
        "numbers_for_slice = [0, 1, 2, 3, 4, 5, 6, 7, 8, 9]\n",
        "numbers_for_slice[1:9:2]"
      ]
    },
    {
      "cell_type": "code",
      "execution_count": null,
      "metadata": {
        "colab": {
          "base_uri": "https://localhost:8080/"
        },
        "id": "nRSMIEyBiP5P",
        "outputId": "76ada9c7-6b2f-4c4b-ca5c-ca5b8769239e"
      },
      "outputs": [
        {
          "data": {
            "text/plain": [
              "['b', 'd', 'f', 'h']"
            ]
          },
          "execution_count": 19,
          "metadata": {},
          "output_type": "execute_result"
        }
      ],
      "source": [
        "# теперь с буквами\n",
        "chars_for_slice = ['a', 'b', 'c', 'd', 'e', 'f', 'g', 'h', 'i', 'j']\n",
        "chars_for_slice[1:9:2]"
      ]
    },
    {
      "cell_type": "code",
      "execution_count": null,
      "metadata": {
        "colab": {
          "base_uri": "https://localhost:8080/"
        },
        "id": "IalFmvVciFO5",
        "outputId": "9f708ec4-6398-4124-a7d6-1a6a9a62723b"
      },
      "outputs": [
        {
          "data": {
            "text/plain": [
              "[1, 3, 5, 7]"
            ]
          },
          "execution_count": 20,
          "metadata": {},
          "output_type": "execute_result"
        }
      ],
      "source": [
        "list(range(1, 9, 2))"
      ]
    },
    {
      "cell_type": "code",
      "execution_count": null,
      "metadata": {
        "colab": {
          "base_uri": "https://localhost:8080/"
        },
        "id": "Ism1jy3ribC2",
        "outputId": "77e6cea5-7cb5-40a1-98fa-519ee4789ec7"
      },
      "outputs": [
        {
          "name": "stdout",
          "output_type": "stream",
          "text": [
            "b\n",
            "d\n",
            "f\n",
            "h\n"
          ]
        }
      ],
      "source": [
        "print(chars_for_slice[1])\n",
        "print(chars_for_slice[3])\n",
        "print(chars_for_slice[5])\n",
        "print(chars_for_slice[7])"
      ]
    },
    {
      "cell_type": "markdown",
      "metadata": {
        "id": "yMtEXCv5jfqh"
      },
      "source": [
        "По сути срез:\n",
        "\n",
        "* Берет элементы с индексами - такими же, какие числа создал бы range - при тех же границах\n",
        "* И кладет эти элементы, в новый список\n",
        "\n",
        "\n",
        "\n",
        "> Срез не изменяет список, а создает новый  - поэтому, если его нужно  сохранить для будущих вычислений - его нужно записть в переменную.\n",
        "\n"
      ]
    },
    {
      "cell_type": "code",
      "execution_count": null,
      "metadata": {
        "colab": {
          "base_uri": "https://localhost:8080/"
        },
        "id": "Bq2kJVLtjRfS",
        "outputId": "cff1e8ea-423d-459b-ced4-42592b678fee"
      },
      "outputs": [
        {
          "data": {
            "text/plain": [
              "['b', 'd', 'f', 'h']"
            ]
          },
          "execution_count": 22,
          "metadata": {},
          "output_type": "execute_result"
        }
      ],
      "source": [
        "[chars_for_slice[1],chars_for_slice[3],chars_for_slice[5],chars_for_slice[7]] # примерно так"
      ]
    },
    {
      "cell_type": "markdown",
      "metadata": {
        "id": "cutL2vqjjKtM"
      },
      "source": [
        "Я рассматриваю срезы в Python и функцию range как взаимосвязанные концепции, поскольку понимание принципов работы одного из них облегчает понимание другого. Эта аналогия особенно полезна, когда нужно освежить в памяти детали работы срезов, вспоминая их через схожие принципы работы функции range."
      ]
    },
    {
      "cell_type": "code",
      "execution_count": null,
      "metadata": {
        "colab": {
          "base_uri": "https://localhost:8080/",
          "height": 225
        },
        "id": "Q6FOMw7XjKVF",
        "outputId": "c0cea154-2948-4a21-b8e1-5fa1fd6e9143"
      },
      "outputs": [
        {
          "ename": "TypeError",
          "evalue": "list indices must be integers or slices, not tuple",
          "output_type": "error",
          "traceback": [
            "\u001b[0;31m---------------------------------------------------------------------------\u001b[0m",
            "\u001b[0;31mTypeError\u001b[0m                                 Traceback (most recent call last)",
            "\u001b[0;32m<ipython-input-23-f68ebf01f5b1>\u001b[0m in \u001b[0;36m<cell line: 2>\u001b[0;34m()\u001b[0m\n\u001b[1;32m      1\u001b[0m \u001b[0;31m# так нелзя делать - будет ошибка\u001b[0m\u001b[0;34m\u001b[0m\u001b[0;34m\u001b[0m\u001b[0m\n\u001b[0;32m----> 2\u001b[0;31m \u001b[0mchars_for_slice\u001b[0m\u001b[0;34m[\u001b[0m\u001b[0;36m1\u001b[0m\u001b[0;34m,\u001b[0m\u001b[0;36m3\u001b[0m\u001b[0;34m,\u001b[0m\u001b[0;36m5\u001b[0m\u001b[0;34m,\u001b[0m\u001b[0;36m7\u001b[0m\u001b[0;34m]\u001b[0m\u001b[0;34m\u001b[0m\u001b[0;34m\u001b[0m\u001b[0m\n\u001b[0m",
            "\u001b[0;31mTypeError\u001b[0m: list indices must be integers or slices, not tuple"
          ]
        }
      ],
      "source": [
        "# так нелзя делать - будет ошибка\n",
        "chars_for_slice[1,3,5,7]"
      ]
    },
    {
      "cell_type": "code",
      "execution_count": null,
      "metadata": {
        "colab": {
          "base_uri": "https://localhost:8080/",
          "height": 225
        },
        "id": "ZQEGTvPjn-ip",
        "outputId": "8662af41-0251-49a5-9420-71b1bbc60398"
      },
      "outputs": [
        {
          "ename": "TypeError",
          "evalue": "list indices must be integers or slices, not range",
          "output_type": "error",
          "traceback": [
            "\u001b[0;31m---------------------------------------------------------------------------\u001b[0m",
            "\u001b[0;31mTypeError\u001b[0m                                 Traceback (most recent call last)",
            "\u001b[0;32m<ipython-input-24-8419f5084b99>\u001b[0m in \u001b[0;36m<cell line: 2>\u001b[0;34m()\u001b[0m\n\u001b[1;32m      1\u001b[0m \u001b[0;31m# и так\u001b[0m\u001b[0;34m\u001b[0m\u001b[0;34m\u001b[0m\u001b[0m\n\u001b[0;32m----> 2\u001b[0;31m \u001b[0mchars_for_slice\u001b[0m\u001b[0;34m[\u001b[0m\u001b[0mrange\u001b[0m\u001b[0;34m(\u001b[0m\u001b[0;36m1\u001b[0m\u001b[0;34m,\u001b[0m\u001b[0;36m9\u001b[0m\u001b[0;34m,\u001b[0m\u001b[0;36m2\u001b[0m\u001b[0;34m)\u001b[0m\u001b[0;34m]\u001b[0m\u001b[0;34m\u001b[0m\u001b[0;34m\u001b[0m\u001b[0m\n\u001b[0m",
            "\u001b[0;31mTypeError\u001b[0m: list indices must be integers or slices, not range"
          ]
        }
      ],
      "source": [
        "# и так\n",
        "chars_for_slice[range(1,9,2)]"
      ]
    },
    {
      "cell_type": "code",
      "execution_count": null,
      "metadata": {
        "colab": {
          "base_uri": "https://localhost:8080/",
          "height": 225
        },
        "id": "bkZZb5GnoPvo",
        "outputId": "b6652839-5c0c-40bf-8ab4-69f25499dbda"
      },
      "outputs": [
        {
          "ename": "TypeError",
          "evalue": "list indices must be integers or slices, not list",
          "output_type": "error",
          "traceback": [
            "\u001b[0;31m---------------------------------------------------------------------------\u001b[0m",
            "\u001b[0;31mTypeError\u001b[0m                                 Traceback (most recent call last)",
            "\u001b[0;32m<ipython-input-25-0451a8fad362>\u001b[0m in \u001b[0;36m<cell line: 2>\u001b[0;34m()\u001b[0m\n\u001b[1;32m      1\u001b[0m \u001b[0;31m# и так\u001b[0m\u001b[0;34m\u001b[0m\u001b[0;34m\u001b[0m\u001b[0m\n\u001b[0;32m----> 2\u001b[0;31m \u001b[0mchars_for_slice\u001b[0m\u001b[0;34m[\u001b[0m\u001b[0mlist\u001b[0m\u001b[0;34m(\u001b[0m\u001b[0mrange\u001b[0m\u001b[0;34m(\u001b[0m\u001b[0;36m1\u001b[0m\u001b[0;34m,\u001b[0m\u001b[0;36m9\u001b[0m\u001b[0;34m,\u001b[0m\u001b[0;36m2\u001b[0m\u001b[0;34m)\u001b[0m\u001b[0;34m)\u001b[0m\u001b[0;34m]\u001b[0m\u001b[0;34m\u001b[0m\u001b[0;34m\u001b[0m\u001b[0m\n\u001b[0m",
            "\u001b[0;31mTypeError\u001b[0m: list indices must be integers or slices, not list"
          ]
        }
      ],
      "source": [
        "# и так\n",
        "chars_for_slice[list(range(1,9,2))]"
      ]
    },
    {
      "cell_type": "markdown",
      "metadata": {
        "id": "8i2GFy8go1EO"
      },
      "source": [
        "У срезов можно опускать(не писать) некоторые значение"
      ]
    },
    {
      "cell_type": "code",
      "execution_count": null,
      "metadata": {
        "colab": {
          "base_uri": "https://localhost:8080/"
        },
        "id": "Ph-nWe1Voyz1",
        "outputId": "affb4360-17f8-4150-9991-80e7d4de1f2a"
      },
      "outputs": [
        {
          "data": {
            "text/plain": [
              "['Я', ' ', 'п', 'о', 'м', 'н', 'ю']"
            ]
          },
          "execution_count": 26,
          "metadata": {},
          "output_type": "execute_result"
        }
      ],
      "source": [
        "# например не указывать шаг - по умолчанию шаг = 1\n",
        "list_for_example[0:7]"
      ]
    },
    {
      "cell_type": "code",
      "execution_count": null,
      "metadata": {
        "colab": {
          "base_uri": "https://localhost:8080/"
        },
        "id": "JA60zK2ApmuE",
        "outputId": "49220963-0397-43c4-e416-7f30e06f3c0d"
      },
      "outputs": [
        {
          "data": {
            "text/plain": [
              "['Я', 'н', 'д', 'м', 'е']"
            ]
          },
          "execution_count": 27,
          "metadata": {},
          "output_type": "execute_result"
        }
      ],
      "source": [
        "# или не указывать конец - по умолчанию конец = длине списка\n",
        "list_for_example[0::5]"
      ]
    },
    {
      "cell_type": "code",
      "execution_count": null,
      "metadata": {
        "colab": {
          "base_uri": "https://localhost:8080/"
        },
        "id": "W6jxq5dDqFQ4",
        "outputId": "9560471b-3d24-4946-aaa3-4cb3f5ddcfa9"
      },
      "outputs": [
        {
          "data": {
            "text/plain": [
              "['Я', 'н', 'д', 'м', 'е']"
            ]
          },
          "execution_count": 28,
          "metadata": {},
          "output_type": "execute_result"
        }
      ],
      "source": [
        "# или не указывать начало - по умолчанию начало = 0\n",
        "list_for_example[::5]"
      ]
    },
    {
      "cell_type": "code",
      "execution_count": null,
      "metadata": {
        "colab": {
          "base_uri": "https://localhost:8080/"
        },
        "id": "-pfX2SxRqzbi",
        "outputId": "180b33da-365a-4f93-c80a-db5fea73db07"
      },
      "outputs": [
        {
          "data": {
            "text/plain": [
              "['Я',\n",
              " ' ',\n",
              " 'п',\n",
              " 'о',\n",
              " 'м',\n",
              " 'н',\n",
              " 'ю',\n",
              " ' ',\n",
              " 'ч',\n",
              " 'у',\n",
              " 'д',\n",
              " 'н',\n",
              " 'о',\n",
              " 'е',\n",
              " ' ',\n",
              " 'м',\n",
              " 'г',\n",
              " 'н',\n",
              " 'о',\n",
              " 'в',\n",
              " 'е',\n",
              " 'н',\n",
              " 'ь',\n",
              " 'е',\n",
              " '\\n']"
            ]
          },
          "execution_count": 29,
          "metadata": {},
          "output_type": "execute_result"
        }
      ],
      "source": [
        "# или ничго не указывать, тогда сздается копия списка\n",
        "list_for_example[:]"
      ]
    },
    {
      "cell_type": "code",
      "execution_count": null,
      "metadata": {
        "colab": {
          "base_uri": "https://localhost:8080/"
        },
        "id": "lKqCNvu0svBw",
        "outputId": "f9c2ca48-b166-41cf-b576-f32155c09d20"
      },
      "outputs": [
        {
          "data": {
            "text/plain": [
              "[0, 1, 2, 3, 4, 5, 6, 7, 8, 9, 10, 11, 12, 13, 14, 15, 16, 17, 18, 19]"
            ]
          },
          "execution_count": 30,
          "metadata": {},
          "output_type": "execute_result"
        }
      ],
      "source": [
        "list_for_example_num = list(range(20))# можно не указывать начало - по умолчанию = 0, шаг по умолчанию = 1\n",
        "list_for_example_num"
      ]
    },
    {
      "cell_type": "code",
      "execution_count": null,
      "metadata": {
        "colab": {
          "base_uri": "https://localhost:8080/"
        },
        "id": "1gUlnbYJoZMu",
        "outputId": "bb7b2e8a-4c68-4ba1-ba90-082baa80669b"
      },
      "outputs": [
        {
          "data": {
            "text/plain": [
              "[]"
            ]
          },
          "execution_count": 31,
          "metadata": {},
          "output_type": "execute_result"
        }
      ],
      "source": [
        "# здесь потренируйтесь брать разные срезы, каждый раз думайте, почему так получилось\n",
        "# сначала со числами\n",
        "# пример:\n",
        "list_for_example_num[-1:-5: 2] # пустой список\n",
        "# Почему? - мы идем от последнего элемента (19) - в право(положительный шаг)- справа больше нет элементов - соответсвенно, список пустой"
      ]
    },
    {
      "cell_type": "code",
      "execution_count": null,
      "metadata": {
        "colab": {
          "base_uri": "https://localhost:8080/"
        },
        "id": "P26Io6WLt94g",
        "outputId": "3854b487-def2-4d9b-b2ae-9b648a80a699"
      },
      "outputs": [
        {
          "data": {
            "text/plain": [
              "['\\n', 'н', 'о', 'м', 'о']"
            ]
          },
          "execution_count": 32,
          "metadata": {},
          "output_type": "execute_result"
        }
      ],
      "source": [
        "#теперь с буквами\n",
        "# пример:\n",
        "list_for_example[-1:-15: -3]"
      ]
    },
    {
      "cell_type": "markdown",
      "metadata": {
        "id": "gwaaM9_fyz1F"
      },
      "source": [
        "# **Вложеные списки**\n",
        "\n",
        "Вложеный список, это список, который является элементом другого списка."
      ]
    },
    {
      "cell_type": "code",
      "execution_count": 21,
      "metadata": {
        "colab": {
          "base_uri": "https://localhost:8080/"
        },
        "id": "xZamBd-o090S",
        "outputId": "ee4180cf-f979-4efb-dce2-d5b3447825b1"
      },
      "outputs": [
        {
          "name": "stdout",
          "output_type": "stream",
          "text": [
            "Первый элемент: 0\n",
            "Последний элемент - вложенный список: [4, 5]\n",
            "Первая переменная вложенного списка: 4\n",
            "Опять, первая переменная вложенного списка: 4\n"
          ]
        }
      ],
      "source": [
        "list_with_nested_list = [0,1,2,[4,5]]\n",
        "print('Первый элемент:',list_with_nested_list[0])\n",
        "print('Последний элемент - вложенный список:',list_with_nested_list[-1])\n",
        "nested_list = list_with_nested_list[-1]\n",
        "print('Первая переменная вложенного списка:',nested_list[0])\n",
        "# То же самое, но сразу( не через отдельную переменную)\n",
        "print('Опять, первая переменная вложенного списка:', list_with_nested_list[-1][0])"
      ]
    },
    {
      "cell_type": "markdown",
      "metadata": {
        "id": "MS5o_QTl0vOQ"
      },
      "source": [
        "# **Индексация во вложенном списке**\n",
        "\n",
        "Мне кажется, что индексацию во вложенном списке легче их объяснить через матрицы  -  тем более, что это будет полезно при изучении numpy, в дальнейшем."
      ]
    },
    {
      "cell_type": "code",
      "execution_count": null,
      "metadata": {
        "colab": {
          "base_uri": "https://localhost:8080/"
        },
        "id": "nZzESzQxxEX0",
        "outputId": "e8a1ec85-3f03-4baa-a43f-8369aea85100"
      },
      "outputs": [
        {
          "name": "stdout",
          "output_type": "stream",
          "text": [
            "Первая строчка: [1, 2, 3]\n",
            "Вторая строчка: [4, 5, 6]\n",
            "Третья строчка: [7, 8, 9]\n"
          ]
        }
      ],
      "source": [
        "matrix = [[1,2,3],\n",
        "          [4,5,6],\n",
        "          [7,8,9]] # лайфхак, можно писать элементы списка на разных строчках)\n",
        "# по сути это матрица - первый элемент этого списка - это первая строчка матрицы\n",
        "print('Первая строчка:', matrix[0])\n",
        "# Второй элемент этого списка - это вторая строчка матрицы\n",
        "print('Вторая строчка:', matrix[1])\n",
        "# Третий элемент этого списка - это третья строчка матрицы\n",
        "print('Третья строчка:', matrix[2])"
      ]
    },
    {
      "cell_type": "code",
      "execution_count": null,
      "metadata": {
        "colab": {
          "base_uri": "https://localhost:8080/"
        },
        "id": "YeOMyq912437",
        "outputId": "fbe73baa-f4f9-4546-808f-c7b357130206"
      },
      "outputs": [
        {
          "name": "stdout",
          "output_type": "stream",
          "text": [
            "Первая строчка, первый столбец: 1\n",
            "Вторая строчка, второй столбец: 5\n",
            "Третья строчка, третий столбец: 9\n"
          ]
        }
      ],
      "source": [
        "#Теперь переходим к индексации по вложенным спискам\n",
        "# элементы списка - это строчки, тогда, указывая индекс вложенного элемента - номер столбца\n",
        "# --> первый элемент этого списка и первый элемент в вложеном - это первая строчка матрицы\n",
        "print('Первая строчка, первый столбец:', matrix[0][0])\n",
        "print('Вторая строчка, второй столбец:', matrix[1][1])\n",
        "print('Третья строчка, третий столбец:', matrix[2][2])"
      ]
    },
    {
      "cell_type": "code",
      "execution_count": null,
      "metadata": {
        "colab": {
          "base_uri": "https://localhost:8080/"
        },
        "id": "JBSCzfwM69gQ",
        "outputId": "c69cebdd-370c-4b7d-a9dd-0b6122073dc9"
      },
      "outputs": [
        {
          "data": {
            "text/plain": [
              "4"
            ]
          },
          "execution_count": 37,
          "metadata": {},
          "output_type": "execute_result"
        }
      ],
      "source": [
        "# Также может быть вложенный, во вложенный, во вложенный ... список (без ограничений)\n",
        "nested_lists = [1,[2,[3,[4]]]]\n",
        "nested_lists[-1][-1][-1][0]"
      ]
    },
    {
      "cell_type": "code",
      "execution_count": null,
      "metadata": {
        "id": "-e-KPOpJ72eA"
      },
      "outputs": [],
      "source": [
        "# Здесь попробуйте создать разные списки с вложеными во вложннные и тд списками\n",
        "# и попрбуйте повыводить разные элементы этих списков"
      ]
    },
    {
      "cell_type": "markdown",
      "metadata": {
        "id": "JngUATx77z8R"
      },
      "source": [
        "# Конкатенация в списках"
      ]
    },
    {
      "cell_type": "code",
      "execution_count": null,
      "metadata": {
        "colab": {
          "base_uri": "https://localhost:8080/"
        },
        "id": "SS30yZsF7zRq",
        "outputId": "7476f016-086d-4999-ffaa-2765c03f93a8"
      },
      "outputs": [
        {
          "name": "stdout",
          "output_type": "stream",
          "text": [
            "Пример конкатенации: [1, 2, 3, 4, 5, 6]\n",
            "Пример дублирования: [1, 2, 3, 1, 2, 3]\n"
          ]
        }
      ],
      "source": [
        "# Конкатенация\n",
        "\n",
        "list1 = [1,2,3]\n",
        "list2 = [4,5,6]\n",
        "print('Пример конкатенации:',list1 + list2)\n",
        "\n",
        "# Дублирование\n",
        "print('Пример дублирования:',list1 *2)"
      ]
    },
    {
      "cell_type": "markdown",
      "metadata": {
        "id": "Jx5kRaDa9OKY"
      },
      "source": [
        "# Методы: добавление элементов в список\n",
        "Не обязательно заучивать все методы - то что часто используется - запомниться само, а то что нечасто -всегда можно загуглить,главное знать,что такое есть."
      ]
    },
    {
      "cell_type": "markdown",
      "metadata": {
        "id": "c502AF1R_OPK"
      },
      "source": [
        "append()"
      ]
    },
    {
      "cell_type": "code",
      "execution_count": null,
      "metadata": {
        "id": "bGKJmDeU9Xlp"
      },
      "outputs": [],
      "source": [
        "list1 = [1,2,3]\n",
        "list2 = [4,5,6]"
      ]
    },
    {
      "cell_type": "code",
      "execution_count": null,
      "metadata": {
        "colab": {
          "base_uri": "https://localhost:8080/"
        },
        "id": "ky75CLke9SxT",
        "outputId": "01eb2919-6d0a-495c-d5a3-86968efb129c"
      },
      "outputs": [
        {
          "data": {
            "text/plain": [
              "[1, 2, 3, [4, 5, 6]]"
            ]
          },
          "execution_count": 41,
          "metadata": {},
          "output_type": "execute_result"
        }
      ],
      "source": [
        "list1.append(list2) # Добавляет элемент в конец списка\n",
        "list1"
      ]
    },
    {
      "cell_type": "code",
      "execution_count": null,
      "metadata": {
        "colab": {
          "base_uri": "https://localhost:8080/"
        },
        "id": "fXYjcYwR94Rg",
        "outputId": "57ae2e29-f133-481c-df50-4907f870157c"
      },
      "outputs": [
        {
          "name": "stdout",
          "output_type": "stream",
          "text": [
            "None\n"
          ]
        }
      ],
      "source": [
        "# Метод append изменяет список \"на месте\" и ничего не возвращает\n",
        "print(list1.append(list2))\n"
      ]
    },
    {
      "cell_type": "code",
      "execution_count": null,
      "metadata": {
        "colab": {
          "base_uri": "https://localhost:8080/"
        },
        "id": "cBOJ3ssN-Z0n",
        "outputId": "a970da52-363d-4d55-f3f2-ae0cdb4d48d8"
      },
      "outputs": [
        {
          "data": {
            "text/plain": [
              "[1, 2, 3, [4, 5, 6], [4, 5, 6]]"
            ]
          },
          "execution_count": 43,
          "metadata": {},
          "output_type": "execute_result"
        }
      ],
      "source": [
        "# не теперь, в list1, list2 - повторяется два раза, тк где бы он ни был - он выполняет свое действие, добавляет переданый ему аргумент в список\n",
        "list1\n"
      ]
    },
    {
      "cell_type": "markdown",
      "metadata": {
        "id": "cliSrBZT9TQ_"
      },
      "source": [
        "extend()"
      ]
    },
    {
      "cell_type": "code",
      "execution_count": null,
      "metadata": {
        "id": "B7np1zPb90Ij"
      },
      "outputs": [],
      "source": [
        "# Перезапишем list1, чтобы его освежить\n",
        "list1 = [1,2,3]"
      ]
    },
    {
      "cell_type": "code",
      "execution_count": null,
      "metadata": {
        "colab": {
          "base_uri": "https://localhost:8080/"
        },
        "id": "hK5rn4FZ_lvf",
        "outputId": "a435c8d7-a903-4772-cd4d-5a7205289729"
      },
      "outputs": [
        {
          "data": {
            "text/plain": [
              "[1, 2, 3, 4, 5, 6]"
            ]
          },
          "execution_count": 45,
          "metadata": {},
          "output_type": "execute_result"
        }
      ],
      "source": [
        "list1.extend(list2) # Расширяет список list1, добавляя в конец все элементы списка list2\n",
        "list1"
      ]
    },
    {
      "cell_type": "code",
      "execution_count": null,
      "metadata": {
        "colab": {
          "base_uri": "https://localhost:8080/"
        },
        "id": "j0Mi4wmVAA-a",
        "outputId": "cc74ee7d-feb4-4b36-cfa9-18757c9ccd7f"
      },
      "outputs": [
        {
          "data": {
            "text/plain": [
              "[1, 2, 3, 4, 5, 6]"
            ]
          },
          "execution_count": 46,
          "metadata": {},
          "output_type": "execute_result"
        }
      ],
      "source": [
        "# это похоже на конкатенацию\n",
        "# Перезапишем list1, чтобы его освежить\n",
        "list1 = [1,2,3]\n",
        "list1+list2"
      ]
    },
    {
      "cell_type": "code",
      "execution_count": null,
      "metadata": {
        "colab": {
          "base_uri": "https://localhost:8080/"
        },
        "id": "B0_sJziNARb7",
        "outputId": "316186cb-9eaa-40cc-f3b1-7670f360dbb0"
      },
      "outputs": [
        {
          "name": "stdout",
          "output_type": "stream",
          "text": [
            "[1, 2, 3, 4, 5, 6]\n"
          ]
        },
        {
          "data": {
            "text/plain": [
              "[1, 2, 3]"
            ]
          },
          "execution_count": 47,
          "metadata": {},
          "output_type": "execute_result"
        }
      ],
      "source": [
        "# за исключением двух моментов\n",
        "# 1. extend - меняет список на месте, также как и append\n",
        "# а конкатенация - создает новый список\n",
        "print(list1+list2)\n",
        "list1 # не поменялся"
      ]
    },
    {
      "cell_type": "code",
      "execution_count": null,
      "metadata": {
        "colab": {
          "base_uri": "https://localhost:8080/"
        },
        "id": "SZJ0lIo9CAjB",
        "outputId": "4d7e51cb-b782-49e1-e911-563724d2a968"
      },
      "outputs": [
        {
          "data": {
            "text/plain": [
              "[1, 2, 3, 4, 5, 6, [1, 2, 3], [4, 5, 6], [7, 8, 9]]"
            ]
          },
          "execution_count": 48,
          "metadata": {},
          "output_type": "execute_result"
        }
      ],
      "source": [
        "#2. мы можем конкатенировать несколько списков сразу\n",
        "list1 + list2 + matrix"
      ]
    },
    {
      "cell_type": "markdown",
      "metadata": {
        "id": "Cc1SuIgiCVzn"
      },
      "source": [
        "insert(i,x) - вставляет на позицию с i-м индексом значение x.\n",
        "\n",
        "insert(i,x) -досточно редко применяется, но решила добавить сюда, как бонус)\n",
        "\n",
        "В примере мы вставляем на позицию с 1-м индексом - значение 'То, что хотели вставить на позицию c индексом 1'"
      ]
    },
    {
      "cell_type": "code",
      "execution_count": null,
      "metadata": {
        "colab": {
          "base_uri": "https://localhost:8080/"
        },
        "id": "y-W29GgwCSTY",
        "outputId": "7cc024a0-3d06-450a-ea44-d0d36a2af295"
      },
      "outputs": [
        {
          "data": {
            "text/plain": [
              "[1, 'То, что хотели вставить на позицию c индексом 1', 2, 3]"
            ]
          },
          "execution_count": 49,
          "metadata": {},
          "output_type": "execute_result"
        }
      ],
      "source": [
        "list1.insert(1,'То, что хотели вставить на позицию c индексом 1')\n",
        "list1 # insert меняет список \"на месте\"\n",
        "# Попробуйте позапускать этот слот несколько раз\n",
        "# Почему так получается?"
      ]
    },
    {
      "cell_type": "code",
      "execution_count": null,
      "metadata": {
        "colab": {
          "base_uri": "https://localhost:8080/"
        },
        "id": "T1BUM6zfEglw",
        "outputId": "6496b8c4-4b0a-4848-df73-94c83caf6824"
      },
      "outputs": [
        {
          "data": {
            "text/plain": [
              "[1, 2, 3, 'hey']"
            ]
          },
          "execution_count": 50,
          "metadata": {},
          "output_type": "execute_result"
        }
      ],
      "source": [
        "# Если выходим за рамки индексации (хотим вставить элемент на позицию с 100м индексом, хотя размер списка всего лишь 3),\n",
        "list1 = [1,2,3]\n",
        "list1.insert(100,'hey')\n",
        "list1"
      ]
    },
    {
      "cell_type": "markdown",
      "metadata": {
        "id": "OHeK1_i2FL4-"
      },
      "source": [
        "# Методы: поиск"
      ]
    },
    {
      "cell_type": "code",
      "execution_count": null,
      "metadata": {
        "colab": {
          "base_uri": "https://localhost:8080/"
        },
        "id": "fHWzkRL9FHeK",
        "outputId": "7c71877f-ceea-4867-e82c-d55d9169bc4f"
      },
      "outputs": [
        {
          "name": "stdout",
          "output_type": "stream",
          "text": [
            "Индекс элемента 3: 2\n",
            "Индекс эелемента 2: 1\n",
            "Сколько элементов в списке со значением 3: 2\n"
          ]
        }
      ],
      "source": [
        "l = [1,2,3,3]\n",
        "\n",
        "a = l.index(3) # Возвращает позицию элемента. Если элементов несколько то значение первого вхождения\n",
        "b = l.index(2)\n",
        "c = l.count(3) # Определяет сколько раз элемент встречается в списке\n",
        "\n",
        "print('Индекс элемента 3:',a)\n",
        "print('Индекс эелемента 2:',b)\n",
        "print('Сколько элементов в списке со значением 3:',c)"
      ]
    },
    {
      "cell_type": "markdown",
      "metadata": {
        "id": "MNuacPdGFj74"
      },
      "source": [
        "# Методы: сортировка, изменение порядка следования элементов на обратный"
      ]
    },
    {
      "cell_type": "code",
      "execution_count": null,
      "metadata": {
        "colab": {
          "base_uri": "https://localhost:8080/"
        },
        "id": "lIdnoHjfFv_Q",
        "outputId": "831397ac-7604-4c5c-9d82-1671fbcfe21f"
      },
      "outputs": [
        {
          "name": "stdout",
          "output_type": "stream",
          "text": [
            "[1, 1, 2, 3, 3, 4, 7, 8, 9]\n"
          ]
        }
      ],
      "source": [
        "l1 = [1,3,2,1,8,7,3,4,9]\n",
        "l1.sort() # Метод сортировки, изменяет список \"на месте\"\n",
        "print(l1)"
      ]
    },
    {
      "cell_type": "code",
      "execution_count": null,
      "metadata": {
        "colab": {
          "base_uri": "https://localhost:8080/"
        },
        "id": "n2ELzbv2GOU3",
        "outputId": "f881238e-d1d6-41a7-9ba3-806c38609ab7"
      },
      "outputs": [
        {
          "name": "stdout",
          "output_type": "stream",
          "text": [
            "[9, 8, 7, 4, 3, 3, 2, 1, 1]\n"
          ]
        }
      ],
      "source": [
        "l1 = [1,3,2,1,8,7,3,4,9]\n",
        "l1.sort(reverse = True) # Так сортировка будет в обратном направлении\n",
        "print(l1)"
      ]
    },
    {
      "cell_type": "code",
      "execution_count": null,
      "metadata": {
        "colab": {
          "base_uri": "https://localhost:8080/"
        },
        "id": "_P4zZwnCG9-3",
        "outputId": "c64c796a-c630-4c4f-d537-f8dba54d7d56"
      },
      "outputs": [
        {
          "name": "stdout",
          "output_type": "stream",
          "text": [
            "Исходный список: [1, 3, 2, 1, 8, 7, 3, 4, 9]\n",
            "Новый список: [1, 1, 2, 3, 3, 4, 7, 8, 9]\n",
            "Разница между list.sort() и sorted() заключается в том, что первый метод изменяет исходный список, а встроенная функция создает новый объект\n"
          ]
        }
      ],
      "source": [
        "l1 = [1,3,2,1,8,7,3,4,9]\n",
        "l2 = sorted(l1)\n",
        "\n",
        "print('Исходный список:',l1)\n",
        "print('Новый список:',l2)\n",
        "print('Разница между list.sort() и sorted() заключается в том, что первый метод изменяет исходный список, а встроенная функция создает новый объект')"
      ]
    },
    {
      "cell_type": "code",
      "execution_count": null,
      "metadata": {
        "colab": {
          "base_uri": "https://localhost:8080/"
        },
        "id": "ZvaYe7vSHSNG",
        "outputId": "085c4d87-cd9e-4ab6-854c-21d156c9d8b3"
      },
      "outputs": [
        {
          "name": "stdout",
          "output_type": "stream",
          "text": [
            "[9, 4, 3, 7, 8, 1, 2, 3, 1]\n"
          ]
        }
      ],
      "source": [
        "l1 = [1,3,2,1,8,7,3,4,9]\n",
        "l1.reverse() # переворачиваем список и изменяет его \"на месте\"\n",
        "print(l1)"
      ]
    },
    {
      "cell_type": "code",
      "execution_count": null,
      "metadata": {
        "colab": {
          "base_uri": "https://localhost:8080/"
        },
        "id": "aObXW5qgHkkQ",
        "outputId": "04919820-2475-433b-a501-51185913fa04"
      },
      "outputs": [
        {
          "name": "stdout",
          "output_type": "stream",
          "text": [
            "[9, 4, 3, 7, 8, 1, 2, 3, 1]\n"
          ]
        }
      ],
      "source": [
        "# Альтернативный способ. В чем разница?\n",
        "l1 = [1,3,2,1,8,7,3,4,9]\n",
        "print(l1[::-1])"
      ]
    },
    {
      "cell_type": "markdown",
      "metadata": {
        "id": "uyQ6I29tH4WV"
      },
      "source": [
        "# Уменьшение списка"
      ]
    },
    {
      "cell_type": "code",
      "execution_count": null,
      "metadata": {
        "colab": {
          "base_uri": "https://localhost:8080/"
        },
        "id": "cXwh4c8VH6Xm",
        "outputId": "bec25765-f70e-441f-c15d-3f39a0b340e5"
      },
      "outputs": [
        {
          "name": "stdout",
          "output_type": "stream",
          "text": [
            "[3, 2, 1, 8, 7, 3, 4, 9]\n"
          ]
        }
      ],
      "source": [
        "# Удаление элемента по индексу\n",
        "l1 = [1,3,2,1,8,7,3,4,9]\n",
        "del l1[0] # Передаем индекс, который хотим удалить\n",
        "print(l1) # del меняет список на месте"
      ]
    },
    {
      "cell_type": "code",
      "execution_count": null,
      "metadata": {
        "colab": {
          "base_uri": "https://localhost:8080/"
        },
        "id": "-NBMjiU9IMCv",
        "outputId": "6805d262-4118-4d1e-8c35-5697ef46a9e3"
      },
      "outputs": [
        {
          "name": "stdout",
          "output_type": "stream",
          "text": [
            "[1, 8, 7, 3, 4, 9]\n"
          ]
        }
      ],
      "source": [
        "# Можно удалять срезы\n",
        "l1 = [1,3,2,1,8,7,3,4,9]\n",
        "\n",
        "del l1[0:3]\n",
        "print(l1)"
      ]
    },
    {
      "cell_type": "code",
      "execution_count": null,
      "metadata": {
        "colab": {
          "base_uri": "https://localhost:8080/"
        },
        "id": "ldD674HaIqSU",
        "outputId": "f39a5696-e01b-4cdd-f5be-4544066dc9b1"
      },
      "outputs": [
        {
          "name": "stdout",
          "output_type": "stream",
          "text": [
            "Исходный список: [1, 3, 2, 1, 8]\n",
            "Сохранили значение удаленного элемента: 1\n",
            "При этом изменили исходный список: [3, 2, 1, 8]\n"
          ]
        }
      ],
      "source": [
        "# Функция pop() принимает на вход индекс списка. Возвращает значение удаленного элемента\n",
        "l1 = [1,3,2,1,8]\n",
        "print('Исходный список:', l1)\n",
        "\n",
        "element  = l1.pop(0)\n",
        "print('Сохранили значение удаленного элемента:',element)\n",
        "print('При этом изменили исходный список:',l1)"
      ]
    },
    {
      "cell_type": "code",
      "execution_count": null,
      "metadata": {
        "colab": {
          "base_uri": "https://localhost:8080/"
        },
        "id": "oE7J_HwKJJRC",
        "outputId": "5fee8253-b7c8-4156-be61-329a102d2da4"
      },
      "outputs": [
        {
          "name": "stdout",
          "output_type": "stream",
          "text": [
            "Исходный список: [1, 3, 2, 1, 8]\n",
            "Удалилось только первое вхождение: [3, 2, 1, 8]\n",
            "Полностью убрали значение 1 из списка: [3, 2, 8]\n"
          ]
        }
      ],
      "source": [
        "# Функция remove(x) удаляет из списка x, где x - значение элемента. Удаляется только первое вхождение элемента!\n",
        "l1 = [1,3,2,1,8]\n",
        "print('Исходный список:', l1)\n",
        "\n",
        "l1.remove(1)\n",
        "print('Удалилось только первое вхождение:',l1)\n",
        "l1.remove(1)\n",
        "print('Полностью убрали значение 1 из списка:',l1)"
      ]
    },
    {
      "cell_type": "code",
      "execution_count": null,
      "metadata": {
        "colab": {
          "base_uri": "https://localhost:8080/"
        },
        "id": "Y-_MqTaRJdLr",
        "outputId": "b4e9f228-344e-498b-ea83-dddd144a8a1c"
      },
      "outputs": [
        {
          "data": {
            "text/plain": [
              "[8]"
            ]
          },
          "execution_count": 61,
          "metadata": {},
          "output_type": "execute_result"
        }
      ],
      "source": [
        "# Можно присвоить по срезу пустой список. Является альтернативой методам выше\n",
        "l1 = [1,3,2,1,8]\n",
        "l1[:-1] = []\n",
        "l1"
      ]
    },
    {
      "cell_type": "code",
      "execution_count": null,
      "metadata": {
        "colab": {
          "base_uri": "https://localhost:8080/"
        },
        "id": "ZDSTFa1iKHJY",
        "outputId": "e5f104a6-0cdc-45f8-ea38-ac6863233340"
      },
      "outputs": [
        {
          "data": {
            "text/plain": [
              "[[], 3, 2, 1, 8]"
            ]
          },
          "execution_count": 62,
          "metadata": {},
          "output_type": "execute_result"
        }
      ],
      "source": [
        "# также по индексу можно поменять значение\n",
        "l1 = [1,3,2,1,8]\n",
        "l1[0] = []\n",
        "l1"
      ]
    },
    {
      "cell_type": "code",
      "execution_count": null,
      "metadata": {
        "colab": {
          "base_uri": "https://localhost:8080/"
        },
        "id": "GyKLgo4HKcMu",
        "outputId": "74b97822-6155-450e-da79-741f57c18250"
      },
      "outputs": [
        {
          "data": {
            "text/plain": [
              "['поменяли', 3, 2, 1, 8]"
            ]
          },
          "execution_count": 63,
          "metadata": {},
          "output_type": "execute_result"
        }
      ],
      "source": [
        "# также по индексу можно поменять значение\n",
        "l1 = [1,3,2,1,8]\n",
        "l1[0] = 'поменяли'\n",
        "l1"
      ]
    },
    {
      "cell_type": "code",
      "execution_count": null,
      "metadata": {
        "colab": {
          "base_uri": "https://localhost:8080/"
        },
        "id": "qBWZtYVPKm8v",
        "outputId": "db5c670c-5749-4025-a1ef-e6d0ed8cbce3"
      },
      "outputs": [
        {
          "name": "stdout",
          "output_type": "stream",
          "text": [
            "Исходный список: ['Hello', 'Hi', 6, 7]\n",
            "Вставили вместо элементов среза - элементы списка срезу: [1, 2, 3, 4, 5, 6, 7]\n",
            "Заменили элемент на вложенный список по индексу: [['Hello', 'World!'], 2, 3, 4, 5, 6, 7]\n"
          ]
        }
      ],
      "source": [
        "# Можно проводить замену по срезу\n",
        "l1 = ['Hello','Hi',6,7]\n",
        "print('Исходный список:',l1)\n",
        "l1[0:2] = [1,2,3,4,5]\n",
        "print('Вставили вместо элементов среза - элементы списка срезу:',l1)\n",
        "l1[0] = ['Hello','World!']\n",
        "print('Заменили элемент на вложенный список по индексу:',l1)"
      ]
    },
    {
      "cell_type": "code",
      "execution_count": null,
      "metadata": {
        "colab": {
          "base_uri": "https://localhost:8080/"
        },
        "id": "SGyoGcgJOJfU",
        "outputId": "d53bbff4-76dd-4858-a2e4-f61e58c6ba5b"
      },
      "outputs": [
        {
          "data": {
            "text/plain": [
              "True"
            ]
          },
          "execution_count": 65,
          "metadata": {},
          "output_type": "execute_result"
        }
      ],
      "source": [
        "# проверка вхождения\n",
        "l1 = ['Hello','Hi',6,7]\n",
        "check = 'Hi' in l1 # Возвращает True, если такой элемент есть в списке, иначе False\n",
        "check"
      ]
    },
    {
      "cell_type": "code",
      "execution_count": null,
      "metadata": {
        "colab": {
          "base_uri": "https://localhost:8080/"
        },
        "id": "U6J2LeCzOzEP",
        "outputId": "7666457f-e7e0-459f-8666-e508c0f00826"
      },
      "outputs": [
        {
          "data": {
            "text/plain": [
              "False"
            ]
          },
          "execution_count": 66,
          "metadata": {},
          "output_type": "execute_result"
        }
      ],
      "source": [
        "# проверка вхождения\n",
        "l1 = ['Hello','Hi',6,7]\n",
        "check = 'hi' in l1 # Возвращает True, если такой элемент есть в списке, иначе False\n",
        "check"
      ]
    },
    {
      "cell_type": "markdown",
      "metadata": {
        "id": "NUpLZ023woKX"
      },
      "source": [
        "# Копирование списка.\n"
      ]
    },
    {
      "cell_type": "markdown",
      "metadata": {
        "id": "yf3I5NTnxNe-"
      },
      "source": [
        "\n",
        "Итак, зачем же нужен метод .copy(), ведь мы можем сделать просто list_b = list_a ?\n",
        "\n",
        "Нужен он нам как раз из-за свойства изменяемости списков - из-за него, при обычном присвоении list_b = list_a и того, что обе переменные ссылаются на один и тот же объект памяти, при изменении list_b, изменения произойдут и в list_a, хоть мы в явном виде на него не воздействовали.\n"
      ]
    },
    {
      "cell_type": "code",
      "execution_count": null,
      "metadata": {
        "colab": {
          "base_uri": "https://localhost:8080/"
        },
        "id": "vODKO4CwwniV",
        "outputId": "fe3b6d17-6324-4f68-926e-ccee9a8f85f5"
      },
      "outputs": [
        {
          "name": "stdout",
          "output_type": "stream",
          "text": [
            "list_a = [1, 2, 3, 4], list_b = [1, 2, 3, 4]\n"
          ]
        }
      ],
      "source": [
        "list_a =[1,2,3,4]\n",
        "list_b = list_a\n",
        "print(f'list_a = {list_a}, list_b = {list_b}')"
      ]
    },
    {
      "cell_type": "code",
      "execution_count": null,
      "metadata": {
        "colab": {
          "base_uri": "https://localhost:8080/"
        },
        "id": "EB3AIj57x3aD",
        "outputId": "9e5907b6-6c83-48fc-e382-37d5bc357ea2"
      },
      "outputs": [
        {
          "name": "stdout",
          "output_type": "stream",
          "text": [
            "id list_a = 133311203895360, id list_b = 133311203895360\n"
          ]
        }
      ],
      "source": [
        "# ссылаются на один и тот же участок памяти\n",
        "print(f'id list_a = {id(list_a)}, id list_b = {id(list_b)}')\n",
        "# id() - предоставляет уникальные идентификаторы для каждого объекта.\n",
        "# тк id у них одинаковые - в них лежит один и тот же объект"
      ]
    },
    {
      "cell_type": "code",
      "execution_count": null,
      "metadata": {
        "colab": {
          "base_uri": "https://localhost:8080/"
        },
        "id": "jZ5QtECZy5cp",
        "outputId": "2efbe5af-46e7-4677-d442-29898b9da71c"
      },
      "outputs": [
        {
          "data": {
            "text/plain": [
              "[1, 2, 3, 4, 5]"
            ]
          },
          "execution_count": 69,
          "metadata": {},
          "output_type": "execute_result"
        }
      ],
      "source": [
        "# и если мы поменям список через одну переменную\n",
        "list_a.append(5)\n",
        "list_a"
      ]
    },
    {
      "cell_type": "code",
      "execution_count": null,
      "metadata": {
        "colab": {
          "base_uri": "https://localhost:8080/"
        },
        "id": "_JSsTM08zMaX",
        "outputId": "4630cbbe-f7b2-4f92-890e-a5c7a96c33d5"
      },
      "outputs": [
        {
          "data": {
            "text/plain": [
              "[1, 2, 3, 4, 5]"
            ]
          },
          "execution_count": 70,
          "metadata": {},
          "output_type": "execute_result"
        }
      ],
      "source": [
        "# то измзменения коснуться и другой\n",
        "list_b"
      ]
    },
    {
      "cell_type": "markdown",
      "metadata": {
        "id": "XFEASq2UzgY_"
      },
      "source": [
        "**Это касается всех изменяемых типов данных в Python**"
      ]
    },
    {
      "cell_type": "markdown",
      "metadata": {
        "id": "Yy-RILokxcJr"
      },
      "source": [
        "\n",
        "А если мы используем метод .copy(), он создает новый объект в памяти компьютера, и в этом случае, изменения не коснутся \"оригинального\" списка.\n"
      ]
    },
    {
      "cell_type": "code",
      "execution_count": null,
      "metadata": {
        "colab": {
          "base_uri": "https://localhost:8080/"
        },
        "id": "mS--uPhHz_ZW",
        "outputId": "9640f950-a381-42fe-ea74-aa0d285d9adb"
      },
      "outputs": [
        {
          "name": "stdout",
          "output_type": "stream",
          "text": [
            "list_a = [1, 2, 3, 4], list_b = [1, 2, 3, 4]\n"
          ]
        }
      ],
      "source": [
        "list_a =[1,2,3,4]\n",
        "list_b = list_a.copy()\n",
        "# или так\n",
        "#list_b = list_a.[:] #тк срез возвращает новый объект\n",
        "print(f'list_a = {list_a}, list_b = {list_b}')"
      ]
    },
    {
      "cell_type": "code",
      "execution_count": null,
      "metadata": {
        "colab": {
          "base_uri": "https://localhost:8080/"
        },
        "id": "7DxX4BSD0NLw",
        "outputId": "a26cf0a0-5beb-4427-9a91-fb2076b97a38"
      },
      "outputs": [
        {
          "name": "stdout",
          "output_type": "stream",
          "text": [
            "id list_a = 133311203762176, id list_b = 133311726323008\n"
          ]
        }
      ],
      "source": [
        "# ссылаются на  разные участки памяти\n",
        "print(f'id list_a = {id(list_a)}, id list_b = {id(list_b)}')"
      ]
    },
    {
      "cell_type": "code",
      "execution_count": null,
      "metadata": {
        "colab": {
          "base_uri": "https://localhost:8080/"
        },
        "id": "U8qLKPMd0gz7",
        "outputId": "415ea2c1-58fd-49d3-9980-d139d1ec6fb0"
      },
      "outputs": [
        {
          "data": {
            "text/plain": [
              "[1, 2, 3, 4, 5]"
            ]
          },
          "execution_count": 73,
          "metadata": {},
          "output_type": "execute_result"
        }
      ],
      "source": [
        "# и если мы поменям список через одну переменную\n",
        "list_a.append(5)\n",
        "list_a"
      ]
    },
    {
      "cell_type": "code",
      "execution_count": null,
      "metadata": {
        "colab": {
          "base_uri": "https://localhost:8080/"
        },
        "id": "DppPqYDi0nSS",
        "outputId": "3de3c3ac-fce3-40b9-b6b7-7f3ba22e6ed7"
      },
      "outputs": [
        {
          "data": {
            "text/plain": [
              "[1, 2, 3, 4]"
            ]
          },
          "execution_count": 74,
          "metadata": {},
          "output_type": "execute_result"
        }
      ],
      "source": [
        "# то измзменения не коснуться другой\n",
        "list_b"
      ]
    },
    {
      "cell_type": "markdown",
      "metadata": {
        "id": "q6jw05gSz896"
      },
      "source": [
        "Также стоит отметить, что метод .copy() создает копию только \"верхнего\" списка и не влияет на вложенные списки."
      ]
    },
    {
      "cell_type": "code",
      "execution_count": null,
      "metadata": {
        "colab": {
          "base_uri": "https://localhost:8080/"
        },
        "id": "z1MjFzxC1JzY",
        "outputId": "2aa2be21-889a-4336-d6dc-2de691756004"
      },
      "outputs": [
        {
          "name": "stdout",
          "output_type": "stream",
          "text": [
            "list_a = [1, 2, [2.3], 4], list_b = [1, 2, [2.3], 4]\n"
          ]
        }
      ],
      "source": [
        "list_a =[1,2,[2.3],4]\n",
        "list_b = list_a.copy()\n",
        "print(f'list_a = {list_a}, list_b = {list_b}')"
      ]
    },
    {
      "cell_type": "code",
      "execution_count": null,
      "metadata": {
        "colab": {
          "base_uri": "https://localhost:8080/"
        },
        "id": "FTWYMreA2lsY",
        "outputId": "c3c5cdc3-e802-49cb-e877-cc0f95489f8a"
      },
      "outputs": [
        {
          "name": "stdout",
          "output_type": "stream",
          "text": [
            "id list_a = 133311203886016, id list_b = 133311204037056\n"
          ]
        }
      ],
      "source": [
        "# ссылаются на  разные участки памяти\n",
        "print(f'id list_a = {id(list_a)}, id list_b = {id(list_b)}')"
      ]
    },
    {
      "cell_type": "code",
      "execution_count": null,
      "metadata": {
        "colab": {
          "base_uri": "https://localhost:8080/"
        },
        "id": "3WBLNxft2nhg",
        "outputId": "00959ed9-12b1-409b-c0e4-bc4cd7b7f78b"
      },
      "outputs": [
        {
          "name": "stdout",
          "output_type": "stream",
          "text": [
            "id list_a[2] = 133311203950336, id list_b[2] = 133311203950336\n"
          ]
        }
      ],
      "source": [
        "# однако вложенные списки ссылаются на  один и тот же участок памяти\n",
        "print(f'id list_a[2] = {id(list_a[2])}, id list_b[2] = {id(list_b[2])}')"
      ]
    },
    {
      "cell_type": "code",
      "execution_count": null,
      "metadata": {
        "colab": {
          "base_uri": "https://localhost:8080/"
        },
        "id": "TLsW6tdY1MuU",
        "outputId": "92b31770-d86c-4281-b112-63262675647e"
      },
      "outputs": [
        {
          "data": {
            "text/plain": [
              "[1, 2, [2.3, 2.7], 4]"
            ]
          },
          "execution_count": 78,
          "metadata": {},
          "output_type": "execute_result"
        }
      ],
      "source": [
        "# и если мы поменям  вложенный список через одну переменную\n",
        "list_a[2].append(2.7)\n",
        "list_a"
      ]
    },
    {
      "cell_type": "code",
      "execution_count": null,
      "metadata": {
        "colab": {
          "base_uri": "https://localhost:8080/"
        },
        "id": "snOmgqk41Pfn",
        "outputId": "03ac8277-1aa1-4cac-af5c-75d999fa09a3"
      },
      "outputs": [
        {
          "data": {
            "text/plain": [
              "[1, 2, [2.3, 2.7], 4]"
            ]
          },
          "execution_count": 79,
          "metadata": {},
          "output_type": "execute_result"
        }
      ],
      "source": [
        "# то измзменения коснуться другой\n",
        "list_b"
      ]
    },
    {
      "cell_type": "markdown",
      "metadata": {
        "id": "4iZ0MGUY0-65"
      },
      "source": [
        "Чтобы создать полную копию  списка необходимо использовать **функцию**  copy.deepcopy() из библиотеки copy. Для этого необходимо подключить (импортировать)  данную библиотеку с помощью `import <название_библиотеки>`.\n"
      ]
    },
    {
      "cell_type": "code",
      "execution_count": null,
      "metadata": {
        "colab": {
          "base_uri": "https://localhost:8080/"
        },
        "id": "5PcGfgGS0-Rq",
        "outputId": "8cf0f0fc-7032-4f66-9669-fc8f7a417c75"
      },
      "outputs": [
        {
          "name": "stdout",
          "output_type": "stream",
          "text": [
            "list_a = [1, 2, [2.3], 4], list_b = [1, 2, [2.3], 4]\n"
          ]
        }
      ],
      "source": [
        "import copy\n",
        "list_a =[1,2,[2.3],4]\n",
        "list_b = copy.deepcopy(list_a)\n",
        "print(f'list_a = {list_a}, list_b = {list_b}')"
      ]
    },
    {
      "cell_type": "code",
      "execution_count": null,
      "metadata": {
        "colab": {
          "base_uri": "https://localhost:8080/"
        },
        "id": "chHqDRC_3E8T",
        "outputId": "fbe8ea50-700b-49c4-9325-d08c66c70e92"
      },
      "outputs": [
        {
          "name": "stdout",
          "output_type": "stream",
          "text": [
            "id list_a = 133311741589952, id list_b = 133311203897152\n"
          ]
        }
      ],
      "source": [
        "# ссылаются на  разные участки памяти\n",
        "print(f'id list_a = {id(list_a)}, id list_b = {id(list_b)}')"
      ]
    },
    {
      "cell_type": "code",
      "execution_count": null,
      "metadata": {
        "colab": {
          "base_uri": "https://localhost:8080/"
        },
        "id": "nmI-OpH03HyJ",
        "outputId": "2c472180-f59a-4463-b96d-980a8ad99fcb"
      },
      "outputs": [
        {
          "name": "stdout",
          "output_type": "stream",
          "text": [
            "id list_a[2] = 133311741277824, id list_b[2] = 133311725811520\n"
          ]
        }
      ],
      "source": [
        "# и вложенные списки ссылаются на разные участки памяти\n",
        "print(f'id list_a[2] = {id(list_a[2])}, id list_b[2] = {id(list_b[2])}')"
      ]
    },
    {
      "cell_type": "code",
      "execution_count": null,
      "metadata": {
        "colab": {
          "base_uri": "https://localhost:8080/"
        },
        "id": "GnBFaWvh2RLj",
        "outputId": "c6d5a3e7-aa4e-4de9-dcba-5865fd1f2a88"
      },
      "outputs": [
        {
          "data": {
            "text/plain": [
              "[1, 2, [2.3, 2.7], 4]"
            ]
          },
          "execution_count": 83,
          "metadata": {},
          "output_type": "execute_result"
        }
      ],
      "source": [
        "# и если мы поменям  вложенный список через одну переменную\n",
        "list_a[2].append(2.7)\n",
        "list_a"
      ]
    },
    {
      "cell_type": "code",
      "execution_count": null,
      "metadata": {
        "colab": {
          "base_uri": "https://localhost:8080/"
        },
        "id": "jE5-B8Hp2Ri2",
        "outputId": "d53cfa01-de2b-4fa1-a489-34f0f6646d08"
      },
      "outputs": [
        {
          "data": {
            "text/plain": [
              "[1, 2, [2.3], 4]"
            ]
          },
          "execution_count": 84,
          "metadata": {},
          "output_type": "execute_result"
        }
      ],
      "source": [
        "# то измзменения не коснуться другой\n",
        "list_b"
      ]
    },
    {
      "cell_type": "markdown",
      "metadata": {
        "id": "rPqbfRWaAEEO"
      },
      "source": [
        "Визуализация"
      ]
    },
    {
      "cell_type": "markdown",
      "metadata": {
        "id": "s-9VDznPAaxC"
      },
      "source": [
        "![image.png](data:image/png;base64,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)"
      ]
    },
    {
      "cell_type": "code",
      "execution_count": null,
      "metadata": {
        "id": "r3P0GkM-L5PW"
      },
      "outputs": [],
      "source": [
        "# здесь опробуйте те методы, которые вызывают интерес (или все))\n",
        "\n"
      ]
    },
    {
      "cell_type": "markdown",
      "metadata": {},
      "source": [
        "# Задачи для самостоятельного решения:"
      ]
    },
    {
      "cell_type": "markdown",
      "metadata": {},
      "source": [
        "##  Задача 1:\n",
        "В компании разработчиков видеоигр хранится информация об игровых персонажах в следующем формате:\n",
        "\n",
        "[имя_персонажа, [здоровье, броня], [урон_мечом, урон_луком], особая_способность]\n",
        "\n",
        "Создайте список из 3 таких персонажей. Во время финального тестирования выяснилось, что показатели урона  всех персонажей завышены на 20%. Реализуйте корректировку характеристик.\n",
        "\n",
        " Пример входных данных:\n",
        " \n",
        "```python\n",
        "characters = [\n",
        "    [\"Воин\", [100, 50], [60, 25], \"Берсерк\"],\n",
        "    [\"Лучник\", [80, 30], [30, 70], \"Меткий выстрел\"],\n",
        "    [\"Паладин\", [120, 70], [50, 20], \"Святой щит\"]\n",
        "]\n",
        "\n",
        "Пример выходных данных:\n",
        "\n",
        "[\n",
        "    [\"Воин\", [100, 50], [48, 20], \"Берсерк\"],\n",
        "    [\"Лучник\", [80, 30], [24, 56], \"Меткий выстрел\"],\n",
        "    [\"Паладин\", [120, 70], [40, 16], \"Святой щит\"]\n",
        "]\n"
      ]
    },
    {
      "cell_type": "code",
      "execution_count": null,
      "metadata": {},
      "outputs": [],
      "source": []
    },
    {
      "cell_type": "markdown",
      "metadata": {},
      "source": [
        "## Задача 2:\n",
        " В археологической экспедиции найдены древние таблички с письменами. Каждая табличка содержит одно слово.\n",
        " Из-за хрупкости материала, таблички можно переворачивать только по одной и только сверху.\n",
        " После просмотра табличку можно либо вернуть наверх стопки, либо отложить в сторону.\n",
        " Напишите программу, которая поможет археологам прочитать все таблички и собрать из них осмысленное предложение.\n",
        "\n",
        " Пример входных данных:\n",
        "\n",
        "```python\n",
        "tablets = [\"мудрость\", \"несет\", \"знание\", \"древнее\"]\n",
        "```\n",
        "\n",
        " Пример выходных данных:\n",
        "\n",
        "```python\n",
        "\"древнее знание несет мудрость\"\n",
        "```\n"
      ]
    },
    {
      "cell_type": "code",
      "execution_count": null,
      "metadata": {},
      "outputs": [],
      "source": []
    },
    {
      "cell_type": "markdown",
      "metadata": {},
      "source": [
        "\n",
        "## Задача 3:\n",
        " В секретной лаборатории проводится эксперимент с изучением параллельных вселенных.\n",
        " Ученые собрали данные о событиях в виде списка: [событие1, событие2, событие3, ...].\n",
        " \n",
        " Для изучения влияния изменений в одной вселенной на другую, необходимо создать точную копию\n",
        " последовательности событий. Однако каждое изменение в копии не должно влиять на оригинальную вселенную.\n",
        " Помогите ученым реализовать этот механизм.\n",
        "\n",
        " Пример входных данных:\n",
        "\n",
        "```python\n",
        "timeline = [[\"Большой взрыв\", [0, 0]], [\"Формирование Земли\", [4.5, -9]], [\"Появление жизни\", [3.5, -9]]]\n",
        "```\n",
        "\n",
        " Пример выходных данных (после изменения копии):\n",
        " ```python\n",
        " Оригинал: [[\"Большой взрыв\", [0, 0]], [\"Формирование Земли\", [4.5, -9]], [\"Появление жизни\", [3.5, -9]]]\n",
        " Измененная копия: [[\"Большой взрыв\", [1, 1]], [\"Формирование Земли\", [4.5, -9]], [\"Появление жизни\", [3.5, -9]]]\n",
        " ```\n",
        "\n"
      ]
    },
    {
      "cell_type": "code",
      "execution_count": null,
      "metadata": {},
      "outputs": [],
      "source": []
    },
    {
      "cell_type": "markdown",
      "metadata": {
        "id": "zI-BBOEGNc5f"
      },
      "source": [
        "Со списками все, теперь переходим к строкам)"
      ]
    },
    {
      "cell_type": "markdown",
      "metadata": {
        "id": "HBi3hqct-T5q"
      },
      "source": [
        "# Строки\n",
        "Строки - это **упорядоченные** последовательности символов, используемые для хранения и представления текстовой информации.\n",
        "\n",
        "Строки - это **неизменяемая** последовательность символов.\n",
        "Строки используются для записи текстовой информации."
      ]
    },
    {
      "cell_type": "code",
      "execution_count": null,
      "metadata": {
        "colab": {
          "base_uri": "https://localhost:8080/"
        },
        "id": "N6qn7_aeqlw_",
        "outputId": "869baf8a-9bf2-4577-dc40-80e1ac0b8520"
      },
      "outputs": [
        {
          "name": "stdout",
          "output_type": "stream",
          "text": [
            "Разницы между созданием пустой(!) строки с помощью литералов- empty_string1: '', и функции str- empty_string2: '' - нет\n"
          ]
        }
      ],
      "source": [
        "# инициализация пустой строки\n",
        "empty_string1 = ''\n",
        "empty_string2 = str()\n",
        "print(f'Разницы между созданием пустой(!) строки с помощью литералов- empty_string1: \\'{empty_string1}\\', и функции str- empty_string2: \\'{empty_string2}\\' - нет')\n",
        "# Однако лучше создавать пустую строку с помощью литералов, тк это у нас как у программистов займет меньше времени)\n",
        "# + Так принято"
      ]
    },
    {
      "cell_type": "code",
      "execution_count": null,
      "metadata": {
        "colab": {
          "base_uri": "https://localhost:8080/"
        },
        "id": "Hw42vqV8-5C4",
        "outputId": "430786ce-47c8-4397-bc6f-24c130c7362b"
      },
      "outputs": [
        {
          "name": "stdout",
          "output_type": "stream",
          "text": [
            "Spam\n",
            "New_Spam\n"
          ]
        }
      ],
      "source": [
        "# Примеры строк # Создание строки, которая содержит значения\n",
        "spam = 'Spam'\n",
        "new_spam = \"New_Spam\"\n",
        "\n",
        "print(spam)\n",
        "print(new_spam)"
      ]
    },
    {
      "cell_type": "code",
      "execution_count": null,
      "metadata": {
        "colab": {
          "base_uri": "https://localhost:8080/"
        },
        "id": "yfIpvtkP_Fjs",
        "outputId": "b83787fc-04fa-401a-f7aa-40c620350883"
      },
      "outputs": [
        {
          "data": {
            "text/plain": [
              "str"
            ]
          },
          "execution_count": 87,
          "metadata": {},
          "output_type": "execute_result"
        }
      ],
      "source": [
        "type(spam)"
      ]
    },
    {
      "cell_type": "markdown",
      "metadata": {
        "id": "HB0fgZnesDf5"
      },
      "source": [
        "С помощью функции str() мы меняем тип данных. Мы можем преобразовать в строку любой тип данных.\n",
        "\n",
        "Например: из числа можно сделать строку.\n"
      ]
    },
    {
      "cell_type": "code",
      "execution_count": null,
      "metadata": {
        "colab": {
          "base_uri": "https://localhost:8080/",
          "height": 35
        },
        "id": "wPV6LZWCsCPi",
        "outputId": "fce020c5-9bf0-4761-9f8d-d6a5273b1990"
      },
      "outputs": [
        {
          "data": {
            "application/vnd.google.colaboratory.intrinsic+json": {
              "type": "string"
            },
            "text/plain": [
              "'1'"
            ]
          },
          "execution_count": 88,
          "metadata": {},
          "output_type": "execute_result"
        }
      ],
      "source": [
        "str(1)"
      ]
    },
    {
      "cell_type": "code",
      "execution_count": null,
      "metadata": {
        "colab": {
          "base_uri": "https://localhost:8080/",
          "height": 35
        },
        "id": "McOg2s2Wsgui",
        "outputId": "1d62e60c-979b-4ff0-b59a-7b061b283eaf"
      },
      "outputs": [
        {
          "data": {
            "application/vnd.google.colaboratory.intrinsic+json": {
              "type": "string"
            },
            "text/plain": [
              "'[1, 2, 3, 4]'"
            ]
          },
          "execution_count": 89,
          "metadata": {},
          "output_type": "execute_result"
        }
      ],
      "source": [
        "# из списка строку\n",
        "str([1,2,3,4]) # обратите внимание! на то какая(!) строчка получается"
      ]
    },
    {
      "cell_type": "code",
      "execution_count": null,
      "metadata": {
        "colab": {
          "base_uri": "https://localhost:8080/",
          "height": 259
        },
        "id": "4UZ9BEIpt99O",
        "outputId": "0304cb83-5544-4295-fabd-4dd1270301f2"
      },
      "outputs": [
        {
          "ename": "TypeError",
          "evalue": "str() argument 'encoding' must be str, not int",
          "output_type": "error",
          "traceback": [
            "\u001b[0;31m---------------------------------------------------------------------------\u001b[0m",
            "\u001b[0;31mTypeError\u001b[0m                                 Traceback (most recent call last)",
            "\u001b[0;32m<ipython-input-90-7b9799269531>\u001b[0m in \u001b[0;36m<cell line: 2>\u001b[0;34m()\u001b[0m\n\u001b[1;32m      1\u001b[0m \u001b[0;31m# str принимает только 1 аргумент - то,что необходимо преобразовать в строку\u001b[0m\u001b[0;34m\u001b[0m\u001b[0;34m\u001b[0m\u001b[0m\n\u001b[0;32m----> 2\u001b[0;31m \u001b[0mstr\u001b[0m\u001b[0;34m(\u001b[0m\u001b[0;36m1\u001b[0m\u001b[0;34m,\u001b[0m\u001b[0;36m2\u001b[0m\u001b[0;34m,\u001b[0m\u001b[0;36m3\u001b[0m\u001b[0;34m)\u001b[0m \u001b[0;31m# такая запись приведет к ошибке\u001b[0m\u001b[0;34m\u001b[0m\u001b[0;34m\u001b[0m\u001b[0m\n\u001b[0m\u001b[1;32m      3\u001b[0m \u001b[0;31m# На самом деле больше чем один аргумент, но нам пока это не нужно\u001b[0m\u001b[0;34m\u001b[0m\u001b[0;34m\u001b[0m\u001b[0m\n",
            "\u001b[0;31mTypeError\u001b[0m: str() argument 'encoding' must be str, not int"
          ]
        }
      ],
      "source": [
        "# str принимает только 1 аргумент - то,что необходимо преобразовать в строку\n",
        "str(1,2,3) # такая запись приведет к ошибке\n",
        "# На самом деле больше чем один аргумент, но нам пока это не нужно"
      ]
    },
    {
      "cell_type": "code",
      "execution_count": null,
      "metadata": {
        "colab": {
          "base_uri": "https://localhost:8080/"
        },
        "id": "m8AV8pFGuwtv",
        "outputId": "48ab14e3-54ea-4e59-9637-023699d5bc6f"
      },
      "outputs": [
        {
          "name": "stdout",
          "output_type": "stream",
          "text": [
            "Преобразуем из <class 'set'> в список,\n",
            "{1, 2, 3} ---> '{1, 2, 3}'\n"
          ]
        }
      ],
      "source": [
        "# здесь потренируйтесь и попробуйте попередовать функции разные типы данных\n",
        "# списки, множества, кортежи, словари, bool\n",
        "# Пример:\n",
        "collection_for_check = {1,2,3}\n",
        "list_made_from_another_collection = str(collection_for_check)\n",
        "print(f'Преобразуем из {type(collection_for_check)} в список,\\n{collection_for_check} ---> \\'{list_made_from_another_collection}\\'')\n"
      ]
    },
    {
      "cell_type": "markdown",
      "metadata": {
        "id": "A04iSAvf_RjN"
      },
      "source": [
        "Иногда может получиться так, что вам внутри строки нужно записать слова, которые включают в себя двойные кавычки. В таком случае вы можете воспользоваться одинарными кавычками, для того чтобы записать строку. На примере мы видим, что слово Python обрамлен двойными кавычками, но благодаря тому, что строка создавалась с помощью одинарных, у нас всё успешно вывелось на экран."
      ]
    },
    {
      "cell_type": "code",
      "execution_count": null,
      "metadata": {
        "colab": {
          "base_uri": "https://localhost:8080/"
        },
        "id": "53pRa05i_Q4M",
        "outputId": "83bcdec3-2ad4-46a0-c50d-89374edf212c"
      },
      "outputs": [
        {
          "name": "stdout",
          "output_type": "stream",
          "text": [
            "А вот и наш \"Python\" \n"
          ]
        }
      ],
      "source": [
        "spam = 'А вот и наш \"Python\" '\n",
        "print(spam)"
      ]
    },
    {
      "cell_type": "markdown",
      "metadata": {
        "id": "vc26OWB0_bLO"
      },
      "source": [
        "Или наоборот,если нам нужна строка с одинарными ковычками внутри, мы можем создать строку с помощью двойных ковычек, а. внутри добавить одинарные."
      ]
    },
    {
      "cell_type": "code",
      "execution_count": null,
      "metadata": {
        "colab": {
          "base_uri": "https://localhost:8080/"
        },
        "id": "bGkPbjIR_ael",
        "outputId": "0d395f65-659d-42ff-b34e-66690dcccfd3"
      },
      "outputs": [
        {
          "name": "stdout",
          "output_type": "stream",
          "text": [
            "А вот и наш 'Python' \n"
          ]
        }
      ],
      "source": [
        "spam = \"А вот и наш 'Python' \"\n",
        "print(spam)"
      ]
    },
    {
      "cell_type": "markdown",
      "metadata": {
        "id": "dI7vD-BMAQgc"
      },
      "source": [
        "# Бонус.\n"
      ]
    },
    {
      "cell_type": "markdown",
      "metadata": {
        "id": "l9PCOaaTBmC5"
      },
      "source": [
        "Если вы хотите строго придерживаться одного стиля, и всегда используете, например, двойные ковычки - и вам нужно вывести строку с такими же двойными ковычками, то можете использовать спец.символ двойной ковычки  `\\\"`"
      ]
    },
    {
      "cell_type": "code",
      "execution_count": null,
      "metadata": {
        "colab": {
          "base_uri": "https://localhost:8080/"
        },
        "id": "puAZV8Fu_FnG",
        "outputId": "0efd3d64-a4a8-41a0-af0d-9818355d9676"
      },
      "outputs": [
        {
          "name": "stdout",
          "output_type": "stream",
          "text": [
            "А вот и наш \"Python\"\n"
          ]
        }
      ],
      "source": [
        "spam = \"А вот и наш \\\"Python\\\"\"\n",
        "print(spam)"
      ]
    },
    {
      "cell_type": "markdown",
      "metadata": {
        "id": "7XgedBreBrND"
      },
      "source": [
        "И наоборот, спец.символ одинарной ковычки `\\'`, если всегда используете одинарные и хотите одинарные ковычки вставить в строку."
      ]
    },
    {
      "cell_type": "code",
      "execution_count": null,
      "metadata": {
        "colab": {
          "base_uri": "https://localhost:8080/"
        },
        "id": "9K7Ee9jZBpVz",
        "outputId": "d093b61d-eada-44e3-ab84-7aebb5c78e6f"
      },
      "outputs": [
        {
          "name": "stdout",
          "output_type": "stream",
          "text": [
            "А вот и наш 'Python'\n"
          ]
        }
      ],
      "source": [
        "spam = 'А вот и наш \\'Python\\''\n",
        "print(spam)"
      ]
    },
    {
      "cell_type": "markdown",
      "metadata": {
        "id": "JBJ3MSw-Cu2V"
      },
      "source": [
        "# \"Многострочные\" строки\n",
        "\n",
        "Также в Python есть так называемые \"многострочные\" строки"
      ]
    },
    {
      "cell_type": "code",
      "execution_count": null,
      "metadata": {
        "colab": {
          "base_uri": "https://localhost:8080/",
          "height": 154
        },
        "id": "JUCRwALbBdVE",
        "outputId": "442299c0-cd89-452d-f59b-f27d744e83f6"
      },
      "outputs": [
        {
          "name": "stdout",
          "output_type": "stream",
          "text": [
            "\n",
            "Я помню чудное мгновенье:\n",
            "Передо мной явилась ты,\n",
            "Как мимолетное виденье,\n",
            "Как гений чистой красоты\n",
            "\n"
          ]
        },
        {
          "data": {
            "application/vnd.google.colaboratory.intrinsic+json": {
              "type": "string"
            },
            "text/plain": [
              "'\\nЯ помню чудное мгновенье:\\nПередо мной явилась ты,\\nКак мимолетное виденье,\\nКак гений чистой красоты\\n'"
            ]
          },
          "execution_count": 96,
          "metadata": {},
          "output_type": "execute_result"
        }
      ],
      "source": [
        "text = '''\n",
        "Я помню чудное мгновенье:\n",
        "Передо мной явилась ты,\n",
        "Как мимолетное виденье,\n",
        "Как гений чистой красоты\n",
        "'''\n",
        "\n",
        "print(text)\n",
        "text # обратите внимание что там где мы переносим строчку - обязательно стоит \\n- символ переноса строки"
      ]
    },
    {
      "cell_type": "markdown",
      "metadata": {
        "id": "4ISTh9PxDg1Y"
      },
      "source": [
        "# Индексация и срезы\n",
        "У строк индексация анологична индексации списка. Однако для лучшего запоминания повторим)\n",
        "\n",
        "Так как строки являются последовательностями(упорядоченными коллекциями), мы можем применять к ним функции характерные для последовательностей.\n",
        "\n",
        "Например, если имеется четырехсимвольная строка, то с помощью встроенной функции len() можно определить ее длину, а отдельные элементы строки извлечь с помощью выражений индексирования:"
      ]
    },
    {
      "cell_type": "code",
      "execution_count": null,
      "metadata": {
        "colab": {
          "base_uri": "https://localhost:8080/"
        },
        "id": "0bfFVlZa_Fpu",
        "outputId": "8698eb74-8d05-49c7-f60a-47b7cf95f4dd"
      },
      "outputs": [
        {
          "name": "stdout",
          "output_type": "stream",
          "text": [
            "Длинна строки: 4\n",
            "Символы строки: S p a m\n",
            "Первый символ строки: S\n"
          ]
        }
      ],
      "source": [
        "spam = 'Spam'\n",
        "print('Длинна строки:', len(spam)) # функция len применяется ко всем последовательностям и является универсальной функцией.\n",
        "\n",
        "\n",
        "# s[i] - выражения индексирования, где i является номером позиции элемента в строке\n",
        "print('Символы строки:', spam[0], spam[1], spam[2], spam[3])\n",
        "print('Первый символ строки:', spam[0])"
      ]
    },
    {
      "cell_type": "markdown",
      "metadata": {
        "id": "R9DxtjGuGFDq"
      },
      "source": [
        "В языке Python индексы реализованы в виде смещений от начала и потому индексация начинается с 0: первый элемент имеет индекс 0, второй – 1 и так далее.\n",
        "\n",
        "В языке Python предусмотрена возможность индексации в обратном порядке, от конца к началу – положительные индексы откладываются от левого конца последовательности, а отрицательные – от правого:"
      ]
    },
    {
      "cell_type": "code",
      "execution_count": null,
      "metadata": {
        "colab": {
          "base_uri": "https://localhost:8080/"
        },
        "id": "Y_mShDPi_Fsj",
        "outputId": "411e85c1-2191-4d84-a4fd-195d1c4f51e2"
      },
      "outputs": [
        {
          "name": "stdout",
          "output_type": "stream",
          "text": [
            "Перевернутое слово по буквам: m a p S\n",
            "Перевернутое слово: mapS\n",
            "Cлово в прямом прочтении S p a m\n"
          ]
        }
      ],
      "source": [
        "# Следует заметить, что в случае индексации в обратном порядке первый элемент начинается не с 0, а с -1\n",
        "\n",
        "print('Перевернутое слово по буквам:', spam[-1], spam[-2], spam[-3], spam[-4]) # Перевернутое слово\n",
        "print('Перевернутое слово:', spam[::-1]) # Популярный способ переворачивания строки\n",
        "print('Cлово в прямом прочтении', spam[-4], spam[-3], spam[-2], spam[-1])# но записанное с помощьюотрицательных индексов"
      ]
    },
    {
      "cell_type": "markdown",
      "metadata": {
        "id": "P5LvUcE6HNXH"
      },
      "source": [
        "Благодаря тому, что строки являются последовательностями, мы можем проводить операции срезов(индексации).\n",
        "\n",
        "Однако в отличии от списков, строки неизменяемые. Это накладывает ограничение, что нельзя присваивать по индексу или срезу."
      ]
    },
    {
      "cell_type": "code",
      "execution_count": null,
      "metadata": {
        "colab": {
          "base_uri": "https://localhost:8080/",
          "height": 35
        },
        "id": "dHAAFB_-_FvM",
        "outputId": "468f245d-0b1a-49f1-aa85-98d1f47efa8a"
      },
      "outputs": [
        {
          "data": {
            "application/vnd.google.colaboratory.intrinsic+json": {
              "type": "string"
            },
            "text/plain": [
              "'pa'"
            ]
          },
          "execution_count": 3,
          "metadata": {},
          "output_type": "execute_result"
        }
      ],
      "source": [
        "spam[1:3] # индексация предполагает, что мы берем символы начиная с элемента i до элемента j(не включительно!)"
      ]
    },
    {
      "cell_type": "code",
      "execution_count": null,
      "metadata": {
        "colab": {
          "base_uri": "https://localhost:8080/",
          "height": 35
        },
        "id": "PF5qAbf3HWnf",
        "outputId": "681c0a99-081d-4dad-ae59-a505b1c3ee4f"
      },
      "outputs": [
        {
          "data": {
            "application/vnd.google.colaboratory.intrinsic+json": {
              "type": "string"
            },
            "text/plain": [
              "'Spa'"
            ]
          },
          "execution_count": 4,
          "metadata": {},
          "output_type": "execute_result"
        }
      ],
      "source": [
        "spam[0:3] # начиная с нулевой позиции и до 3 (не включительно)"
      ]
    },
    {
      "cell_type": "code",
      "execution_count": null,
      "metadata": {
        "colab": {
          "base_uri": "https://localhost:8080/",
          "height": 35
        },
        "id": "L6CE_bQz_FyQ",
        "outputId": "7ac20aa2-6424-4ead-b078-d47bd57d3293"
      },
      "outputs": [
        {
          "data": {
            "application/vnd.google.colaboratory.intrinsic+json": {
              "type": "string"
            },
            "text/plain": [
              "'pam'"
            ]
          },
          "execution_count": 5,
          "metadata": {},
          "output_type": "execute_result"
        }
      ],
      "source": [
        "spam[1:] # начиная с первой позиции и до конца"
      ]
    },
    {
      "cell_type": "code",
      "execution_count": null,
      "metadata": {
        "colab": {
          "base_uri": "https://localhost:8080/",
          "height": 35
        },
        "id": "HL2qrGDCHatP",
        "outputId": "876eabbe-273e-4c44-eb0c-5919ac4e7a13"
      },
      "outputs": [
        {
          "data": {
            "application/vnd.google.colaboratory.intrinsic+json": {
              "type": "string"
            },
            "text/plain": [
              "'Spa'"
            ]
          },
          "execution_count": 6,
          "metadata": {},
          "output_type": "execute_result"
        }
      ],
      "source": [
        "spam[:-1] # все слово кроме последнего (Рекомендую запомнить.\n",
        "                                     #Такая форма часто используется в анализе данных и для работы с таблицами)"
      ]
    },
    {
      "cell_type": "code",
      "execution_count": null,
      "metadata": {
        "colab": {
          "base_uri": "https://localhost:8080/",
          "height": 35
        },
        "id": "kZowbUZTHawO",
        "outputId": "f0698baa-3283-4ea7-f1d3-b687a675ab18"
      },
      "outputs": [
        {
          "data": {
            "application/vnd.google.colaboratory.intrinsic+json": {
              "type": "string"
            },
            "text/plain": [
              "'Sa'"
            ]
          },
          "execution_count": 7,
          "metadata": {},
          "output_type": "execute_result"
        }
      ],
      "source": [
        "spam[0:-1:2] # Можно указать не только начальную и последнюю позицию, но также и шаг индексирования"
      ]
    },
    {
      "cell_type": "code",
      "execution_count": null,
      "metadata": {
        "colab": {
          "base_uri": "https://localhost:8080/",
          "height": 35
        },
        "id": "C7nKXVhRHayu",
        "outputId": "53410037-ba0c-47b3-c423-ed3c3ce98c38"
      },
      "outputs": [
        {
          "data": {
            "application/vnd.google.colaboratory.intrinsic+json": {
              "type": "string"
            },
            "text/plain": [
              "'HloWrd'"
            ]
          },
          "execution_count": 8,
          "metadata": {},
          "output_type": "execute_result"
        }
      ],
      "source": [
        "string_for_example = 'Hello World!' #Не стоит забывать, что пробел тоже является символом и имеет свою позицию\n",
        "string_for_example[::2]"
      ]
    },
    {
      "cell_type": "code",
      "execution_count": null,
      "metadata": {
        "colab": {
          "base_uri": "https://localhost:8080/",
          "height": 35
        },
        "id": "X9lZXnWTHa1W",
        "outputId": "af8cbd40-41d7-4e6a-97de-884e2e3ccf0a"
      },
      "outputs": [
        {
          "data": {
            "application/vnd.google.colaboratory.intrinsic+json": {
              "type": "string"
            },
            "text/plain": [
              "'Spam'"
            ]
          },
          "execution_count": 9,
          "metadata": {},
          "output_type": "execute_result"
        }
      ],
      "source": [
        "spam[0:] # все слово\n",
        "\n",
        "# S[:] альтернативная запись, которая создает копию"
      ]
    },
    {
      "cell_type": "markdown",
      "metadata": {
        "id": "PKHYht-oH2_b"
      },
      "source": [
        "Также мы можем использовать функцию конкатенации (объединение строк)"
      ]
    },
    {
      "cell_type": "code",
      "execution_count": null,
      "metadata": {
        "colab": {
          "base_uri": "https://localhost:8080/",
          "height": 52
        },
        "id": "S1Y6JriCHa37",
        "outputId": "0d442e5c-7c85-4e9b-d19f-e855bfb8832e"
      },
      "outputs": [
        {
          "name": "stdout",
          "output_type": "stream",
          "text": [
            "Spamxyz\n"
          ]
        },
        {
          "data": {
            "application/vnd.google.colaboratory.intrinsic+json": {
              "type": "string"
            },
            "text/plain": [
              "'Spam'"
            ]
          },
          "execution_count": 10,
          "metadata": {},
          "output_type": "execute_result"
        }
      ],
      "source": [
        "print(spam + 'xyz' )\n",
        "spam # исходная строка не изменилась"
      ]
    },
    {
      "cell_type": "markdown",
      "metadata": {
        "id": "Bs1Pxmj3IEOj"
      },
      "source": [
        "Напоминаю, что строки являются неизменяемыми в Python. Следовательно никакая операция не изменит исходную строку.\n",
        "Это также означает, что вы не сможете изменить строку присвоением значения одной из ее позиций"
      ]
    },
    {
      "cell_type": "code",
      "execution_count": null,
      "metadata": {
        "colab": {
          "base_uri": "https://localhost:8080/",
          "height": 174
        },
        "id": "Ns_KYvQ2IMqj",
        "outputId": "45549b4b-dedb-40cc-e4df-85b4a8fe6691"
      },
      "outputs": [
        {
          "ename": "TypeError",
          "evalue": "'str' object does not support item assignment",
          "output_type": "error",
          "traceback": [
            "\u001b[0;31m---------------------------------------------------------------------------\u001b[0m",
            "\u001b[0;31mTypeError\u001b[0m                                 Traceback (most recent call last)",
            "\u001b[0;32m<ipython-input-11-f266004938c2>\u001b[0m in \u001b[0;36m<cell line: 1>\u001b[0;34m()\u001b[0m\n\u001b[0;32m----> 1\u001b[0;31m \u001b[0mspam\u001b[0m\u001b[0;34m[\u001b[0m\u001b[0;36m0\u001b[0m\u001b[0;34m]\u001b[0m \u001b[0;34m=\u001b[0m \u001b[0;34m's'\u001b[0m \u001b[0;31m# будет ошибка\u001b[0m\u001b[0;34m\u001b[0m\u001b[0;34m\u001b[0m\u001b[0m\n\u001b[0m",
            "\u001b[0;31mTypeError\u001b[0m: 'str' object does not support item assignment"
          ]
        }
      ],
      "source": [
        "spam[0] = 's' # будет ошибка"
      ]
    },
    {
      "cell_type": "markdown",
      "metadata": {
        "id": "1_xbzaTgI-kG"
      },
      "source": [
        "Но вы всегда можете создать новую строку и присвоить ей то же самое имя)"
      ]
    },
    {
      "cell_type": "code",
      "execution_count": null,
      "metadata": {
        "id": "wyRPplBPHa6v"
      },
      "outputs": [],
      "source": [
        "spam = spam + 'xyz'\n",
        "spam"
      ]
    },
    {
      "cell_type": "code",
      "execution_count": null,
      "metadata": {
        "id": "M8TKAh6CIPh_"
      },
      "outputs": [],
      "source": [
        "# сокращенная запись того же, что и сверху\n",
        "spam += 'xyz'\n",
        "spam"
      ]
    },
    {
      "cell_type": "markdown",
      "metadata": {
        "id": "nl8v_f4VJp1b"
      },
      "source": [
        "# Операции со строками\n",
        "\n",
        "Не обязательно заучивать все операции - то что часто используется - запомниться само, а то что нечасто -всегда можно загуглить,главное знать,что такое есть."
      ]
    },
    {
      "cell_type": "code",
      "execution_count": null,
      "metadata": {
        "id": "gv1YQyAOHa9x"
      },
      "outputs": [],
      "source": [
        "string = 'Hello World!'"
      ]
    },
    {
      "cell_type": "code",
      "execution_count": null,
      "metadata": {
        "colab": {
          "base_uri": "https://localhost:8080/",
          "height": 35
        },
        "id": "hbW-VopRHbA0",
        "outputId": "3832e72c-bf87-4579-91e0-78cd26d4a6ec"
      },
      "outputs": [
        {
          "data": {
            "application/vnd.google.colaboratory.intrinsic+json": {
              "type": "string"
            },
            "text/plain": [
              "'Hello World!Hello World!Hello World!'"
            ]
          },
          "execution_count": 111,
          "metadata": {},
          "output_type": "execute_result"
        }
      ],
      "source": [
        "string * 3"
      ]
    },
    {
      "cell_type": "code",
      "execution_count": null,
      "metadata": {
        "colab": {
          "base_uri": "https://localhost:8080/"
        },
        "id": "dZ9YzgZ7HbE_",
        "outputId": "6db2bb8f-1e64-4bf3-ca84-2cef9eb2055c"
      },
      "outputs": [
        {
          "data": {
            "text/plain": [
              "12"
            ]
          },
          "execution_count": 112,
          "metadata": {},
          "output_type": "execute_result"
        }
      ],
      "source": [
        "# Чтобы не забыть по эту важную функцию\n",
        "len(string)"
      ]
    },
    {
      "cell_type": "code",
      "execution_count": null,
      "metadata": {
        "colab": {
          "base_uri": "https://localhost:8080/"
        },
        "id": "qxBAcVK4HbHY",
        "outputId": "00bb3e4c-691b-43cc-f4cc-da74ce2c5138"
      },
      "outputs": [
        {
          "data": {
            "text/plain": [
              "['Hello', 'World!']"
            ]
          },
          "execution_count": 113,
          "metadata": {},
          "output_type": "execute_result"
        }
      ],
      "source": [
        "# возвращает список разделенный по сиволу переданному в качестве аргумента\n",
        "# если ничего не указывать - по пробелу\n",
        "string.split()"
      ]
    },
    {
      "cell_type": "code",
      "execution_count": null,
      "metadata": {
        "colab": {
          "base_uri": "https://localhost:8080/"
        },
        "id": "zdSszHjgxqzL",
        "outputId": "ad1c49e8-c941-4572-9e77-035d1e716b5c"
      },
      "outputs": [
        {
          "data": {
            "text/plain": [
              "['', 'Hi', '', '', 'Hello', '']"
            ]
          },
          "execution_count": 114,
          "metadata": {},
          "output_type": "execute_result"
        }
      ],
      "source": [
        "'!Hi!!!Hello!'.split('!')\n",
        "# Обратите внимание! на две вещи\n",
        "# 1. Если между подряд идущими символами-разделителями ничего не стоит -\n",
        "#    в результирующем списке на этих местах будет пустая строка\n",
        "# 2. Если символ-разделитель находится в конце/начале строки, в конце/начале будет пустой список"
      ]
    },
    {
      "cell_type": "code",
      "execution_count": null,
      "metadata": {
        "colab": {
          "base_uri": "https://localhost:8080/",
          "height": 35
        },
        "id": "v17eKkAUHbLN",
        "outputId": "03972cc4-6ea3-4e57-879e-b3abd3e38499"
      },
      "outputs": [
        {
          "data": {
            "application/vnd.google.colaboratory.intrinsic+json": {
              "type": "string"
            },
            "text/plain": [
              "'HELLO WORLD!'"
            ]
          },
          "execution_count": 115,
          "metadata": {},
          "output_type": "execute_result"
        }
      ],
      "source": [
        "# Преобразование всех символов в верхний регистр:\n",
        "string.upper()"
      ]
    },
    {
      "cell_type": "code",
      "execution_count": null,
      "metadata": {
        "colab": {
          "base_uri": "https://localhost:8080/",
          "height": 35
        },
        "id": "SS6Pr5lyOCmb",
        "outputId": "d93c6d4f-3bc1-4d26-9ce5-a1c18b5c07d7"
      },
      "outputs": [
        {
          "data": {
            "application/vnd.google.colaboratory.intrinsic+json": {
              "type": "string"
            },
            "text/plain": [
              "'hello world!'"
            ]
          },
          "execution_count": 116,
          "metadata": {},
          "output_type": "execute_result"
        }
      ],
      "source": [
        "#Преобразование всех символов в нижний регистр:\n",
        "string.lower()"
      ]
    },
    {
      "cell_type": "code",
      "execution_count": null,
      "metadata": {
        "colab": {
          "base_uri": "https://localhost:8080/"
        },
        "id": "aO7hTaRDOC0u",
        "outputId": "5448f2c3-2787-42e0-e3c7-fb93607cf153"
      },
      "outputs": [
        {
          "data": {
            "text/plain": [
              "False"
            ]
          },
          "execution_count": 117,
          "metadata": {},
          "output_type": "execute_result"
        }
      ],
      "source": [
        "#Состоит ли строка из цифр:\n",
        "string.isdigit()"
      ]
    },
    {
      "cell_type": "code",
      "execution_count": null,
      "metadata": {
        "colab": {
          "base_uri": "https://localhost:8080/"
        },
        "id": "dtrLzel5ODKO",
        "outputId": "0907f79a-47b0-4954-d372-3a00708f9be5"
      },
      "outputs": [
        {
          "data": {
            "text/plain": [
              "True"
            ]
          },
          "execution_count": 118,
          "metadata": {},
          "output_type": "execute_result"
        }
      ],
      "source": [
        "'123'.isdigit()"
      ]
    },
    {
      "cell_type": "code",
      "execution_count": null,
      "metadata": {
        "colab": {
          "base_uri": "https://localhost:8080/"
        },
        "id": "SU4sBImkODNw",
        "outputId": "eff5a959-c812-4492-fac4-9ec643770391"
      },
      "outputs": [
        {
          "data": {
            "text/plain": [
              "False"
            ]
          },
          "execution_count": 119,
          "metadata": {},
          "output_type": "execute_result"
        }
      ],
      "source": [
        "'12.7'.isdigit()# False тк точка не цифра"
      ]
    },
    {
      "cell_type": "code",
      "execution_count": null,
      "metadata": {
        "colab": {
          "base_uri": "https://localhost:8080/"
        },
        "id": "LAbcWWDiOpf5",
        "outputId": "4705559b-4c19-48aa-b73f-278466d68d28"
      },
      "outputs": [
        {
          "data": {
            "text/plain": [
              "0"
            ]
          },
          "execution_count": 120,
          "metadata": {},
          "output_type": "execute_result"
        }
      ],
      "source": [
        "# Вызов строкового метода: поиск\n",
        "string.find('Hel') # Если запрашиваемая подстрока найдена - возвращает индекс первого элемента подстроки"
      ]
    },
    {
      "cell_type": "code",
      "execution_count": null,
      "metadata": {
        "colab": {
          "base_uri": "https://localhost:8080/"
        },
        "id": "zXs0amKbO1By",
        "outputId": "916835e3-9710-45b5-dc1e-c4b1e2e0b8cf"
      },
      "outputs": [
        {
          "data": {
            "text/plain": [
              "2"
            ]
          },
          "execution_count": 121,
          "metadata": {},
          "output_type": "execute_result"
        }
      ],
      "source": [
        "# Один символ это тоже подстрока\n",
        "string.find('l') # Если строка содержит несколко подстрок - выводится индекс первой найденной подстроки слева направо"
      ]
    },
    {
      "cell_type": "code",
      "execution_count": null,
      "metadata": {
        "colab": {
          "base_uri": "https://localhost:8080/"
        },
        "id": "WLSlwfyLPbpB",
        "outputId": "135c4665-99fb-412f-f711-4f01822f967d"
      },
      "outputs": [
        {
          "data": {
            "text/plain": [
              "9"
            ]
          },
          "execution_count": 122,
          "metadata": {},
          "output_type": "execute_result"
        }
      ],
      "source": [
        "# Если хотим искать справа налево используем .rfind() - right - c англ. право\n",
        "string.rfind('l')"
      ]
    },
    {
      "cell_type": "code",
      "execution_count": null,
      "metadata": {
        "colab": {
          "base_uri": "https://localhost:8080/"
        },
        "id": "JMoggWW-P6HK",
        "outputId": "3437fde0-908a-4775-c4c1-9120e779e1b7"
      },
      "outputs": [
        {
          "data": {
            "text/plain": [
              "-1"
            ]
          },
          "execution_count": 123,
          "metadata": {},
          "output_type": "execute_result"
        }
      ],
      "source": [
        "string.find('Help') # Если запрашиваемая подстрока не найдена - возвращает -1"
      ]
    },
    {
      "cell_type": "code",
      "execution_count": null,
      "metadata": {
        "colab": {
          "base_uri": "https://localhost:8080/"
        },
        "id": "QZWUNfEQQLBO",
        "outputId": "5dab52b6-ac02-4e99-8b19-b9c0c127d229"
      },
      "outputs": [
        {
          "data": {
            "text/plain": [
              "3"
            ]
          },
          "execution_count": 124,
          "metadata": {},
          "output_type": "execute_result"
        }
      ],
      "source": [
        "#Количество вхождений подстроки:\n",
        "string.count('l')"
      ]
    },
    {
      "cell_type": "code",
      "execution_count": null,
      "metadata": {
        "colab": {
          "base_uri": "https://localhost:8080/"
        },
        "id": "uDGDJmhsQWNt",
        "outputId": "9fee2139-9654-4703-c215-771967931640"
      },
      "outputs": [
        {
          "data": {
            "text/plain": [
              "1"
            ]
          },
          "execution_count": 125,
          "metadata": {},
          "output_type": "execute_result"
        }
      ],
      "source": [
        "string.count('ll')"
      ]
    },
    {
      "cell_type": "code",
      "execution_count": null,
      "metadata": {
        "colab": {
          "base_uri": "https://localhost:8080/"
        },
        "id": "TdAUbc70QaBH",
        "outputId": "532e3458-7b9c-461c-a7a3-61bd9d2e9593"
      },
      "outputs": [
        {
          "data": {
            "text/plain": [
              "0"
            ]
          },
          "execution_count": 126,
          "metadata": {},
          "output_type": "execute_result"
        }
      ],
      "source": [
        "string.count('Help')"
      ]
    },
    {
      "cell_type": "code",
      "execution_count": null,
      "metadata": {
        "colab": {
          "base_uri": "https://localhost:8080/",
          "height": 35
        },
        "id": "d0M73VKbQg9X",
        "outputId": "09cf8e73-e72d-4421-aaa6-dd71e7f3dedb"
      },
      "outputs": [
        {
          "data": {
            "application/vnd.google.colaboratory.intrinsic+json": {
              "type": "string"
            },
            "text/plain": [
              "'Hi World!'"
            ]
          },
          "execution_count": 127,
          "metadata": {},
          "output_type": "execute_result"
        }
      ],
      "source": [
        "string.replace('Hello', 'Hi')"
      ]
    },
    {
      "cell_type": "markdown",
      "metadata": {
        "id": "KfMSop2IQpBK"
      },
      "source": [
        "Напоминаю, строки неизменяемые и ни один метод не поменял изначальную строку:"
      ]
    },
    {
      "cell_type": "code",
      "execution_count": null,
      "metadata": {
        "colab": {
          "base_uri": "https://localhost:8080/",
          "height": 35
        },
        "id": "7xWV9ZC1Qnhb",
        "outputId": "b991d581-0aab-4987-d58a-2a222d038353"
      },
      "outputs": [
        {
          "data": {
            "application/vnd.google.colaboratory.intrinsic+json": {
              "type": "string"
            },
            "text/plain": [
              "'Hello World!'"
            ]
          },
          "execution_count": 128,
          "metadata": {},
          "output_type": "execute_result"
        }
      ],
      "source": [
        "string"
      ]
    },
    {
      "cell_type": "code",
      "execution_count": null,
      "metadata": {
        "colab": {
          "base_uri": "https://localhost:8080/"
        },
        "id": "avf4mMsuQoPr",
        "outputId": "02fc7cf8-fc6c-40d6-9279-d277bda248b7"
      },
      "outputs": [
        {
          "data": {
            "text/plain": [
              "True"
            ]
          },
          "execution_count": 129,
          "metadata": {},
          "output_type": "execute_result"
        }
      ],
      "source": [
        "# Проверка окончания строки\n",
        "string.endswith('World!') # ends with с англ. заканчивается с"
      ]
    },
    {
      "cell_type": "code",
      "execution_count": null,
      "metadata": {
        "colab": {
          "base_uri": "https://localhost:8080/"
        },
        "id": "fj5d-HLBQoTA",
        "outputId": "1bfecb0f-0189-445c-b538-451f7972afb3"
      },
      "outputs": [
        {
          "data": {
            "text/plain": [
              "False"
            ]
          },
          "execution_count": 130,
          "metadata": {},
          "output_type": "execute_result"
        }
      ],
      "source": [
        "string.endswith('s!')"
      ]
    },
    {
      "cell_type": "code",
      "execution_count": null,
      "metadata": {
        "colab": {
          "base_uri": "https://localhost:8080/"
        },
        "id": "0y0iaSVdQoWQ",
        "outputId": "e59e29b0-6e8a-4909-c230-a7dda116c7d9"
      },
      "outputs": [
        {
          "data": {
            "text/plain": [
              "False"
            ]
          },
          "execution_count": 131,
          "metadata": {},
          "output_type": "execute_result"
        }
      ],
      "source": [
        "string.endswith('Hello')"
      ]
    },
    {
      "cell_type": "code",
      "execution_count": null,
      "metadata": {
        "id": "fvK2mX8-QoZT"
      },
      "outputs": [],
      "source": [
        "# Сборка строки из списка"
      ]
    },
    {
      "cell_type": "code",
      "execution_count": null,
      "metadata": {
        "colab": {
          "base_uri": "https://localhost:8080/",
          "height": 35
        },
        "id": "MSLOVWkyQocx",
        "outputId": "2af2fb0a-be3d-4f58-9269-e35580f70646"
      },
      "outputs": [
        {
          "data": {
            "application/vnd.google.colaboratory.intrinsic+json": {
              "type": "string"
            },
            "text/plain": [
              "'1spam2spam3'"
            ]
          },
          "execution_count": 133,
          "metadata": {},
          "output_type": "execute_result"
        }
      ],
      "source": [
        "'spam'.join(['1','2','3']) # вставляет строчку между элементами списка"
      ]
    },
    {
      "cell_type": "code",
      "execution_count": null,
      "metadata": {
        "colab": {
          "base_uri": "https://localhost:8080/",
          "height": 35
        },
        "id": "QFyPNdDpQofz",
        "outputId": "5d6e7dca-ce59-4302-bbcf-6f6849f4dd26"
      },
      "outputs": [
        {
          "data": {
            "application/vnd.google.colaboratory.intrinsic+json": {
              "type": "string"
            },
            "text/plain": [
              "'123'"
            ]
          },
          "execution_count": 134,
          "metadata": {},
          "output_type": "execute_result"
        }
      ],
      "source": [
        "''.join(['1','2','3']) # если строчка пустая - элементы списка слипаются вместе"
      ]
    },
    {
      "cell_type": "code",
      "execution_count": null,
      "metadata": {
        "colab": {
          "base_uri": "https://localhost:8080/",
          "height": 35
        },
        "id": "8nXWyMmHQojA",
        "outputId": "17a0af37-1d8e-494c-b6f7-c4131811fa92"
      },
      "outputs": [
        {
          "data": {
            "application/vnd.google.colaboratory.intrinsic+json": {
              "type": "string"
            },
            "text/plain": [
              "'hspamispam!'"
            ]
          },
          "execution_count": 135,
          "metadata": {},
          "output_type": "execute_result"
        }
      ],
      "source": [
        "#можно использовать не только с списком\n",
        "'spam'.join('hi!') # вставляет строчку между каждым элементом строки, переданной в качестве аргумента"
      ]
    },
    {
      "cell_type": "code",
      "execution_count": null,
      "metadata": {
        "colab": {
          "base_uri": "https://localhost:8080/"
        },
        "id": "JEx8HW01T9hl",
        "outputId": "e92de5e6-e9e1-45c1-beb1-23ad228d90f1"
      },
      "outputs": [
        {
          "data": {
            "text/plain": [
              "True"
            ]
          },
          "execution_count": 136,
          "metadata": {},
          "output_type": "execute_result"
        }
      ],
      "source": [
        "# Вспомним оператор in, он позволяет проверить наличие подстроки в строке.\n",
        "'2.7' in 'Число E: 2.718281828'"
      ]
    },
    {
      "cell_type": "code",
      "execution_count": null,
      "metadata": {
        "colab": {
          "base_uri": "https://localhost:8080/"
        },
        "id": "TzPq5R-4TQP4",
        "outputId": "d2e22765-6dcb-476a-922d-660a56284157"
      },
      "outputs": [
        {
          "data": {
            "text/plain": [
              "False"
            ]
          },
          "execution_count": 137,
          "metadata": {},
          "output_type": "execute_result"
        }
      ],
      "source": [
        "'2.76' in 'Число E: 2.718281828'"
      ]
    },
    {
      "cell_type": "code",
      "execution_count": null,
      "metadata": {
        "id": "KFKzAqYHzmwt"
      },
      "outputs": [],
      "source": [
        "# здесь опробуйте те методы, которые вызывают интерес (или все))\n"
      ]
    },
    {
      "cell_type": "markdown",
      "metadata": {
        "id": "N7MRpp8pUWQQ"
      },
      "source": [
        "# Форматирование строк"
      ]
    },
    {
      "cell_type": "code",
      "execution_count": null,
      "metadata": {
        "colab": {
          "base_uri": "https://localhost:8080/",
          "height": 35
        },
        "id": "L__cP4xoUV-u",
        "outputId": "178ad45a-0ee9-4a1a-d45e-c3327f407a83"
      },
      "outputs": [
        {
          "data": {
            "application/vnd.google.colaboratory.intrinsic+json": {
              "type": "string"
            },
            "text/plain": [
              "'Лень - главное достоинство программиста. (Larry Wall)'"
            ]
          },
          "execution_count": 139,
          "metadata": {},
          "output_type": "execute_result"
        }
      ],
      "source": [
        "#1-ый способ форматирования: # он используется оооочень редко\n",
        "text = '%s - главное достоинство программиста. (%s)'# символ <%s> - показывет куда нужно подставить значение\n",
        "text%('Лень','Larry Wall') #  тут: куда_нужно_подставить%(какие,значения) # значения передаются в нужном порядке"
      ]
    },
    {
      "cell_type": "code",
      "execution_count": null,
      "metadata": {
        "colab": {
          "base_uri": "https://localhost:8080/",
          "height": 35
        },
        "id": "7-ZTcUkcTQdS",
        "outputId": "041438af-b1e7-4a40-dd60-d0b14411bb14"
      },
      "outputs": [
        {
          "data": {
            "application/vnd.google.colaboratory.intrinsic+json": {
              "type": "string"
            },
            "text/plain": [
              "'Цифры не лгут, но лжецы пользуются формулами. (Robert A. Heinlein)'"
            ]
          },
          "execution_count": 140,
          "metadata": {},
          "output_type": "execute_result"
        }
      ],
      "source": [
        "# 2- ой способ, метод : # используется чаще чем 1-й\n",
        "text = \"{} не лгут, но {} пользуются формулами. ({})\"\n",
        "text.format(\"Цифры\",\"лжецы\",'Robert A. Heinlein')"
      ]
    },
    {
      "cell_type": "code",
      "execution_count": null,
      "metadata": {
        "colab": {
          "base_uri": "https://localhost:8080/",
          "height": 35
        },
        "id": "YAKOllU0TQl8",
        "outputId": "1db100f6-9262-44fd-f32a-6834d9d0726f"
      },
      "outputs": [
        {
          "data": {
            "application/vnd.google.colaboratory.intrinsic+json": {
              "type": "string"
            },
            "text/plain": [
              "'Цифры не лгут, но лжецы пользуются формулами. (Robert A. Heinlein)'"
            ]
          },
          "execution_count": 141,
          "metadata": {},
          "output_type": "execute_result"
        }
      ],
      "source": [
        "# то же самое, только с использованием переменной\n",
        "text = \"{num} не лгут, но {bad} пользуются формулами. ({author})\"\n",
        "text.format(num = \"Цифры\",bad = \"лжецы\", author = 'Robert A. Heinlein')"
      ]
    },
    {
      "cell_type": "code",
      "execution_count": null,
      "metadata": {
        "colab": {
          "base_uri": "https://localhost:8080/",
          "height": 35
        },
        "id": "a6cn7Yf1TQpm",
        "outputId": "512da299-6479-48ca-e70e-fc81f3e65922"
      },
      "outputs": [
        {
          "data": {
            "application/vnd.google.colaboratory.intrinsic+json": {
              "type": "string"
            },
            "text/plain": [
              "'Преждевременная оптимизация - корень всех зол. (Donald Knuth)'"
            ]
          },
          "execution_count": 142,
          "metadata": {},
          "output_type": "execute_result"
        }
      ],
      "source": [
        "# 3 -ий способ: f строки # самый частый и мой любимый)\n",
        "subject = \"оптимизация\"\n",
        "author = \"Donald Knuth\"\n",
        "\n",
        "f\"Преждевременная {subject} - корень всех зол. ({author})\""
      ]
    },
    {
      "cell_type": "markdown",
      "metadata": {
        "id": "tZ9QUmpxW8sR"
      },
      "source": [
        "# Модификаторы форматирования\n",
        "Модификаторов форматирования очень много. Можно посмотреть их по ссылке:\n",
        "https://docs.python.org/3/library/string.html\n",
        "\n",
        "Однако в нашей работе почти все не нужны, кроме этого:"
      ]
    },
    {
      "cell_type": "code",
      "execution_count": null,
      "metadata": {
        "colab": {
          "base_uri": "https://localhost:8080/"
        },
        "id": "-Ho4t_1iW8DF",
        "outputId": "e1e6a534-a4b5-4915-9953-88f0430b7bd6"
      },
      "outputs": [
        {
          "name": "stdout",
          "output_type": "stream",
          "text": [
            "0.6666666666666666\n"
          ]
        }
      ],
      "source": [
        "num = 2/3\n",
        "print(num)"
      ]
    },
    {
      "cell_type": "code",
      "execution_count": null,
      "metadata": {
        "colab": {
          "base_uri": "https://localhost:8080/"
        },
        "id": "U7tQTw9HTQtn",
        "outputId": "290d084c-06b9-4dde-c591-f9c75c56e1ae"
      },
      "outputs": [
        {
          "name": "stdout",
          "output_type": "stream",
          "text": [
            "Num: 0.667\n"
          ]
        }
      ],
      "source": [
        "print(f'Num: {num:.3f}')"
      ]
    },
    {
      "cell_type": "markdown",
      "metadata": {
        "id": "HtbysA81Ysg0"
      },
      "source": [
        "# Практика по строкам и спискам"
      ]
    },
    {
      "cell_type": "markdown",
      "metadata": {
        "id": "8xN708c8L57o"
      },
      "source": [
        "**Задание №1.** Суммирование элементов списка\n",
        "\n",
        "На вход программе подается целое положительное число N > 0. Напишите программу, которая бы считала сумму всех элементов от 1 до N включительно."
      ]
    },
    {
      "cell_type": "markdown",
      "metadata": {
        "id": "jFuSPXX4L8s1"
      },
      "source": [
        "Пример работы программы:\n",
        "\n",
        "Введите число: 100\n",
        "\n",
        "Сумма всех чисел от 1 до 100 = 5050"
      ]
    },
    {
      "cell_type": "code",
      "execution_count": null,
      "metadata": {
        "colab": {
          "base_uri": "https://localhost:8080/"
        },
        "id": "XvCzNGTbZX-C",
        "outputId": "3b366d67-ba67-4fe9-d6d5-2ce5a49055d5"
      },
      "outputs": [
        {
          "name": "stdout",
          "output_type": "stream",
          "text": [
            "Введите число: 100\n",
            "Сумма всех чисел от 1 до 100 = 5050\n"
          ]
        }
      ],
      "source": [
        "# эту задачу млжно решить так:\n",
        "n = int(input('Введите число: '))\n",
        "print(f'Сумма всех чисел от 1 до {n} = {int((n+1)*(n/2))}') # int нужен, тк из-за деления результирующие число имеет тип float"
      ]
    },
    {
      "cell_type": "markdown",
      "metadata": {
        "id": "x89_pInTa-yF"
      },
      "source": [
        "Я использовала здесь формулу Гаусса.\n",
        "\n",
        "Есть красивая легенда о том как он ее придумал.\n",
        "\n",
        "Маленький мальчик(Гаусс) учился в школе. И в один день учителю нужно было заняться своими делами и чтоб отвлечь учеников надолго он дал задание: сложить все числа от 1 до 100. И через 5 минут один из учеников приносит ему ответ. Это стало неожиданностью для учителя, он-то надеялся, что у него будет как минимум пара часов.\n",
        "Что-же сделал этот маленький мальчик: он заметил что если складывать первое и последние числа (100+1)+(99+2)+(98+3)+.. в каждой такой скобке получается число 101= 100+1, а таких скобок будет половина от 100 - отсюда получается формула:\n",
        "Сумма всех чисел от 1 до N = (N+1)*(N/2)\n",
        "\n"
      ]
    },
    {
      "cell_type": "markdown",
      "metadata": {
        "id": "M5r0dB3ddXGs"
      },
      "source": [
        "Но нам нужно закрепить тему списков: так что давайте решим эту задачу с помощью них)"
      ]
    },
    {
      "cell_type": "code",
      "execution_count": null,
      "metadata": {
        "id": "BUnBQLVCLqM5"
      },
      "outputs": [],
      "source": []
    },
    {
      "cell_type": "markdown",
      "metadata": {
        "id": "8GSB5HZQd99p"
      },
      "source": [
        "**Задание №2.** Монстр франкенштейна\n",
        "\n",
        "Напишите программу, которая последовательно букву А заменяла бы на Т, G на С"
      ]
    },
    {
      "cell_type": "code",
      "execution_count": null,
      "metadata": {
        "id": "hqYnjRSyfYi_"
      },
      "outputs": [],
      "source": [
        "# Пример входных данных:\n",
        "# TAA\n",
        "# Пример выходных данных:\n",
        "# TTT\n"
      ]
    },
    {
      "cell_type": "code",
      "execution_count": null,
      "metadata": {
        "id": "7KdPi55NlYsF"
      },
      "outputs": [],
      "source": []
    },
    {
      "cell_type": "markdown",
      "metadata": {
        "id": "bJRzg9prTPTM"
      },
      "source": [
        "Пример работы программы:\n",
        "\n",
        "Введите последовательно ДНК: CAG\n",
        "\n",
        "Результат замены: CTC"
      ]
    },
    {
      "cell_type": "markdown",
      "metadata": {
        "id": "0IP52MnfTPeD"
      },
      "source": [
        "**Задание №3.** Сколько букв найдено\n",
        "\n",
        "Напишите программу, которая на вход принимает строку. Потом принимает значение какой-то буквы и выводит сколько раз встречается эта буква в строке."
      ]
    },
    {
      "cell_type": "code",
      "execution_count": null,
      "metadata": {
        "id": "fKyYknjPa-F9"
      },
      "outputs": [],
      "source": []
    },
    {
      "cell_type": "markdown",
      "metadata": {
        "id": "l5kESS4rlfXD"
      },
      "source": [
        "Пример работы программы:\n",
        "\n",
        "Добрый день. Введите строку: Hello World!\n",
        "\n",
        "Введите букву: o\n",
        "\n",
        "В строке 'Hello World!' найдено 2 'o'"
      ]
    },
    {
      "cell_type": "markdown",
      "metadata": {
        "id": "G8dcanFkmwSV"
      },
      "source": [
        "**Задание №4.** Уберем всё лишнее\n",
        "\n",
        "Вашей задачей является написать программу, которая принимает на вход строку и убирает в ней все лишние пробелы."
      ]
    },
    {
      "cell_type": "code",
      "execution_count": null,
      "metadata": {
        "id": "UVtAhnwrleYM"
      },
      "outputs": [],
      "source": []
    },
    {
      "cell_type": "markdown",
      "metadata": {
        "id": "vp0Ih5ernzQs"
      },
      "source": [
        "Пример работы программы:\n",
        "\n",
        "```\n",
        "Введите строку: Hello   ,    Kitty! How     are        you?\n",
        "\n",
        "Старая строка: Hello   ,    Kitty! How     are        you?\n",
        "\n",
        "Новая строка: Hello , Kitty! How are you?\n",
        "```\n",
        "\n"
      ]
    },
    {
      "cell_type": "markdown",
      "metadata": {
        "id": "COZKHv6wnLvj"
      },
      "source": [
        "**Задание №5.**  Сумма элементов строки\n",
        "\n",
        "Напишите программу, которой на вход подается строка формата \"1, 2, 3, 4, 5\", и которая выводит сумму всех чисел в строке.\n",
        "В строке может быть ровно 5 чисел."
      ]
    },
    {
      "cell_type": "code",
      "execution_count": null,
      "metadata": {
        "id": "VoSi2Y1qnK7c"
      },
      "outputs": [],
      "source": []
    },
    {
      "cell_type": "markdown",
      "metadata": {
        "id": "9XCGgYocnoZ8"
      },
      "source": [
        "Пример работы программы:\n",
        "\n",
        "Введите Вашу последовательность: 1, 2, 5, 3, 4\n",
        "\n",
        "Сумма последовательности: 15"
      ]
    },
    {
      "cell_type": "markdown",
      "metadata": {
        "id": "1r68LIwP0BM5"
      },
      "source": [
        "**Задание №6.**  Число?\n",
        "\n",
        "На вход программе поступает строка с вопросом типа в двух форматах:\n",
        "* 'Это целое число? <тут находится либо целое число либо нет>'\n",
        "* 'Это точно целое число? <тут находится либо целое число либо нет>'\n",
        "\n",
        "Программа выводит True - если это число и целое - иначе False\n"
      ]
    },
    {
      "cell_type": "code",
      "execution_count": null,
      "metadata": {
        "id": "XQ3haSTG0Bbm"
      },
      "outputs": [],
      "source": []
    },
    {
      "cell_type": "markdown",
      "metadata": {
        "id": "qPOnM-5B0BoA"
      },
      "source": [
        "Пример работы программы:\n",
        "\n",
        "\n",
        "\n",
        "```\n",
        "Введите вопрос: Это целое число? 3\n",
        "Ответ: True\n",
        "```\n",
        "\n",
        "\n"
      ]
    },
    {
      "cell_type": "markdown",
      "metadata": {
        "id": "XZyEDhg30B0a"
      },
      "source": [
        "**Задание №7.**  \n",
        "На вход программы подаются слова через пробел.\n",
        "\n",
        "Прграмма выводит слова в алфавитном порядке построчно.\n",
        "\n",
        "*решите в две строчки\n",
        "\n",
        "**решите задачу в одну строчку, учитывая input"
      ]
    },
    {
      "cell_type": "markdown",
      "metadata": {
        "id": "gSmYoU5AJayK"
      },
      "source": [
        "#Подсказка"
      ]
    },
    {
      "cell_type": "markdown",
      "metadata": {
        "id": "sV8oPzl-JqHM"
      },
      "source": [
        "Методы сортировки также работают для символов"
      ]
    },
    {
      "cell_type": "markdown",
      "metadata": {
        "id": "y9RkCIExJfRL"
      },
      "source": [
        "\n",
        "# --"
      ]
    },
    {
      "cell_type": "code",
      "execution_count": null,
      "metadata": {
        "id": "lSbV2WvM0B_I"
      },
      "outputs": [],
      "source": []
    },
    {
      "cell_type": "markdown",
      "metadata": {
        "id": "5IdNOwbxETJo"
      },
      "source": [
        "\n",
        "Пример работы программы:\n",
        "```\n",
        "Введите слова через пробел: Какой чудесный день Какой чудесный я\n",
        "\n",
        "Слова в алфавитном порядке:\n",
        "Какой\n",
        "Какой\n",
        "день\n",
        "чудесный\n",
        "чудесный\n",
        "я\n",
        "\n",
        "```\n",
        "\n"
      ]
    },
    {
      "cell_type": "markdown",
      "metadata": {
        "id": "r37JvB4D0CWl"
      },
      "source": [
        "**Задание №8.**  Вложенные списки\n",
        "\n",
        "На вход программе поступает строка из 6 слов\n",
        ".\n",
        "Программа выводит список с вложенными списками, групируя слова по два"
      ]
    },
    {
      "cell_type": "code",
      "execution_count": null,
      "metadata": {
        "id": "L3svW2PL0CfQ"
      },
      "outputs": [],
      "source": []
    },
    {
      "cell_type": "markdown",
      "metadata": {
        "id": "FoQ8X0-K0CnN"
      },
      "source": [
        "Пример работы программы:\n",
        "\n",
        "Введите строку из 6 слов: Какой чудесный день Какой чудесный я\n",
        "\n",
        "Вложеннный список: [['Какой', 'чудесный'], ['день', 'Какой'], ['чудесный', 'я']]"
      ]
    },
    {
      "cell_type": "markdown",
      "metadata": {
        "id": "HUkLiosO0CxA"
      },
      "source": [
        "**Задание №9.**   Числа и цифры\n",
        "\n",
        "На вход программы подается число N. Напишите программу, которая выводила бы:\n",
        "\n",
        "* первую цифру числа;\n",
        "* последнюю цифру числа;\n",
        "* остальные цифры этого числа."
      ]
    },
    {
      "cell_type": "code",
      "execution_count": null,
      "metadata": {
        "id": "Oa_XI9NS0C6m"
      },
      "outputs": [],
      "source": []
    },
    {
      "cell_type": "markdown",
      "metadata": {
        "id": "HfmqRlu00DCg"
      },
      "source": [
        "Пример работы программы:\n",
        "\n",
        "Введите Ваше число: 26231\n",
        "\n",
        "Первая цифра: 2\n",
        "\n",
        "Последняя цифры: 1\n",
        "\n",
        "Остальные цифры: 623"
      ]
    },
    {
      "cell_type": "markdown",
      "metadata": {
        "id": "ODLyQhiF0LJK"
      },
      "source": [
        "**Задание №10.**  Определитель матрицы\n",
        "\n",
        "\n",
        "Напишите программу которой на вход подаются через пробел 4 числа (a11, a12, a21, a22).\n",
        "Нужно написать программу которая выведет матрицу в виде:\n",
        "\n",
        "a11 a12\n",
        "\n",
        "a21 a22\n",
        "\n",
        "и ее определитель.\n",
        "\n",
        "Подробно о том как считать определитель матрицы 2-го порядка (http://mozgan.ru/Math/SecondOrderMatrix)\n",
        "\n",
        "Решайте задачу поэтапно: на каждом этапе выводите - что получается.\n",
        "\n",
        "(Подсказка: В этой сдаче можно использовать все: строки, списки, split, срезы, конкотенацию, join, вложенные списки и другое)"
      ]
    },
    {
      "cell_type": "code",
      "execution_count": null,
      "metadata": {
        "id": "lkVV_UzC0LT_"
      },
      "outputs": [],
      "source": []
    },
    {
      "cell_type": "markdown",
      "metadata": {
        "id": "a7zaIls50Lg0"
      },
      "source": [
        "Пример работы программы:\n",
        "\n",
        "\n",
        "\n",
        "```\n",
        "Введите a11 a12 a21 a22: 1 2 3 4\n",
        "Матрица:\n",
        "1 2\n",
        "3 4\n",
        "\n",
        "Определитель: -2\n",
        "\n",
        "```"
      ]
    },
    {
      "cell_type": "markdown",
      "metadata": {
        "id": "uzimi9d5PEEg"
      },
      "source": [
        "# Словари"
      ]
    },
    {
      "cell_type": "markdown",
      "metadata": {
        "id": "1LphiaaxNLY7"
      },
      "source": [
        "После списков словари являются, пожалуй, самым гибким из встроенных типов данных в языке Python. Если списки являются упорядоченными коллекциями объектов, то в отличие от них элементы в словарях сохраняются и извлекаются с помощью ключа, а не с помощью смещения, определяющего их позицию.\n",
        "\n",
        "Следовательно можно сказать, что словарь - это неупорядоченная коллекция других объектов допуск к которым осуществляется с помощью извлечения по ключу. Словари изменяемы.\n",
        "\n",
        "Для них характерно:\n",
        "\n",
        "**1) Доступ к элементам по ключу, а не по индексу**\n",
        "\n",
        "* Иногда словари называют ассоциативными массивами, или хешами. Они определяют взаимосвязь между значениями и ключами, поэтому для извлечения элементов словаря можно использовать ключи, под которыми эти элементы были сохранены в словаре. Для получения элементов словаря используется та же самая операция доступа по индексу, как и в списке, только индекс приобретает форму ключа, а не смещения относительно начала.\n",
        "\n",
        "**2) Неупорядоченные коллекции произвольных объектов**\n",
        "\n",
        "* В отличие от списков, элементы словарей хранятся в неопределенном порядке. В действительности, интерпретатор вносит элемент случайности в порядок следования элементов для обеспечения более быстрого поиска. Ключи описывают символическое (не физическое) местоположение элементов в словаре.\n",
        "\n",
        "**3) Переменная длина, изменяемость и произвольное число уровней вложенности**\n",
        "\n",
        "* Подобно спискам словари могут увеличиваться и уменьшаться непосредственно \"на месте\" (то есть без создания новых копий). Они могут содержать объекты любых типов и поддерживают возможность создания произвольного числа уровней вложенности (они могут содержать списки, другие словари и так далее)\n",
        "\n",
        "* Словари могут изменяться непосредственно с использованием операции индексирования (они являются изменяемыми), но они не поддерживают операции над последовательностями, которые поддерживаются строками и списками. Словари представляют собой неупорядоченные коллекции, поэтому операции, которые основаны на использовании фиксированного порядка следования элементов (например, конкатенация, извлечение среза), не имеют смысла для словарей.\n",
        "\n",
        "\n",
        "Общий вид словаря можно описать следующим образом:\n",
        "\n",
        "название_словаря = {ключ : значение , ключ : значение, ключ : значение }"
      ]
    },
    {
      "cell_type": "code",
      "execution_count": null,
      "metadata": {
        "colab": {
          "base_uri": "https://localhost:8080/"
        },
        "id": "N-nynhgWa22B",
        "outputId": "9262e6aa-9056-4179-ec52-cbf99fd2c679"
      },
      "outputs": [
        {
          "name": "stdout",
          "output_type": "stream",
          "text": [
            "Разницы между созданием пустого(!) словая с помощью литералов- empty_dict1: {}, и функции dict- empty_dict2: {} - нет\n"
          ]
        }
      ],
      "source": [
        "# инициализация пустого словаря\n",
        "empty_dict1 = {}\n",
        "empty_dict2 = dict()\n",
        "print(f'Разницы между созданием пустого(!) словая с помощью литералов- empty_dict1: {empty_dict1}, и функции dict- empty_dict2: {empty_dict2} - нет')\n",
        "# Однако лучше создавать пустой словарь с помощью литералов, тк это у нас как у программистов займет меньше времени)\n",
        "# + Так принято"
      ]
    },
    {
      "cell_type": "markdown",
      "metadata": {
        "id": "nx1rShE0P0ps"
      },
      "source": [
        "Примеры cоздания словаря который содержит элементы"
      ]
    },
    {
      "cell_type": "code",
      "execution_count": null,
      "metadata": {
        "colab": {
          "base_uri": "https://localhost:8080/"
        },
        "id": "7wbi7ubHPfwe",
        "outputId": "653a2932-aec2-4c32-8487-b0b886e10d16"
      },
      "outputs": [
        {
          "data": {
            "text/plain": [
              "{'spam': 2, 'eggs': 3}"
            ]
          },
          "execution_count": 147,
          "metadata": {},
          "output_type": "execute_result"
        }
      ],
      "source": [
        "# Вариант  1: с помощью литералов\n",
        "d = {'spam': 2, 'eggs': 3}\n",
        "d"
      ]
    },
    {
      "cell_type": "code",
      "execution_count": null,
      "metadata": {
        "colab": {
          "base_uri": "https://localhost:8080/"
        },
        "id": "ZUvEybsAPfzg",
        "outputId": "bd1f7f0d-1863-4018-b127-6b40adcac144"
      },
      "outputs": [
        {
          "data": {
            "text/plain": [
              "{'spam': 2, 'eggs': 3}"
            ]
          },
          "execution_count": 148,
          "metadata": {},
          "output_type": "execute_result"
        }
      ],
      "source": [
        "# Вариант 2: с помощью функции dict\n",
        "d = dict(spam= 2, eggs= 3) # при таком варианте на ключи накладываются\n",
        "# те же ограничения, что и на переменную(например: нельзя начинать с цифры)\n",
        "d"
      ]
    },
    {
      "cell_type": "code",
      "execution_count": null,
      "metadata": {
        "colab": {
          "base_uri": "https://localhost:8080/"
        },
        "id": "w6_912sOPf2G",
        "outputId": "99fd4d81-434b-4baa-bcbc-7b867b873274"
      },
      "outputs": [
        {
          "data": {
            "text/plain": [
              "{'spam': 2, 'eggs': 3}"
            ]
          },
          "execution_count": 149,
          "metadata": {},
          "output_type": "execute_result"
        }
      ],
      "source": [
        "# Вариант 3 с помощью функции dict и вложенных списков\n",
        "d = dict([['spam', 2], ['eggs', 3]])\n",
        "d"
      ]
    },
    {
      "cell_type": "code",
      "execution_count": null,
      "metadata": {
        "colab": {
          "base_uri": "https://localhost:8080/"
        },
        "id": "Y8BrTVGsPf4-",
        "outputId": "f5988931-bb0b-47ef-ec41-216e0f1a8f4e"
      },
      "outputs": [
        {
          "data": {
            "text/plain": [
              "{'spam': None, 'eggs': None}"
            ]
          },
          "execution_count": 150,
          "metadata": {},
          "output_type": "execute_result"
        }
      ],
      "source": [
        "# Вариант 4 с помощью функции dict.fromkeys()\n",
        "d = dict.fromkeys(['spam', 'eggs'])# мы передаем ключи(а значения будут None)\n",
        "d"
      ]
    },
    {
      "cell_type": "code",
      "execution_count": null,
      "metadata": {
        "colab": {
          "base_uri": "https://localhost:8080/"
        },
        "id": "jYYot4-nPf7X",
        "outputId": "a4209487-13e6-4f5a-c592-6aea53fd0cff"
      },
      "outputs": [
        {
          "data": {
            "text/plain": [
              "{'spam': [0, 0], 'eggs': [0, 0]}"
            ]
          },
          "execution_count": 151,
          "metadata": {},
          "output_type": "execute_result"
        }
      ],
      "source": [
        "# Вариант 4. Инциализация значением.\n",
        "# мы передаем список ключей в качестве 1го аргумента, а в качестве второго значение\n",
        "# значение у всех ключей будет одинаковым\n",
        "d = dict.fromkeys(['spam', 'eggs'],[0,0])\n",
        "d"
      ]
    },
    {
      "cell_type": "markdown",
      "metadata": {
        "id": "n-hU6tKlSNS8"
      },
      "source": [
        "Пример вложенных словарей"
      ]
    },
    {
      "cell_type": "code",
      "execution_count": null,
      "metadata": {
        "colab": {
          "base_uri": "https://localhost:8080/"
        },
        "id": "QpxwJcOfPf98",
        "outputId": "268c86b4-85f9-4235-b5e0-836867e041f2"
      },
      "outputs": [
        {
          "data": {
            "text/plain": [
              "{'food': {'ham': 1, 'egg': 2}}"
            ]
          },
          "execution_count": 152,
          "metadata": {},
          "output_type": "execute_result"
        }
      ],
      "source": [
        "# Запись 1\n",
        "\n",
        "d_hard = {'food': {'ham': 1, 'egg': 2}}\n",
        "d_hard"
      ]
    },
    {
      "cell_type": "code",
      "execution_count": null,
      "metadata": {
        "colab": {
          "base_uri": "https://localhost:8080/"
        },
        "id": "tXWAU78sPgAT",
        "outputId": "518291ef-8d88-4abb-d450-511842e9237a"
      },
      "outputs": [
        {
          "data": {
            "text/plain": [
              "{'food': {'ham': 1, 'egg': 2}}"
            ]
          },
          "execution_count": 153,
          "metadata": {},
          "output_type": "execute_result"
        }
      ],
      "source": [
        "# Запись 2\n",
        "\n",
        "food = {'ham' : 1, 'egg' : 2}\n",
        "main_d = {'food' : food}\n",
        "main_d"
      ]
    },
    {
      "cell_type": "markdown",
      "metadata": {
        "id": "vuJYuUACSYdH"
      },
      "source": [
        "Извлечение значения по ключу"
      ]
    },
    {
      "cell_type": "code",
      "execution_count": null,
      "metadata": {
        "colab": {
          "base_uri": "https://localhost:8080/"
        },
        "id": "_LPn_nZRSYJ6",
        "outputId": "dd0a4f26-69d2-4648-a352-1a6a8f88e623"
      },
      "outputs": [
        {
          "data": {
            "text/plain": [
              "2"
            ]
          },
          "execution_count": 154,
          "metadata": {},
          "output_type": "execute_result"
        }
      ],
      "source": [
        "d = {'spam': 2, 'eggs': 3}\n",
        "\n",
        "d['spam']"
      ]
    },
    {
      "cell_type": "code",
      "execution_count": null,
      "metadata": {
        "colab": {
          "base_uri": "https://localhost:8080/"
        },
        "id": "yrlKZFQPPgC2",
        "outputId": "6d0fb2ab-e298-4f87-aa03-76a6935d709f"
      },
      "outputs": [
        {
          "data": {
            "text/plain": [
              "{'ham': 1, 'egg': 2}"
            ]
          },
          "execution_count": 155,
          "metadata": {},
          "output_type": "execute_result"
        }
      ],
      "source": [
        "food = {'ham' : 1, 'egg' : 2}\n",
        "main_d = {'food' : food}\n",
        "\n",
        "main_d['food']"
      ]
    },
    {
      "cell_type": "code",
      "execution_count": null,
      "metadata": {
        "colab": {
          "base_uri": "https://localhost:8080/"
        },
        "id": "LViQO6eRSikT",
        "outputId": "abc5bc50-8487-46d0-971d-b5632fe1a290"
      },
      "outputs": [
        {
          "data": {
            "text/plain": [
              "2"
            ]
          },
          "execution_count": 156,
          "metadata": {},
          "output_type": "execute_result"
        }
      ],
      "source": [
        "main_d['food']['egg']"
      ]
    },
    {
      "cell_type": "markdown",
      "metadata": {
        "id": "sDMFQIBDTe4i"
      },
      "source": [
        "Функция len()"
      ]
    },
    {
      "cell_type": "code",
      "execution_count": null,
      "metadata": {
        "colab": {
          "base_uri": "https://localhost:8080/"
        },
        "id": "Am1vu2G5Sk9r",
        "outputId": "582654fd-5d85-4dfe-b647-0f7e11ad9061"
      },
      "outputs": [
        {
          "name": "stdout",
          "output_type": "stream",
          "text": [
            "{'spam': 2, 'eggs': 3}\n"
          ]
        },
        {
          "data": {
            "text/plain": [
              "2"
            ]
          },
          "execution_count": 157,
          "metadata": {},
          "output_type": "execute_result"
        }
      ],
      "source": [
        "print(d)\n",
        "len(d)#длина - количество ключей в верхнем словаре"
      ]
    },
    {
      "cell_type": "code",
      "execution_count": null,
      "metadata": {
        "colab": {
          "base_uri": "https://localhost:8080/"
        },
        "id": "h13IQ5VlSlB9",
        "outputId": "170fc78b-720e-479a-8bfe-a240c8598178"
      },
      "outputs": [
        {
          "name": "stdout",
          "output_type": "stream",
          "text": [
            "{'food': {'ham': 1, 'egg': 2}}\n"
          ]
        },
        {
          "data": {
            "text/plain": [
              "1"
            ]
          },
          "execution_count": 158,
          "metadata": {},
          "output_type": "execute_result"
        }
      ],
      "source": [
        "print(d_hard)\n",
        "len(d_hard) #длина - количество ключей в верхнем словаре"
      ]
    },
    {
      "cell_type": "markdown",
      "metadata": {
        "id": "RwQaEvFUUFef"
      },
      "source": [
        "Оператор in на проверку вхождения"
      ]
    },
    {
      "cell_type": "code",
      "execution_count": null,
      "metadata": {
        "colab": {
          "base_uri": "https://localhost:8080/"
        },
        "id": "LvHaf9gYUExM",
        "outputId": "cc7223af-ef72-463d-e8dc-e446a0de1a43"
      },
      "outputs": [
        {
          "data": {
            "text/plain": [
              "True"
            ]
          },
          "execution_count": 159,
          "metadata": {},
          "output_type": "execute_result"
        }
      ],
      "source": [
        "'spam' in d # True - если такой ключь есть в списке"
      ]
    },
    {
      "cell_type": "markdown",
      "metadata": {
        "id": "w5coEUxrUdhJ"
      },
      "source": [
        "Получение списка ключей"
      ]
    },
    {
      "cell_type": "code",
      "execution_count": null,
      "metadata": {
        "colab": {
          "base_uri": "https://localhost:8080/"
        },
        "id": "kQ9TkyTVUdHD",
        "outputId": "05814145-f125-4c13-b145-62ccca7b3094"
      },
      "outputs": [
        {
          "data": {
            "text/plain": [
              "['spam', 'eggs']"
            ]
          },
          "execution_count": 160,
          "metadata": {},
          "output_type": "execute_result"
        }
      ],
      "source": [
        "list(d.keys())"
      ]
    },
    {
      "cell_type": "code",
      "execution_count": null,
      "metadata": {
        "colab": {
          "base_uri": "https://localhost:8080/"
        },
        "id": "J5ZtOHqjUNoo",
        "outputId": "d935fcd3-d175-4a4c-e572-3f8efd198f58"
      },
      "outputs": [
        {
          "data": {
            "text/plain": [
              "['spam', 'eggs']"
            ]
          },
          "execution_count": 161,
          "metadata": {},
          "output_type": "execute_result"
        }
      ],
      "source": [
        " # тоже самое с помощью преобразования в список\n",
        "list(d)"
      ]
    },
    {
      "cell_type": "markdown",
      "metadata": {
        "id": "GXF8U9d_U6WP"
      },
      "source": [
        "**Динамический список ключей**\n",
        "\n",
        "dict_keys - это специальный тип данных, который основан на типе list\n",
        "\n",
        "-создав такой список вам не нужно будет постоянно с изменением словаря - обновлять список ключей.\n"
      ]
    },
    {
      "cell_type": "code",
      "execution_count": null,
      "metadata": {
        "colab": {
          "base_uri": "https://localhost:8080/"
        },
        "id": "YvAUJrpDWtUw",
        "outputId": "9f50fff7-7090-4de5-a8df-0b4ce3d3e6e6"
      },
      "outputs": [
        {
          "data": {
            "text/plain": [
              "{'spam': 2, 'eggs': 3}"
            ]
          },
          "execution_count": 162,
          "metadata": {},
          "output_type": "execute_result"
        }
      ],
      "source": [
        "d"
      ]
    },
    {
      "cell_type": "code",
      "execution_count": null,
      "metadata": {
        "colab": {
          "base_uri": "https://localhost:8080/"
        },
        "id": "kYX2wxjQSlHk",
        "outputId": "ad19a7fb-dfb7-44a8-c993-8123582dbf24"
      },
      "outputs": [
        {
          "data": {
            "text/plain": [
              "dict_keys(['spam', 'eggs'])"
            ]
          },
          "execution_count": 163,
          "metadata": {},
          "output_type": "execute_result"
        }
      ],
      "source": [
        "list_of_keys = d.keys()\n",
        "list_of_keys # обратите внимание на вывод, он нам указывает - это не просто список"
      ]
    },
    {
      "cell_type": "code",
      "execution_count": null,
      "metadata": {
        "colab": {
          "base_uri": "https://localhost:8080/"
        },
        "id": "yVFfboGrWZyI",
        "outputId": "2a89e7fc-403e-47ac-834e-27569db24eff"
      },
      "outputs": [
        {
          "data": {
            "text/plain": [
              "{'spam': 2, 'eggs': 3, 'el': 4}"
            ]
          },
          "execution_count": 164,
          "metadata": {},
          "output_type": "execute_result"
        }
      ],
      "source": [
        "d['el'] = 4 #добавляем новый ключ и значение в список\n",
        "# позже разберем подробнее\n",
        "d"
      ]
    },
    {
      "cell_type": "code",
      "execution_count": null,
      "metadata": {
        "colab": {
          "base_uri": "https://localhost:8080/"
        },
        "id": "6iiP6yaCW52h",
        "outputId": "0ffbe647-86f3-422d-cfd3-877bd046ba50"
      },
      "outputs": [
        {
          "data": {
            "text/plain": [
              "dict_keys(['spam', 'eggs', 'el'])"
            ]
          },
          "execution_count": 165,
          "metadata": {},
          "output_type": "execute_result"
        }
      ],
      "source": [
        "list_of_keys #наш список ключей автоматически изменился"
      ]
    },
    {
      "cell_type": "code",
      "execution_count": null,
      "metadata": {
        "colab": {
          "base_uri": "https://localhost:8080/"
        },
        "id": "6dp0dhOeXJYn",
        "outputId": "babbc5b2-773c-4eb1-d160-750d24dcd767"
      },
      "outputs": [
        {
          "data": {
            "text/plain": [
              "dict_values([2, 3, 4])"
            ]
          },
          "execution_count": 166,
          "metadata": {},
          "output_type": "execute_result"
        }
      ],
      "source": [
        "# это динамический список значений\n",
        "d.values()"
      ]
    },
    {
      "cell_type": "code",
      "execution_count": null,
      "metadata": {
        "id": "5utdDKHPXU3C"
      },
      "outputs": [],
      "source": [
        "# здесь попробуйте проверить его динамичность, как было сделанно с списком ключей"
      ]
    },
    {
      "cell_type": "code",
      "execution_count": null,
      "metadata": {
        "colab": {
          "base_uri": "https://localhost:8080/"
        },
        "id": "YonWekBNXkNx",
        "outputId": "ce3b5e5b-d040-411c-8d61-d2e7e02bfeb3"
      },
      "outputs": [
        {
          "data": {
            "text/plain": [
              "[2, 3, 4]"
            ]
          },
          "execution_count": 168,
          "metadata": {},
          "output_type": "execute_result"
        }
      ],
      "source": [
        "#Получение нединамического списка значений словаря\n",
        "list(d.values())"
      ]
    },
    {
      "cell_type": "markdown",
      "metadata": {
        "id": "CymLf5OyqBEu"
      },
      "source": [
        "# Изменение словарей"
      ]
    },
    {
      "cell_type": "code",
      "execution_count": null,
      "metadata": {
        "colab": {
          "base_uri": "https://localhost:8080/"
        },
        "id": "LcVJl9zEqF-Z",
        "outputId": "a7cf3d9a-b9bd-4e54-caa1-ac8b5e0913ab"
      },
      "outputs": [
        {
          "data": {
            "text/plain": [
              "{'spam': 2, 'eggs': 3, 'hamm': 1}"
            ]
          },
          "execution_count": 169,
          "metadata": {},
          "output_type": "execute_result"
        }
      ],
      "source": [
        "# создаем словарь\n",
        "d = {'spam': 2, 'eggs': 3, 'hamm':1}\n",
        "d"
      ]
    },
    {
      "cell_type": "code",
      "execution_count": null,
      "metadata": {
        "colab": {
          "base_uri": "https://localhost:8080/"
        },
        "id": "8cZNTBy9qQDC",
        "outputId": "62707f0c-51a1-42a2-b4a0-144fec9be726"
      },
      "outputs": [
        {
          "data": {
            "text/plain": [
              "{'spam': [0, 1], 'eggs': 3, 'hamm': 1}"
            ]
          },
          "execution_count": 170,
          "metadata": {},
          "output_type": "execute_result"
        }
      ],
      "source": [
        "# меняем значение по ключу\n",
        "d['spam'] = [0,1]\n",
        "d"
      ]
    },
    {
      "cell_type": "code",
      "execution_count": null,
      "metadata": {
        "colab": {
          "base_uri": "https://localhost:8080/"
        },
        "id": "AMG5e3DAqGCW",
        "outputId": "5d8fdf61-9795-499f-efe9-4b10cafa62fc"
      },
      "outputs": [
        {
          "data": {
            "text/plain": [
              "{'spam': [0, 1], 'eggs': 3, 'hamm': ['grill', 'bake', 'fry']}"
            ]
          },
          "execution_count": 171,
          "metadata": {},
          "output_type": "execute_result"
        }
      ],
      "source": [
        "# если такого ключа нет -  он добавляется в словарь\n",
        "d['hamm'] =  ['grill', 'bake', 'fry']\n",
        "d"
      ]
    },
    {
      "cell_type": "code",
      "execution_count": null,
      "metadata": {
        "colab": {
          "base_uri": "https://localhost:8080/"
        },
        "id": "IvQ7-tCSqGGy",
        "outputId": "afb83ad9-ae06-416a-ea0c-d097709897f5"
      },
      "outputs": [
        {
          "data": {
            "text/plain": [
              "{'spam': [0, 1], 'hamm': ['grill', 'bake', 'fry']}"
            ]
          },
          "execution_count": 172,
          "metadata": {},
          "output_type": "execute_result"
        }
      ],
      "source": [
        "# Удаление пары -- ключ: значение. Оператор del\n",
        "del d['eggs']\n",
        "d"
      ]
    },
    {
      "cell_type": "code",
      "execution_count": null,
      "metadata": {
        "colab": {
          "base_uri": "https://localhost:8080/",
          "height": 225
        },
        "id": "PXEvfByhqGKF",
        "outputId": "a576e784-43ea-447d-f1a7-aabfea41c538"
      },
      "outputs": [
        {
          "ename": "KeyError",
          "evalue": "'nope'",
          "output_type": "error",
          "traceback": [
            "\u001b[0;31m---------------------------------------------------------------------------\u001b[0m",
            "\u001b[0;31mKeyError\u001b[0m                                  Traceback (most recent call last)",
            "\u001b[0;32m<ipython-input-173-c06382f51e20>\u001b[0m in \u001b[0;36m<cell line: 1>\u001b[0;34m()\u001b[0m\n\u001b[0;32m----> 1\u001b[0;31m \u001b[0;32mdel\u001b[0m \u001b[0md\u001b[0m\u001b[0;34m[\u001b[0m\u001b[0;34m'nope'\u001b[0m\u001b[0;34m]\u001b[0m \u001b[0;31m# если такого ключа нет - будет ошибка\u001b[0m\u001b[0;34m\u001b[0m\u001b[0;34m\u001b[0m\u001b[0m\n\u001b[0m\u001b[1;32m      2\u001b[0m \u001b[0md\u001b[0m\u001b[0;34m\u001b[0m\u001b[0;34m\u001b[0m\u001b[0m\n",
            "\u001b[0;31mKeyError\u001b[0m: 'nope'"
          ]
        }
      ],
      "source": [
        "del d['nope'] # если такого ключа нет - будет ошибка\n",
        "d"
      ]
    },
    {
      "cell_type": "markdown",
      "metadata": {
        "id": "IrT31Yn_rcTV"
      },
      "source": [
        "# Дополнительные методы словарей"
      ]
    },
    {
      "cell_type": "code",
      "execution_count": null,
      "metadata": {
        "colab": {
          "base_uri": "https://localhost:8080/"
        },
        "id": "MGpgtBlXrGeH",
        "outputId": "31ba08c6-b44f-4e0d-a089-67c467edb7d3"
      },
      "outputs": [
        {
          "data": {
            "text/plain": [
              "[0, 1]"
            ]
          },
          "execution_count": 174,
          "metadata": {},
          "output_type": "execute_result"
        }
      ],
      "source": [
        "# метод get  - возвращает значение по ключу переданному в скодбках\n",
        "d.get('spam') # ключ присутствует в словаре"
      ]
    },
    {
      "cell_type": "code",
      "execution_count": null,
      "metadata": {
        "colab": {
          "base_uri": "https://localhost:8080/"
        },
        "id": "du1Od16fqGQL",
        "outputId": "49122631-21ce-4985-fe10-bd70df0da404"
      },
      "outputs": [
        {
          "name": "stdout",
          "output_type": "stream",
          "text": [
            "None\n"
          ]
        }
      ],
      "source": [
        "print(d.get('nope')) # ключ отсутствует в словаре"
      ]
    },
    {
      "cell_type": "code",
      "execution_count": null,
      "metadata": {
        "colab": {
          "base_uri": "https://localhost:8080/"
        },
        "id": "trdY6_jMqGW4",
        "outputId": "0d71eb1d-8823-43ca-9dc1-4c39d098f176"
      },
      "outputs": [
        {
          "data": {
            "text/plain": [
              "-1"
            ]
          },
          "execution_count": 176,
          "metadata": {},
          "output_type": "execute_result"
        }
      ],
      "source": [
        "d.get('nope',-1) # ключ отпуствует в словаре. Если это так то вернуть -1"
      ]
    },
    {
      "cell_type": "markdown",
      "metadata": {
        "id": "Js0-PmxBsiJ-"
      },
      "source": [
        "Метод update реализует своего рода операцию конкатенации для словарей. Он объединяет ключи и значения одного словаря с ключами и значениями другого, просто перезаписывая значения с одинаковыми ключами:"
      ]
    },
    {
      "cell_type": "code",
      "execution_count": null,
      "metadata": {
        "colab": {
          "base_uri": "https://localhost:8080/"
        },
        "id": "j0OrDIFeqGaU",
        "outputId": "6631d48c-6b85-4cd6-9895-229bf83b006d"
      },
      "outputs": [
        {
          "data": {
            "text/plain": [
              "{'spam': [0, 1], 'hamm': ['grill', 'bake', 'fry'], 'Name': 'Sasha'}"
            ]
          },
          "execution_count": 177,
          "metadata": {},
          "output_type": "execute_result"
        }
      ],
      "source": [
        "d2 = {'Name':'Sasha'}\n",
        "d.update(d2)\n",
        "d"
      ]
    },
    {
      "cell_type": "code",
      "execution_count": null,
      "metadata": {
        "colab": {
          "base_uri": "https://localhost:8080/"
        },
        "id": "e04K32O6swmn",
        "outputId": "2d4bde5f-860a-4f2c-f1ae-774c1f774e5c"
      },
      "outputs": [
        {
          "data": {
            "text/plain": [
              "{'spam': [0, 1], 'hamm': ['grill', 'bake', 'fry'], 'Name': 'Alexandra'}"
            ]
          },
          "execution_count": 178,
          "metadata": {},
          "output_type": "execute_result"
        }
      ],
      "source": [
        "# Если ключ существует - перезапишем значение\n",
        "d2 = {'Name':'Alexandra'}\n",
        "d.update(d2)\n",
        "d"
      ]
    },
    {
      "cell_type": "code",
      "execution_count": null,
      "metadata": {
        "colab": {
          "base_uri": "https://localhost:8080/"
        },
        "id": "LMS78dgVswqz",
        "outputId": "ee195385-856d-4dff-ddd8-797525575161"
      },
      "outputs": [
        {
          "data": {
            "text/plain": [
              "{'Game': [0, 0, 0], 'Result': [0, 0, 0]}"
            ]
          },
          "execution_count": 179,
          "metadata": {},
          "output_type": "execute_result"
        }
      ],
      "source": [
        "# Создание словаря\n",
        "d1 = dict.fromkeys(['Game','Result'],[0,0,0])\n",
        "d1"
      ]
    },
    {
      "cell_type": "code",
      "execution_count": null,
      "metadata": {
        "colab": {
          "base_uri": "https://localhost:8080/"
        },
        "id": "l3FHEH1aswvG",
        "outputId": "8971a546-cacf-4e46-b5ac-ac060a876ab6"
      },
      "outputs": [
        {
          "data": {
            "text/plain": [
              "{'Game': [1, 2, 4], 'Result': [0, 0, 0]}"
            ]
          },
          "execution_count": 180,
          "metadata": {},
          "output_type": "execute_result"
        }
      ],
      "source": [
        "# update для изменения значений по ключу\n",
        "d1.update({'Game':[1,2,4]})\n",
        "d1"
      ]
    },
    {
      "cell_type": "code",
      "execution_count": null,
      "metadata": {
        "colab": {
          "base_uri": "https://localhost:8080/"
        },
        "id": "e41FvwTFswyv",
        "outputId": "60549b26-6d33-4fda-fb15-4099bb606b51"
      },
      "outputs": [
        {
          "data": {
            "text/plain": [
              "{'Game': [1, 0, 2, 4], 'Result': [0, 0, 0]}"
            ]
          },
          "execution_count": 181,
          "metadata": {},
          "output_type": "execute_result"
        }
      ],
      "source": [
        "# Хотя можно было сделать и так\n",
        "d1['Game'] = [1,0,2,4]\n",
        "d1"
      ]
    },
    {
      "cell_type": "markdown",
      "metadata": {
        "id": "CDueAdP7thBw"
      },
      "source": [
        "Метод pop удаляет ключ из словаря и возвращает его значение. Он напоминает метод pop списков, только вместо индекса элемента принимает ключ:"
      ]
    },
    {
      "cell_type": "code",
      "execution_count": null,
      "metadata": {
        "colab": {
          "base_uri": "https://localhost:8080/"
        },
        "id": "6-Jf7lotsw14",
        "outputId": "3f030d68-2476-4c05-9c64-cbe87408df73"
      },
      "outputs": [
        {
          "data": {
            "text/plain": [
              "{'spam': 2, 'eggs': 3, 'hamm': 1}"
            ]
          },
          "execution_count": 182,
          "metadata": {},
          "output_type": "execute_result"
        }
      ],
      "source": [
        "d = {'spam': 2, 'eggs': 3, 'hamm':1}\n",
        "d"
      ]
    },
    {
      "cell_type": "code",
      "execution_count": null,
      "metadata": {
        "colab": {
          "base_uri": "https://localhost:8080/"
        },
        "id": "EN486h3Ysw5R",
        "outputId": "a4006370-2bbd-4872-b3d9-27385875db36"
      },
      "outputs": [
        {
          "name": "stdout",
          "output_type": "stream",
          "text": [
            "2\n",
            "{'eggs': 3, 'hamm': 1}\n"
          ]
        }
      ],
      "source": [
        "value = d.pop('spam')\n",
        "print(value)\n",
        "print(d)"
      ]
    },
    {
      "cell_type": "markdown",
      "metadata": {
        "id": "WDODzamWFTHo"
      },
      "source": [
        "Метод setdefault возвращает элемент словаря по указанному ключу."
      ]
    },
    {
      "cell_type": "code",
      "execution_count": null,
      "metadata": {
        "colab": {
          "base_uri": "https://localhost:8080/"
        },
        "id": "uekc8rdBFnNO",
        "outputId": "a7fecde0-04ae-456b-aaa0-c7c28f60e1b9"
      },
      "outputs": [
        {
          "data": {
            "text/plain": [
              "{'spam': 2, 'eggs': 3, 'hamm': 1}"
            ]
          },
          "execution_count": 184,
          "metadata": {},
          "output_type": "execute_result"
        }
      ],
      "source": [
        "d = {'spam': 2, 'eggs': 3, 'hamm':1}\n",
        "d"
      ]
    },
    {
      "cell_type": "code",
      "execution_count": null,
      "metadata": {
        "colab": {
          "base_uri": "https://localhost:8080/"
        },
        "id": "p7_kpbElFtUb",
        "outputId": "825f6328-5d6a-4a78-98e3-32b371fc9b5e"
      },
      "outputs": [
        {
          "data": {
            "text/plain": [
              "3"
            ]
          },
          "execution_count": 185,
          "metadata": {},
          "output_type": "execute_result"
        }
      ],
      "source": [
        "d.setdefault('eggs')"
      ]
    },
    {
      "cell_type": "markdown",
      "metadata": {
        "id": "OL2la5_pFbWx"
      },
      "source": [
        " Если такого ключа нет, то в словарь запишется указанный ключ и значение по умолчанию, и вернется это значение."
      ]
    },
    {
      "cell_type": "code",
      "execution_count": null,
      "metadata": {
        "colab": {
          "base_uri": "https://localhost:8080/"
        },
        "id": "Sm3xZIU1F7LG",
        "outputId": "50064ce8-882d-40fd-a11d-88c4cba8ae4b"
      },
      "outputs": [
        {
          "data": {
            "text/plain": [
              "{'spam': 2, 'eggs': 3, 'hamm': 1, 'hey': None}"
            ]
          },
          "execution_count": 186,
          "metadata": {},
          "output_type": "execute_result"
        }
      ],
      "source": [
        "d.setdefault('hey')\n",
        "d"
      ]
    },
    {
      "cell_type": "markdown",
      "metadata": {
        "id": "uR4wreTjFizi"
      },
      "source": [
        "В первом параметре метода указываем нужный нам ключ, во втором необязательном параметре - значение по умолчанию."
      ]
    },
    {
      "cell_type": "code",
      "execution_count": null,
      "metadata": {
        "colab": {
          "base_uri": "https://localhost:8080/"
        },
        "id": "HGmplVDCFiYu",
        "outputId": "fb78726d-a5db-411f-d47b-6463894db44e"
      },
      "outputs": [
        {
          "data": {
            "text/plain": [
              "{'spam': 2, 'eggs': 3, 'hamm': 1, 'hey': None, 'eye': [1, 2]}"
            ]
          },
          "execution_count": 187,
          "metadata": {},
          "output_type": "execute_result"
        }
      ],
      "source": [
        "d.setdefault('eye', [1,2])\n",
        "d"
      ]
    },
    {
      "cell_type": "markdown",
      "metadata": {
        "id": "getZ7kYTDf1z"
      },
      "source": [
        "Ну и наконец метод copy(), который возвращает копию объекта"
      ]
    },
    {
      "cell_type": "code",
      "execution_count": null,
      "metadata": {
        "colab": {
          "base_uri": "https://localhost:8080/"
        },
        "id": "jxv0hcAyDehe",
        "outputId": "0379ef0e-1560-4505-eb15-924f4fc1811f"
      },
      "outputs": [
        {
          "name": "stdout",
          "output_type": "stream",
          "text": [
            "{'spam': 2, 'eggs': 3, 'hamm': 1}\n",
            "{'eggs': 3, 'hamm': 1}\n"
          ]
        }
      ],
      "source": [
        "d = {'spam': 2, 'eggs': 3, 'hamm':1}\n",
        "d1 = d.copy()\n",
        "del d1['spam']\n",
        "\n",
        "print(d)\n",
        "print(d1)"
      ]
    },
    {
      "cell_type": "code",
      "execution_count": null,
      "metadata": {
        "colab": {
          "base_uri": "https://localhost:8080/"
        },
        "id": "gwTcl4AyEW8W",
        "outputId": "cceebba3-5b0d-43c0-f676-afd522016d40"
      },
      "outputs": [
        {
          "name": "stdout",
          "output_type": "stream",
          "text": [
            "{'eggs': 3, 'hamm': 1}\n",
            "{'eggs': 3, 'hamm': 1}\n"
          ]
        }
      ],
      "source": [
        "# Что произошло бы без метода copy?\n",
        "d = {'spam': 2, 'eggs': 3, 'hamm':1}\n",
        "d1 = d\n",
        "del d1['spam']\n",
        "\n",
        "print(d)\n",
        "print(d1)"
      ]
    },
    {
      "cell_type": "code",
      "execution_count": null,
      "metadata": {
        "colab": {
          "base_uri": "https://localhost:8080/"
        },
        "id": "6oj-myzy6toN",
        "outputId": "c149883a-135a-4750-c498-3ba08761758d"
      },
      "outputs": [
        {
          "data": {
            "text/plain": [
              "dict_items([('eggs', 3), ('hamm', 1)])"
            ]
          },
          "execution_count": 190,
          "metadata": {},
          "output_type": "execute_result"
        }
      ],
      "source": [
        "d.items() # динамический список кортежей ключ-значение # подробнее о кортежах позже"
      ]
    },
    {
      "cell_type": "markdown",
      "metadata": {
        "id": "aDogpLL-Gg8X"
      },
      "source": [
        "# Пример словаря"
      ]
    },
    {
      "cell_type": "markdown",
      "metadata": {
        "id": "wSpG3VGzGsnv"
      },
      "source": [
        "Давайте рассмотрим более жизненный пример словаря. В следующем примере создается таблица, которая отображает названия языков программирования (ключи) на имена их создателей (значения)."
      ]
    },
    {
      "cell_type": "code",
      "execution_count": null,
      "metadata": {
        "colab": {
          "base_uri": "https://localhost:8080/"
        },
        "id": "OLDY809fEW_V",
        "outputId": "c7bd6bbd-4b32-4ad1-9188-ab457e906372"
      },
      "outputs": [
        {
          "name": "stdout",
          "output_type": "stream",
          "text": [
            "Введите язык: Python\n",
            "Создатель языка: Guido van Rossum\n"
          ]
        }
      ],
      "source": [
        "data = {'Python': 'Guido van Rossum',\n",
        "        'Perl': 'Larry Wall',\n",
        "        'Tcl': 'John Ousterhout'}\n",
        "\n",
        "language = input('Введите язык: ')\n",
        "creator = data[language]\n",
        "print('Создатель языка:',creator)"
      ]
    },
    {
      "cell_type": "markdown",
      "metadata": {
        "id": "xw6lQ3EaG_ZY"
      },
      "source": [
        "# Замечания по использованию словарей"
      ]
    },
    {
      "cell_type": "markdown",
      "metadata": {
        "id": "MSEjEQm2HaAu"
      },
      "source": [
        "\n",
        "\n",
        "*   Операции над последовательностями неприменимы к словарям. Словари – это отображения, а не последовательности. Вследствие того, что словари не предусматривают никакого упорядочения элементов, такие операции, как конкатенация (упорядоченное объединение) и извлечение среза (извлечение непрерывного блока элементов), просто неприменимы. В действительности, когда в программном коде во время выполнения производится попытка сделать нечто подобное, интерпретатор выдает сообщение об ошибке.\n",
        "*   Ключи не обязательно должны быть строками. В наших примерах в качестве ключей использовались строки, но могут использоваться любые другие неизменяемые объекты (то есть не списки). Например, в качестве ключей допустимо использовать целые числа, что превращает словарь в подобие списка (как минимум, в смысле индексирования). В качестве ключей можно также использовать кортежи, что позволяет создавать составные ключи.\n",
        "\n"
      ]
    },
    {
      "cell_type": "code",
      "execution_count": null,
      "metadata": {
        "colab": {
          "base_uri": "https://localhost:8080/",
          "height": 310
        },
        "id": "D4qo3v-HGgZ-",
        "outputId": "1d829ffa-2e4d-4d08-f6e7-a16766928044"
      },
      "outputs": [
        {
          "name": "stdout",
          "output_type": "stream",
          "text": [
            "{(1, 2, 3): 2}\n",
            "{'spam': 2}\n",
            "{1: 2}\n"
          ]
        },
        {
          "ename": "TypeError",
          "evalue": "unhashable type: 'list'",
          "output_type": "error",
          "traceback": [
            "\u001b[0;31m---------------------------------------------------------------------------\u001b[0m",
            "\u001b[0;31mTypeError\u001b[0m                                 Traceback (most recent call last)",
            "\u001b[0;32m<ipython-input-193-04853a4b98eb>\u001b[0m in \u001b[0;36m<cell line: 12>\u001b[0;34m()\u001b[0m\n\u001b[1;32m     10\u001b[0m \u001b[0mprint\u001b[0m\u001b[0;34m(\u001b[0m\u001b[0mc\u001b[0m\u001b[0;34m)\u001b[0m\u001b[0;34m\u001b[0m\u001b[0;34m\u001b[0m\u001b[0m\n\u001b[1;32m     11\u001b[0m \u001b[0;34m\u001b[0m\u001b[0m\n\u001b[0;32m---> 12\u001b[0;31m \u001b[0mx\u001b[0m \u001b[0;34m=\u001b[0m \u001b[0;34m{\u001b[0m\u001b[0;34m[\u001b[0m\u001b[0;36m1\u001b[0m\u001b[0;34m,\u001b[0m\u001b[0;36m2\u001b[0m\u001b[0;34m,\u001b[0m\u001b[0;36m3\u001b[0m\u001b[0;34m]\u001b[0m\u001b[0;34m:\u001b[0m\u001b[0;36m2\u001b[0m\u001b[0;34m}\u001b[0m \u001b[0;31m# Будет ошибка. Списки изменяемые.\u001b[0m\u001b[0;34m\u001b[0m\u001b[0;34m\u001b[0m\u001b[0m\n\u001b[0m\u001b[1;32m     13\u001b[0m \u001b[0mprint\u001b[0m\u001b[0;34m(\u001b[0m\u001b[0mx\u001b[0m\u001b[0;34m)\u001b[0m\u001b[0;34m\u001b[0m\u001b[0;34m\u001b[0m\u001b[0m\n",
            "\u001b[0;31mTypeError\u001b[0m: unhashable type: 'list'"
          ]
        }
      ],
      "source": [
        "# Ключи всегда содержат неизменяемые объекты, в то время как значения могут быть изменяемые.\n",
        "\n",
        "a = {(1,2,3):2} # ключ как кортеж. Кортеж - неизменяемый объект\n",
        "print(a)\n",
        "\n",
        "b = {'spam':2}  # ключ как строка. Строка - неизменяемый объект\n",
        "print(b)\n",
        "\n",
        "c = {1:2}      # ключ как число. Число - неизменяемый объект\n",
        "print(c)\n",
        "\n",
        "x = {[1,2,3]:2} # Будет ошибка. Списки изменяемые.\n",
        "print(x)"
      ]
    },
    {
      "cell_type": "markdown",
      "metadata": {
        "id": "XTneeLKsJPYM"
      },
      "source": [
        "# Практика. Словари."
      ]
    },
    {
      "cell_type": "markdown",
      "metadata": {
        "id": "oJfg3PNfOzNx"
      },
      "source": [
        "**Задание №1.** Столицы\n",
        "\n",
        "Напишите программу, которой на вход подается строчка формата \"Страна - Cтолица\", затем программа записывает значения в словарь. Страна - ключ, столица - значение.\n",
        "\n",
        "**Примечание:** Создавайте словарь в отдельном слоте, чтобы  при запуске слота с input и логикой каждый раз словарь не перезаписывался на пустой.\n"
      ]
    },
    {
      "cell_type": "code",
      "execution_count": null,
      "metadata": {
        "id": "Lzyf1dRwEXF8"
      },
      "outputs": [],
      "source": []
    },
    {
      "cell_type": "code",
      "execution_count": null,
      "metadata": {
        "id": "Zhx6iM4fR91Z"
      },
      "outputs": [],
      "source": []
    },
    {
      "cell_type": "markdown",
      "metadata": {
        "id": "rrEWOYXAVXwO"
      },
      "source": [
        "Пример работы программы:\n",
        "\n",
        "1-й запуск:\n",
        "```\n",
        "Введите Страна - Cтолица: Россия - Москва\n",
        "Страна \"Россия\" и столица \"Москва\" добавленны:\n",
        "Словарь:\n",
        "{'Россия': 'Москва'}\n",
        "\n",
        "```\n",
        "2-й запуск:\n",
        "```\n",
        "Введите Страна - Cтолица: Великобритания - Лондон\n",
        "Страна \"Великобритания\" и столица \"Лондон\" добавленны:\n",
        "Словарь:\n",
        "{'Россия': 'Москва', 'Великобритания': 'Лондон'}\n",
        "```\n",
        "\n",
        "\n"
      ]
    },
    {
      "cell_type": "markdown",
      "metadata": {
        "id": "9i9ik3_CXN5v"
      },
      "source": [
        "**Задание №2.** Столицы - продолжение\n",
        "\n",
        "Напишите программу, которой на вход подается строка \"Страна\" и программа удаляет запись об этой стране из словаря созданого в первом задании."
      ]
    },
    {
      "cell_type": "code",
      "execution_count": null,
      "metadata": {
        "id": "AmWGAuhDYwgU"
      },
      "outputs": [],
      "source": []
    },
    {
      "cell_type": "markdown",
      "metadata": {
        "id": "hi4DKjNAadRR"
      },
      "source": [
        "Пример работы программы:\n",
        "```\n",
        "Введите cтрану, которую хотите удалить: Великобритания\n",
        "Страна \"Великобритания\" и столица \"Лондон\" удалены:\n",
        "Словарь:\n",
        "{'Россия': 'Москва'}\n",
        "\n"
      ]
    },
    {
      "cell_type": "markdown",
      "metadata": {
        "id": "8YCUlALKasvE"
      },
      "source": [
        "**Задание №3.** Столицы - продолжение 2\n",
        "\n",
        "Напишите программу, которой на вход подается строка \"Страна\" и программа выводит столицу этой страны."
      ]
    },
    {
      "cell_type": "code",
      "execution_count": null,
      "metadata": {
        "id": "-ZXBYqd8bHcG"
      },
      "outputs": [],
      "source": []
    },
    {
      "cell_type": "markdown",
      "metadata": {
        "id": "7KefcLZTbHke"
      },
      "source": [
        "Пример работы программы:\n",
        "\n",
        "```\n",
        "Введите страну: Россия\n",
        "Cтолица этой страны: Москва\n"
      ]
    },
    {
      "cell_type": "markdown",
      "metadata": {
        "id": "YKgRqmyKbyLR"
      },
      "source": [
        "# Множества"
      ]
    },
    {
      "cell_type": "markdown",
      "metadata": {
        "id": "n7X00alanrc5"
      },
      "source": [
        "Множества позволяют хранить в неупорядоченном виде набор уникальных объектов. Множества являются изменяемыми объектами. Хранят в себе только неизменяемые объекты\n",
        "\n",
        "Преимущества\n",
        "\n",
        "* изменяемый неупорядочный набор уникальных объектов\n",
        "* быстрая проверка на вхождение\n",
        "* математические операции над множествами"
      ]
    },
    {
      "cell_type": "code",
      "execution_count": null,
      "metadata": {
        "colab": {
          "base_uri": "https://localhost:8080/"
        },
        "id": "_OqtO2oboDl_",
        "outputId": "85e31f42-6b17-4936-d380-bfff5bb32ba5"
      },
      "outputs": [
        {
          "name": "stdout",
          "output_type": "stream",
          "text": [
            "Создали пустое множество: set()\n",
            "Создали множество с помощь литерала: {1, 2}\n",
            "Не пустое множество, а  <class 'dict'>\n"
          ]
        }
      ],
      "source": [
        "# Создание множества\n",
        "\n",
        "a = set()  # создание пустого множества\n",
        "print('Создали пустое множество:',a)\n",
        "\n",
        "a = {1,2,1} # создание с помощью литерала. Обратите внимание, что он такой же как и у словарей. А из этого следует...\n",
        "print('Создали множество с помощь литерала:',a)\n",
        "\n",
        "a = {} # Множество нельзя определить таким образом. Вместо этого будет создан пустой словарь\n",
        "print('Не пустое множество, а ',type(a))"
      ]
    },
    {
      "cell_type": "code",
      "execution_count": null,
      "metadata": {
        "colab": {
          "base_uri": "https://localhost:8080/"
        },
        "id": "uNlkrfctoDre",
        "outputId": "6f81ad40-b75a-4bf0-a9b7-70099d7c9fa1"
      },
      "outputs": [
        {
          "name": "stdout",
          "output_type": "stream",
          "text": [
            "Преобразовали список в множество и получили только уникальные символы: {'Hello', 1, 2, 3}\n",
            "Получили только уникальные символы в строке: {'p', 'a', 'S', 'm'}\n"
          ]
        }
      ],
      "source": [
        "a = set([1,2,3,2,2,'Hello'])\n",
        "print('Преобразовали список в множество и получили только уникальные символы:',a)\n",
        "\n",
        "a = set('SSSSpam')\n",
        "print('Получили только уникальные символы в строке:',a)"
      ]
    },
    {
      "cell_type": "code",
      "execution_count": null,
      "metadata": {
        "colab": {
          "base_uri": "https://localhost:8080/"
        },
        "id": "j3--0YT4oh11",
        "outputId": "72a9b1af-4e2f-42f2-d93f-96de7d3aa0e6"
      },
      "outputs": [
        {
          "name": "stdout",
          "output_type": "stream",
          "text": [
            "Наш словарь: {'a': 2, 'Hello': 2, 'spam': 2}\n",
            "По умолчанию сделал множество из ключей {'Hello', 'a', 'spam'}\n",
            "Можем создать множество из значений {2}\n"
          ]
        }
      ],
      "source": [
        "slov = dict.fromkeys(['a','Hello','spam'],2)\n",
        "print('Наш словарь:',slov)\n",
        "\n",
        "a = set(slov)\n",
        "print('По умолчанию сделал множество из ключей',a)\n",
        "\n",
        "a = set(slov.values())\n",
        "print('Можем создать множество из значений',a)"
      ]
    },
    {
      "cell_type": "code",
      "execution_count": null,
      "metadata": {
        "colab": {
          "base_uri": "https://localhost:8080/"
        },
        "id": "Qp8hYukIoiAh",
        "outputId": "2d019977-f16d-438e-dde9-4d8915a1e2fd"
      },
      "outputs": [
        {
          "name": "stdout",
          "output_type": "stream",
          "text": [
            "Ну и кортежи: {'Hello', 1, 2, 3, 4}\n"
          ]
        }
      ],
      "source": [
        "t = (1,2,3,4,'Hello',4)\n",
        "a = set(t)\n",
        "print('Ну и кортежи:',a) # оних подробнее поговорим позже"
      ]
    },
    {
      "cell_type": "code",
      "execution_count": null,
      "metadata": {
        "colab": {
          "base_uri": "https://localhost:8080/"
        },
        "id": "dyBuK2MLpQYe",
        "outputId": "0bdb14f8-05cf-4f6f-ff3a-5de60892ba87"
      },
      "outputs": [
        {
          "name": "stdout",
          "output_type": "stream",
          "text": [
            "{3}\n"
          ]
        }
      ],
      "source": [
        "# метод add позволяет добавить элемент к множеству\n",
        "a = set()\n",
        "a.add(3)\n",
        "print(a)  # сами множества являются изменяемой структурой данных"
      ]
    },
    {
      "cell_type": "markdown",
      "metadata": {
        "id": "znudyoJrpKKi"
      },
      "source": [
        "# Несколько ловушек с множествами"
      ]
    },
    {
      "cell_type": "code",
      "execution_count": null,
      "metadata": {
        "colab": {
          "base_uri": "https://localhost:8080/",
          "height": 242
        },
        "id": "Pq9I-oCLpIYR",
        "outputId": "1661dfd5-a00e-4c1a-f181-f215c321eee3"
      },
      "outputs": [
        {
          "ename": "TypeError",
          "evalue": "unhashable type: 'list'",
          "output_type": "error",
          "traceback": [
            "\u001b[0;31m---------------------------------------------------------------------------\u001b[0m",
            "\u001b[0;31mTypeError\u001b[0m                                 Traceback (most recent call last)",
            "\u001b[0;32m<ipython-input-199-fe3d05fdc8bd>\u001b[0m in \u001b[0;36m<cell line: 4>\u001b[0;34m()\u001b[0m\n\u001b[1;32m      2\u001b[0m \u001b[0;31m# тк список изменямый объект\u001b[0m\u001b[0;34m\u001b[0m\u001b[0;34m\u001b[0m\u001b[0m\n\u001b[1;32m      3\u001b[0m \u001b[0ma\u001b[0m \u001b[0;34m=\u001b[0m \u001b[0mset\u001b[0m\u001b[0;34m(\u001b[0m\u001b[0;34m)\u001b[0m\u001b[0;34m\u001b[0m\u001b[0;34m\u001b[0m\u001b[0m\n\u001b[0;32m----> 4\u001b[0;31m \u001b[0ma\u001b[0m\u001b[0;34m.\u001b[0m\u001b[0madd\u001b[0m\u001b[0;34m(\u001b[0m\u001b[0;34m[\u001b[0m\u001b[0;36m2\u001b[0m\u001b[0;34m,\u001b[0m\u001b[0;36m3\u001b[0m\u001b[0;34m,\u001b[0m\u001b[0;36m4\u001b[0m\u001b[0;34m]\u001b[0m\u001b[0;34m)\u001b[0m\u001b[0;34m\u001b[0m\u001b[0;34m\u001b[0m\u001b[0m\n\u001b[0m",
            "\u001b[0;31mTypeError\u001b[0m: unhashable type: 'list'"
          ]
        }
      ],
      "source": [
        "# Не можем к пустому множеству добавить список\n",
        "# тк список изменямый объект\n",
        "a = set()\n",
        "a.add([2,3,4])\n"
      ]
    },
    {
      "cell_type": "code",
      "execution_count": null,
      "metadata": {
        "colab": {
          "base_uri": "https://localhost:8080/",
          "height": 242
        },
        "id": "8wYcMZ1koiTQ",
        "outputId": "58381694-f255-497a-9e2f-88f9e20d2fd6"
      },
      "outputs": [
        {
          "ename": "TypeError",
          "evalue": "unhashable type: 'list'",
          "output_type": "error",
          "traceback": [
            "\u001b[0;31m---------------------------------------------------------------------------\u001b[0m",
            "\u001b[0;31mTypeError\u001b[0m                                 Traceback (most recent call last)",
            "\u001b[0;32m<ipython-input-200-df390a565e6b>\u001b[0m in \u001b[0;36m<cell line: 3>\u001b[0;34m()\u001b[0m\n\u001b[1;32m      1\u001b[0m \u001b[0;31m# Не можем с помощью литерата тоже создать множество со списком\u001b[0m\u001b[0;34m\u001b[0m\u001b[0;34m\u001b[0m\u001b[0m\n\u001b[1;32m      2\u001b[0m \u001b[0;31m# тк список изменямый объект\u001b[0m\u001b[0;34m\u001b[0m\u001b[0;34m\u001b[0m\u001b[0m\n\u001b[0;32m----> 3\u001b[0;31m \u001b[0ma\u001b[0m \u001b[0;34m=\u001b[0m \u001b[0;34m{\u001b[0m\u001b[0;34m[\u001b[0m\u001b[0;36m2\u001b[0m\u001b[0;34m,\u001b[0m\u001b[0;36m3\u001b[0m\u001b[0;34m,\u001b[0m\u001b[0;36m4\u001b[0m\u001b[0;34m,\u001b[0m\u001b[0;36m4\u001b[0m\u001b[0;34m]\u001b[0m\u001b[0;34m}\u001b[0m\u001b[0;34m\u001b[0m\u001b[0;34m\u001b[0m\u001b[0m\n\u001b[0m",
            "\u001b[0;31mTypeError\u001b[0m: unhashable type: 'list'"
          ]
        }
      ],
      "source": [
        "# Не можем с помощью литерата тоже создать множество со списком\n",
        "# тк список изменямый объект\n",
        "a = {[2,3,4,4]}"
      ]
    },
    {
      "cell_type": "code",
      "execution_count": null,
      "metadata": {
        "colab": {
          "base_uri": "https://localhost:8080/",
          "height": 242
        },
        "id": "SUFuHOYuoiWC",
        "outputId": "303485af-b16a-4a41-a07c-cf2aca7be04a"
      },
      "outputs": [
        {
          "ename": "TypeError",
          "evalue": "unhashable type: 'dict'",
          "output_type": "error",
          "traceback": [
            "\u001b[0;31m---------------------------------------------------------------------------\u001b[0m",
            "\u001b[0;31mTypeError\u001b[0m                                 Traceback (most recent call last)",
            "\u001b[0;32m<ipython-input-201-efef202fdd04>\u001b[0m in \u001b[0;36m<cell line: 3>\u001b[0;34m()\u001b[0m\n\u001b[1;32m      1\u001b[0m \u001b[0;31m# Не можем сделать это и со словарем\u001b[0m\u001b[0;34m\u001b[0m\u001b[0;34m\u001b[0m\u001b[0m\n\u001b[1;32m      2\u001b[0m \u001b[0;34m\u001b[0m\u001b[0m\n\u001b[0;32m----> 3\u001b[0;31m \u001b[0ma\u001b[0m \u001b[0;34m=\u001b[0m \u001b[0;34m{\u001b[0m\u001b[0mslov\u001b[0m\u001b[0;34m}\u001b[0m\u001b[0;34m\u001b[0m\u001b[0;34m\u001b[0m\u001b[0m\n\u001b[0m",
            "\u001b[0;31mTypeError\u001b[0m: unhashable type: 'dict'"
          ]
        }
      ],
      "source": [
        "# Не можем сделать это и со словарем\n",
        "\n",
        "a = {slov}"
      ]
    },
    {
      "cell_type": "code",
      "execution_count": null,
      "metadata": {
        "colab": {
          "base_uri": "https://localhost:8080/"
        },
        "id": "FaRXudzyqDkv",
        "outputId": "8feb9883-f71e-4669-91ed-b7e6c5d0a5cc"
      },
      "outputs": [
        {
          "name": "stdout",
          "output_type": "stream",
          "text": [
            "{2, 3, 4}\n"
          ]
        }
      ],
      "source": [
        "# Однако можем записать с помощью встроенной функции set()\n",
        "a = set([2,3,4,4])\n",
        "print(a)\n",
        "\n",
        "# Тк функция set преобразует список с неизменяемыми объектами в множество\n",
        "# записывает в себя элементы списка в единственном экземпляре\n",
        "# в множестве хранятся только уникальные значения"
      ]
    },
    {
      "cell_type": "code",
      "execution_count": null,
      "metadata": {
        "colab": {
          "base_uri": "https://localhost:8080/",
          "height": 259
        },
        "id": "0YUzHRyIrBPc",
        "outputId": "e4cf39fd-42f1-4fdc-9779-d5f99aa58a7f"
      },
      "outputs": [
        {
          "ename": "TypeError",
          "evalue": "unhashable type: 'list'",
          "output_type": "error",
          "traceback": [
            "\u001b[0;31m---------------------------------------------------------------------------\u001b[0m",
            "\u001b[0;31mTypeError\u001b[0m                                 Traceback (most recent call last)",
            "\u001b[0;32m<ipython-input-203-9f39b5f4deed>\u001b[0m in \u001b[0;36m<cell line: 5>\u001b[0;34m()\u001b[0m\n\u001b[1;32m      3\u001b[0m \u001b[0;31m# Поэтому, когда мы попытаемся изменить список на множество, то произойдет ошибка.\u001b[0m\u001b[0;34m\u001b[0m\u001b[0;34m\u001b[0m\u001b[0m\n\u001b[1;32m      4\u001b[0m \u001b[0;34m\u001b[0m\u001b[0m\n\u001b[0;32m----> 5\u001b[0;31m \u001b[0ma\u001b[0m \u001b[0;34m=\u001b[0m \u001b[0mset\u001b[0m\u001b[0;34m(\u001b[0m\u001b[0;34m[\u001b[0m\u001b[0;36m1\u001b[0m\u001b[0;34m,\u001b[0m\u001b[0;36m2\u001b[0m\u001b[0;34m,\u001b[0m\u001b[0;36m3\u001b[0m\u001b[0;34m,\u001b[0m\u001b[0;34m[\u001b[0m\u001b[0;36m4\u001b[0m\u001b[0;34m,\u001b[0m\u001b[0;36m5\u001b[0m\u001b[0;34m]\u001b[0m\u001b[0;34m]\u001b[0m\u001b[0;34m)\u001b[0m\u001b[0;34m\u001b[0m\u001b[0;34m\u001b[0m\u001b[0m\n\u001b[0m",
            "\u001b[0;31mTypeError\u001b[0m: unhashable type: 'list'"
          ]
        }
      ],
      "source": [
        "# Тоже ошибка. Все элементы списка являются неизменяемыми, кроме вложенного списка.\n",
        "# Вложенный список, как и простой список, изменяемый.\n",
        "# Поэтому, когда мы попытаемся изменить список на множество, то произойдет ошибка.\n",
        "\n",
        "a = set([1,2,3,[4,5]])"
      ]
    },
    {
      "cell_type": "code",
      "execution_count": null,
      "metadata": {
        "colab": {
          "base_uri": "https://localhost:8080/"
        },
        "id": "1pnWuuv0rPeX",
        "outputId": "8b1b9667-e8d7-4801-a470-4eaac7cacc5e"
      },
      "outputs": [
        {
          "name": "stdout",
          "output_type": "stream",
          "text": [
            "Мощьность (длина) множества 3\n"
          ]
        },
        {
          "data": {
            "text/plain": [
              "{(2, 3, 4, 5), 3, 4}"
            ]
          },
          "execution_count": 1,
          "metadata": {},
          "output_type": "execute_result"
        }
      ],
      "source": [
        "t = tuple([2,3,4,5]) # кортежи неизменяемые - можем их добавльять в множество\n",
        "a = set([3,3,3,4])\n",
        "a.add(t)\n",
        "print('Мощьность (длина) множества', len(a)) # не забываем про len\n",
        "a"
      ]
    },
    {
      "cell_type": "code",
      "execution_count": null,
      "metadata": {
        "colab": {
          "base_uri": "https://localhost:8080/"
        },
        "id": "wfksbH8Br411",
        "outputId": "06530da5-3900-453e-d12e-f5beb07eb844"
      },
      "outputs": [
        {
          "name": "stdout",
          "output_type": "stream",
          "text": [
            "{'Hello', 2, 3, 1}\n"
          ]
        }
      ],
      "source": [
        "a = {1,2,3,'Hello'}  # множества содержат неизменяымые объекты\n",
        "print(a)"
      ]
    },
    {
      "cell_type": "code",
      "execution_count": null,
      "metadata": {
        "colab": {
          "base_uri": "https://localhost:8080/"
        },
        "id": "26NmCEzOr85O",
        "outputId": "26682627-090e-4c43-80ea-6f77838608bf"
      },
      "outputs": [
        {
          "name": "stdout",
          "output_type": "stream",
          "text": [
            "{1, 2, 3, 4}\n"
          ]
        },
        {
          "data": {
            "text/plain": [
              "True"
            ]
          },
          "execution_count": 206,
          "metadata": {},
          "output_type": "execute_result"
        }
      ],
      "source": [
        "# Проверка на вхождение:\n",
        "\n",
        "a = {1,2,3,4,4,3,2,1} # если мы добавили в множество дубликаты\n",
        "print(a) # в множестве остануться только уникальные элементы\n",
        "2 in a"
      ]
    },
    {
      "cell_type": "code",
      "execution_count": null,
      "metadata": {
        "colab": {
          "base_uri": "https://localhost:8080/"
        },
        "id": "uCvKePHhskMO",
        "outputId": "807ba716-3ab2-45c4-98eb-70837de7d629"
      },
      "outputs": [
        {
          "name": "stdout",
          "output_type": "stream",
          "text": [
            "{1, 2}\n",
            "{1, 2, 3}\n"
          ]
        }
      ],
      "source": [
        "# Копия множества\n",
        "\n",
        "a = set([1,2,1])\n",
        "b = a.copy()\n",
        "b.add(3)\n",
        "\n",
        "print(a)\n",
        "print(b)"
      ]
    },
    {
      "cell_type": "code",
      "execution_count": null,
      "metadata": {
        "colab": {
          "base_uri": "https://localhost:8080/"
        },
        "id": "zbNNzzORtAvu",
        "outputId": "d40dae4c-c866-424f-b60d-f11673f21ed7"
      },
      "outputs": [
        {
          "name": "stdout",
          "output_type": "stream",
          "text": [
            "{3, 4}\n",
            "{1, 2, 3, 4}\n"
          ]
        }
      ],
      "source": [
        "# Объединение множеств. Меняет сам объект\n",
        "a = set([1,2,1])\n",
        "b = set([3,3,3,4])\n",
        "a.update(b) # изменяет a \"на месте\"\n",
        "print(b)\n",
        "print(a)"
      ]
    },
    {
      "cell_type": "markdown",
      "metadata": {
        "id": "9JsZ2oqNt5x4"
      },
      "source": [
        "Общие элементы множества"
      ]
    },
    {
      "cell_type": "code",
      "execution_count": null,
      "metadata": {
        "colab": {
          "base_uri": "https://localhost:8080/"
        },
        "id": "pwLHsclQt_qM",
        "outputId": "1c73b67d-0928-4601-996c-1834a83d5388"
      },
      "outputs": [
        {
          "data": {
            "text/plain": [
              "True"
            ]
          },
          "execution_count": 209,
          "metadata": {},
          "output_type": "execute_result"
        }
      ],
      "source": [
        "a = set([1,1])\n",
        "b = set([2,3])\n",
        "\n",
        "a.isdisjoint(b) # Истина если a и b не содержат общих элементов"
      ]
    },
    {
      "cell_type": "code",
      "execution_count": null,
      "metadata": {
        "colab": {
          "base_uri": "https://localhost:8080/"
        },
        "id": "-SFSQGFouHek",
        "outputId": "fa8f7f28-ed95-41a1-e782-224d7dfac14e"
      },
      "outputs": [
        {
          "data": {
            "text/plain": [
              "False"
            ]
          },
          "execution_count": 210,
          "metadata": {},
          "output_type": "execute_result"
        }
      ],
      "source": [
        "a = set([ 4,4,3])\n",
        "b = set([1,2,3])\n",
        "\n",
        "a.isdisjoint(b) # Ложь, если есть хотя бы один элемент в двух множествах"
      ]
    },
    {
      "cell_type": "markdown",
      "metadata": {
        "id": "vZ6dAVcduULw"
      },
      "source": [
        "Объединение множеств"
      ]
    },
    {
      "cell_type": "code",
      "execution_count": null,
      "metadata": {
        "id": "wGl4xVxGuUVQ"
      },
      "outputs": [],
      "source": [
        "set_1 = {1,2, 3, 5, 7, 9}\n",
        "set_2 = {0, 2, 4, 6, 7, 8}"
      ]
    },
    {
      "cell_type": "code",
      "execution_count": null,
      "metadata": {
        "colab": {
          "base_uri": "https://localhost:8080/"
        },
        "id": "3oBLtzE5uUYC",
        "outputId": "e18a889b-8a3b-414a-e65d-da792323736f"
      },
      "outputs": [
        {
          "data": {
            "text/plain": [
              "{0, 1, 2, 3, 4, 5, 6, 7, 8, 9}"
            ]
          },
          "execution_count": 212,
          "metadata": {},
          "output_type": "execute_result"
        }
      ],
      "source": [
        "set_1 | set_2  # Объединение"
      ]
    },
    {
      "cell_type": "code",
      "execution_count": null,
      "metadata": {
        "colab": {
          "base_uri": "https://localhost:8080/"
        },
        "id": "UmLHtVRjuUby",
        "outputId": "8087094f-9f31-495c-c683-6c629bab046b"
      },
      "outputs": [
        {
          "data": {
            "text/plain": [
              "{0, 1, 2, 3, 4, 5, 6, 7, 8, 9}"
            ]
          },
          "execution_count": 213,
          "metadata": {},
          "output_type": "execute_result"
        }
      ],
      "source": [
        "set_1.union(set_2) # Его аналог"
      ]
    },
    {
      "cell_type": "markdown",
      "metadata": {
        "id": "rpO4O9S7uuOG"
      },
      "source": [
        "Пересечение множеств"
      ]
    },
    {
      "cell_type": "code",
      "execution_count": null,
      "metadata": {
        "colab": {
          "base_uri": "https://localhost:8080/"
        },
        "id": "B-SQ0BxruUeV",
        "outputId": "e3dc9519-4207-4fe2-a7e9-f2c88a912da3"
      },
      "outputs": [
        {
          "data": {
            "text/plain": [
              "{2, 7}"
            ]
          },
          "execution_count": 214,
          "metadata": {},
          "output_type": "execute_result"
        }
      ],
      "source": [
        "set_1 & set_2 # пересечение"
      ]
    },
    {
      "cell_type": "code",
      "execution_count": null,
      "metadata": {
        "colab": {
          "base_uri": "https://localhost:8080/"
        },
        "id": "vCNrziG5uUg-",
        "outputId": "c6b8ed4f-a454-4329-bbdf-28534b8ffdf4"
      },
      "outputs": [
        {
          "data": {
            "text/plain": [
              "{2, 7}"
            ]
          },
          "execution_count": 215,
          "metadata": {},
          "output_type": "execute_result"
        }
      ],
      "source": [
        "set_1.intersection(set_2) # аналог"
      ]
    },
    {
      "cell_type": "markdown",
      "metadata": {
        "id": "SiVDqm0ovQH9"
      },
      "source": [
        "Разность множеств"
      ]
    },
    {
      "cell_type": "code",
      "execution_count": null,
      "metadata": {
        "colab": {
          "base_uri": "https://localhost:8080/"
        },
        "id": "88FbJquevQU9",
        "outputId": "9e75aba3-014b-4190-f3c7-f46c8e997e95"
      },
      "outputs": [
        {
          "data": {
            "text/plain": [
              "{1, 3, 5, 9}"
            ]
          },
          "execution_count": 216,
          "metadata": {},
          "output_type": "execute_result"
        }
      ],
      "source": [
        "set_1 - set_2 # Разность. Содержатся в одном множестве, но не в другом множестве"
      ]
    },
    {
      "cell_type": "code",
      "execution_count": null,
      "metadata": {
        "colab": {
          "base_uri": "https://localhost:8080/"
        },
        "id": "ps7YigxMvQXp",
        "outputId": "e15ef9ed-a58d-44d2-e3bb-a24a219f0868"
      },
      "outputs": [
        {
          "data": {
            "text/plain": [
              "{0, 4, 6, 8}"
            ]
          },
          "execution_count": 217,
          "metadata": {},
          "output_type": "execute_result"
        }
      ],
      "source": [
        "# Обратите внимание, что порядок \"вычитания\" имеет значение!\n",
        "set_2 - set_1\n"
      ]
    },
    {
      "cell_type": "markdown",
      "metadata": {
        "id": "e5wH6ddwwp57"
      },
      "source": [
        "Симметричная разность"
      ]
    },
    {
      "cell_type": "code",
      "execution_count": null,
      "metadata": {
        "colab": {
          "base_uri": "https://localhost:8080/"
        },
        "id": "N3kd7nzYvQam",
        "outputId": "59f5aae3-f987-4833-c945-762bce36c904"
      },
      "outputs": [
        {
          "data": {
            "text/plain": [
              "{0, 1, 3, 4, 5, 6, 8, 9}"
            ]
          },
          "execution_count": 218,
          "metadata": {},
          "output_type": "execute_result"
        }
      ],
      "source": [
        "set_1^set_2 # Симметрическая разность\n",
        "# нет 2 и 7 тк они есть и в одном и другом множестве"
      ]
    },
    {
      "cell_type": "code",
      "execution_count": null,
      "metadata": {
        "colab": {
          "base_uri": "https://localhost:8080/"
        },
        "id": "e-TcrKX0uUjY",
        "outputId": "e13ac0d0-c558-4def-dd43-b58b85d1a713"
      },
      "outputs": [
        {
          "data": {
            "text/plain": [
              "{0, 1, 3, 4, 5, 6, 8, 9}"
            ]
          },
          "execution_count": 219,
          "metadata": {},
          "output_type": "execute_result"
        }
      ],
      "source": [
        "set_1.symmetric_difference(set_2) # аналог"
      ]
    },
    {
      "cell_type": "markdown",
      "metadata": {
        "id": "mriToJlcxKKF"
      },
      "source": [
        "Удаление элемента"
      ]
    },
    {
      "cell_type": "code",
      "execution_count": null,
      "metadata": {
        "colab": {
          "base_uri": "https://localhost:8080/"
        },
        "id": "RoASa4mVxH5_",
        "outputId": "507debbe-e5fc-4864-cdb9-18202926dfe8"
      },
      "outputs": [
        {
          "data": {
            "text/plain": [
              "{1, 3, 5, 7, 9}"
            ]
          },
          "execution_count": 220,
          "metadata": {},
          "output_type": "execute_result"
        }
      ],
      "source": [
        "set_1.remove(2)\n",
        "set_1"
      ]
    },
    {
      "cell_type": "code",
      "execution_count": null,
      "metadata": {
        "colab": {
          "base_uri": "https://localhost:8080/",
          "height": 225
        },
        "id": "sE1Qg0YwxxGr",
        "outputId": "7a0c1ecf-c740-49c5-fc36-a0ef529220aa"
      },
      "outputs": [
        {
          "ename": "KeyError",
          "evalue": "10",
          "output_type": "error",
          "traceback": [
            "\u001b[0;31m---------------------------------------------------------------------------\u001b[0m",
            "\u001b[0;31mKeyError\u001b[0m                                  Traceback (most recent call last)",
            "\u001b[0;32m<ipython-input-221-22dc2b589e4d>\u001b[0m in \u001b[0;36m<cell line: 1>\u001b[0;34m()\u001b[0m\n\u001b[0;32m----> 1\u001b[0;31m \u001b[0mset_1\u001b[0m\u001b[0;34m.\u001b[0m\u001b[0mremove\u001b[0m\u001b[0;34m(\u001b[0m\u001b[0;36m10\u001b[0m\u001b[0;34m)\u001b[0m \u001b[0;31m# если элемнта нет - ошибка\u001b[0m\u001b[0;34m\u001b[0m\u001b[0;34m\u001b[0m\u001b[0m\n\u001b[0m\u001b[1;32m      2\u001b[0m \u001b[0mset_1\u001b[0m\u001b[0;34m\u001b[0m\u001b[0;34m\u001b[0m\u001b[0m\n",
            "\u001b[0;31mKeyError\u001b[0m: 10"
          ]
        }
      ],
      "source": [
        "set_1.remove(10) # если элемнта нет - ошибка\n",
        "set_1"
      ]
    },
    {
      "cell_type": "markdown",
      "metadata": {
        "id": "N1wdjvmnxdt0"
      },
      "source": [
        "Удаление случайного элемента"
      ]
    },
    {
      "cell_type": "code",
      "execution_count": null,
      "metadata": {
        "colab": {
          "base_uri": "https://localhost:8080/"
        },
        "id": "Kj2hp4ZKxcgG",
        "outputId": "d346dba3-4468-4d4a-c61b-7e64ae42b37c"
      },
      "outputs": [
        {
          "name": "stdout",
          "output_type": "stream",
          "text": [
            "Удаленный элемент: 1\n",
            "Изменили наше исходное множество: {3, 5, 7, 9}\n"
          ]
        }
      ],
      "source": [
        "deleted_value = set_1.pop()\n",
        "print('Удаленный элемент:',deleted_value)\n",
        "print('Изменили наше исходное множество:',set_1)"
      ]
    },
    {
      "cell_type": "markdown",
      "metadata": {
        "id": "-NMmPKH1xsCk"
      },
      "source": [
        "Удаляет объект если он есть во множестве"
      ]
    },
    {
      "cell_type": "code",
      "execution_count": null,
      "metadata": {
        "colab": {
          "base_uri": "https://localhost:8080/"
        },
        "id": "UZVvYxHNxrXZ",
        "outputId": "475db221-addd-4d39-b04b-8c1dafc3e778"
      },
      "outputs": [
        {
          "data": {
            "text/plain": [
              "{1, 2, 3, 4}"
            ]
          },
          "execution_count": 223,
          "metadata": {},
          "output_type": "execute_result"
        }
      ],
      "source": [
        "a = set([1,2,3,4])\n",
        "a.discard(5)\n",
        "a"
      ]
    },
    {
      "cell_type": "code",
      "execution_count": null,
      "metadata": {
        "colab": {
          "base_uri": "https://localhost:8080/"
        },
        "id": "wtDAUkZYxarL",
        "outputId": "df93542c-4f9e-4c1b-8dcb-89945355bd3b"
      },
      "outputs": [
        {
          "data": {
            "text/plain": [
              "{1, 2, 3}"
            ]
          },
          "execution_count": 224,
          "metadata": {},
          "output_type": "execute_result"
        }
      ],
      "source": [
        "a.discard(4)\n",
        "a"
      ]
    },
    {
      "cell_type": "markdown",
      "metadata": {
        "id": "eLjqe38MyKT9"
      },
      "source": [
        "Очищает множество"
      ]
    },
    {
      "cell_type": "code",
      "execution_count": null,
      "metadata": {
        "colab": {
          "base_uri": "https://localhost:8080/"
        },
        "id": "ht45hZNnyJoX",
        "outputId": "b3518ac5-5a42-4cf6-9fa8-559dbf118d0e"
      },
      "outputs": [
        {
          "name": "stdout",
          "output_type": "stream",
          "text": [
            "set()\n"
          ]
        }
      ],
      "source": [
        "a = set([1,2,3,4])\n",
        "a.clear()\n",
        "print(a)"
      ]
    },
    {
      "cell_type": "markdown",
      "metadata": {
        "id": "QbmYLfTZyWUc"
      },
      "source": [
        "# Неизменяемый аналог множества"
      ]
    },
    {
      "cell_type": "code",
      "execution_count": null,
      "metadata": {
        "colab": {
          "base_uri": "https://localhost:8080/"
        },
        "id": "ToNbQlNsuUoV",
        "outputId": "42be5683-96fd-4333-ac21-24263d234189"
      },
      "outputs": [
        {
          "data": {
            "text/plain": [
              "frozenset({'eggs', 'ham', 'spam'})"
            ]
          },
          "execution_count": 226,
          "metadata": {},
          "output_type": "execute_result"
        }
      ],
      "source": [
        "new_set = frozenset(['spam','eggs','ham'])\n",
        "new_set"
      ]
    },
    {
      "cell_type": "code",
      "execution_count": null,
      "metadata": {
        "colab": {
          "base_uri": "https://localhost:8080/",
          "height": 225
        },
        "id": "ObyuSBKkzB3d",
        "outputId": "efe01174-a7da-483e-c68c-0f80aae1a6d4"
      },
      "outputs": [
        {
          "ename": "AttributeError",
          "evalue": "'frozenset' object has no attribute 'add'",
          "output_type": "error",
          "traceback": [
            "\u001b[0;31m---------------------------------------------------------------------------\u001b[0m",
            "\u001b[0;31mAttributeError\u001b[0m                            Traceback (most recent call last)",
            "\u001b[0;32m<ipython-input-227-89d9bbde3bf5>\u001b[0m in \u001b[0;36m<cell line: 1>\u001b[0;34m()\u001b[0m\n\u001b[0;32m----> 1\u001b[0;31m \u001b[0mnew_set\u001b[0m\u001b[0;34m.\u001b[0m\u001b[0madd\u001b[0m\u001b[0;34m(\u001b[0m\u001b[0;34m'Hello'\u001b[0m\u001b[0;34m)\u001b[0m \u001b[0;31m# ошибка # frozenset(с англ. замороженное множество) неизменяемое\u001b[0m\u001b[0;34m\u001b[0m\u001b[0;34m\u001b[0m\u001b[0m\n\u001b[0m",
            "\u001b[0;31mAttributeError\u001b[0m: 'frozenset' object has no attribute 'add'"
          ]
        }
      ],
      "source": [
        "new_set.add('Hello') # ошибка # frozenset(с англ. замороженное множество) неизменяемое"
      ]
    },
    {
      "cell_type": "code",
      "execution_count": null,
      "metadata": {
        "id": "IySdTgzpAOu6"
      },
      "outputs": [],
      "source": [
        "# здесь попробуйте разные содавать разные множества и взаимодействовать с ними"
      ]
    },
    {
      "cell_type": "markdown",
      "metadata": {
        "id": "O14R4rki0QTS"
      },
      "source": [
        "# Кортежи"
      ]
    },
    {
      "cell_type": "markdown",
      "metadata": {
        "id": "m9-scXmS0ljh"
      },
      "source": [
        "Кортежи представляют собой простые группы объектов. Они действуют точно так же, как списки, за исключением того, что не допускают непосредственного изменения (они являются неизменяемыми) и в литеральной форме записываются как последовательность элементов в круглых, а не в квадратных скобках.\n",
        "\n",
        "Хотя кортежи и не поддерживают многих методов списков, тем не менее они обладают\n",
        "большинством свойств, присущим спискам.\n",
        "\n",
        "Свойства:\n",
        "\n",
        "* Это упорядоченные коллекции объектов произвольных типов\n",
        "\n",
        "> Подобно строкам и спискам, кортежи являются коллекциями объектов, упорядоченных по позициям (то есть они обеспечивают упорядочение своего содержимого слева направо). Подобно спискам, они могут содержать объекты любого типа. Т.е мы имеем дело с неизменяемой  последовательностью.\n",
        "\n",
        "\n",
        "\n",
        "\n",
        "\n",
        "* Обеспечивают доступ к элементам по смещению\n",
        "\n",
        "> Подобно строками и спискам, доступ к элементам кортежей осуществляется по смещению (а не по ключу) – они поддерживают все операции, которые основаны на использовании смещения, такие как индексирование и извлечение среза.\n",
        "\n",
        "* Относятся к категории неизменяемых последовательностей\n",
        "\n",
        "> Подобно строкам и спискам, кортежи являются последовательностями и поддерживают многие операции над последовательностями. Однако, подобно строкам, кортежи являются неизменяемыми объектами, поэтому они не поддерживают никаких операций непосредственного изменения, которые применяются к спискам.\n",
        "\n",
        "* Имеют фиксированную длину и поддерживают произвольное число уровней вложенности\n",
        "\n",
        "> Поскольку кортежи являются неизменяемыми объектами, вы не можете изменить размер кортежа, минуя процедуру создания копии. С другой стороны, кортежи могут хранить другие составные объекты (то есть списки, словари и другие кортежи), а следовательно, поддерживают произвольное число уровней вложенности.\n",
        "\n"
      ]
    },
    {
      "cell_type": "code",
      "execution_count": null,
      "metadata": {
        "colab": {
          "base_uri": "https://localhost:8080/"
        },
        "id": "X69TqDk1zB7E",
        "outputId": "48283259-e3a5-4827-b7eb-248ffc2f936f"
      },
      "outputs": [
        {
          "name": "stdout",
          "output_type": "stream",
          "text": [
            "()\n"
          ]
        }
      ],
      "source": [
        "# Пример пустого кортежа\n",
        "t = () # с помощью литерала\n",
        "t = tuple() # с помощью встроенной функции tuple()\n",
        "print(t)"
      ]
    },
    {
      "cell_type": "code",
      "execution_count": null,
      "metadata": {
        "colab": {
          "base_uri": "https://localhost:8080/"
        },
        "id": "Q84B8x6fzB_N",
        "outputId": "25d1d1f8-51f8-44ee-83f3-cb88c41a8ce5"
      },
      "outputs": [
        {
          "name": "stdout",
          "output_type": "stream",
          "text": [
            "Однако получилась строка: Hello\n",
            "Почему строка? Потому что мы можем использовать методы строк: hello\n",
            "Или проще посмотреть тип t: <class 'type'> \n",
            "\n",
            "Что делать? Что пошло не так?\n"
          ]
        }
      ],
      "source": [
        "# Пример кортежа из одного элемента\n",
        "\n",
        "t = ('Hello')\n",
        "print('Однако получилась строка:',t)\n",
        "print('Почему строка? Потому что мы можем использовать методы строк:',t.lower())\n",
        "print('Или проще посмотреть тип t:',type(type),'\\n')\n",
        "print('Что делать? Что пошло не так?')"
      ]
    },
    {
      "cell_type": "code",
      "execution_count": null,
      "metadata": {
        "colab": {
          "base_uri": "https://localhost:8080/"
        },
        "id": "WFgaCxcD2spv",
        "outputId": "3720e9f1-d8f0-4de3-90ab-a91dcf11b3c0"
      },
      "outputs": [
        {
          "name": "stdout",
          "output_type": "stream",
          "text": [
            "('Hello',)\n"
          ]
        }
      ],
      "source": [
        "# Сами по себе скобки ничего не значат. Если кортеж из 1 элемента, то после первого элемента надо добавить ','\n",
        "\n",
        "t = ('Hello',)\n",
        "print(t)"
      ]
    },
    {
      "cell_type": "code",
      "execution_count": null,
      "metadata": {
        "colab": {
          "base_uri": "https://localhost:8080/",
          "height": 242
        },
        "id": "xe2DtSXZ2zdM",
        "outputId": "547d15bd-3ed8-42b8-ffe8-6a973c026f55"
      },
      "outputs": [
        {
          "ename": "NameError",
          "evalue": "name 'T' is not defined",
          "output_type": "error",
          "traceback": [
            "\u001b[0;31m---------------------------------------------------------------------------\u001b[0m",
            "\u001b[0;31mNameError\u001b[0m                                 Traceback (most recent call last)",
            "\u001b[0;32m<ipython-input-232-5e380036d8a4>\u001b[0m in \u001b[0;36m<cell line: 3>\u001b[0;34m()\u001b[0m\n\u001b[1;32m      1\u001b[0m \u001b[0;31m# Если скобки сами по себе ничего не значат может можно без них?\u001b[0m\u001b[0;34m\u001b[0m\u001b[0;34m\u001b[0m\u001b[0m\n\u001b[1;32m      2\u001b[0m \u001b[0mt\u001b[0m\u001b[0;34m=\u001b[0m \u001b[0;36m1\u001b[0m\u001b[0;34m,\u001b[0m \u001b[0;36m2\u001b[0m\u001b[0;34m,\u001b[0m \u001b[0;36m3\u001b[0m\u001b[0;34m,\u001b[0m \u001b[0;36m4\u001b[0m\u001b[0;34m\u001b[0m\u001b[0;34m\u001b[0m\u001b[0m\n\u001b[0;32m----> 3\u001b[0;31m \u001b[0mprint\u001b[0m\u001b[0;34m(\u001b[0m\u001b[0;34m'Наша переменная:'\u001b[0m\u001b[0;34m,\u001b[0m\u001b[0mT\u001b[0m\u001b[0;34m,\u001b[0m\u001b[0;34m'Тип переменной: '\u001b[0m\u001b[0;34m,\u001b[0m\u001b[0mtype\u001b[0m\u001b[0;34m(\u001b[0m\u001b[0mT\u001b[0m\u001b[0;34m)\u001b[0m\u001b[0;34m,\u001b[0m \u001b[0msep\u001b[0m \u001b[0;34m=\u001b[0m \u001b[0;34m'\\n'\u001b[0m\u001b[0;34m)\u001b[0m\u001b[0;34m\u001b[0m\u001b[0;34m\u001b[0m\u001b[0m\n\u001b[0m",
            "\u001b[0;31mNameError\u001b[0m: name 'T' is not defined"
          ]
        }
      ],
      "source": [
        "# Если скобки сами по себе ничего не значат может можно без них?\n",
        "t= 1, 2, 3, 4\n",
        "print('Наша переменная:',T,'Тип переменной: ',type(T), sep = '\\n')"
      ]
    },
    {
      "cell_type": "code",
      "execution_count": null,
      "metadata": {
        "colab": {
          "base_uri": "https://localhost:8080/"
        },
        "id": "bxQ05Zx23Q2G",
        "outputId": "89817a60-69f3-435b-e4ad-128cd93d4d5e"
      },
      "outputs": [
        {
          "name": "stdout",
          "output_type": "stream",
          "text": [
            "Наш кортеж: ('abc', ('def', 'ghi'))\n",
            "\n",
            "Следовательно t[1][0]: def\n",
            "Следовательно t[1][1]: ghi\n"
          ]
        }
      ],
      "source": [
        "# Пример вложенного кортежа\n",
        "\n",
        "t = ('abc', ('def','ghi'))\n",
        "\n",
        "print('Наш кортеж:',t)\n",
        "print('\\nСледовательно t[1][0]:',t[1][0])\n",
        "print('Следовательно t[1][1]:',t[1][1])"
      ]
    },
    {
      "cell_type": "markdown",
      "metadata": {
        "id": "zbdtiend3mY_"
      },
      "source": [
        "Мы можем создать кортеж из любого итерируемого объекта с помощью приведения типов"
      ]
    },
    {
      "cell_type": "code",
      "execution_count": null,
      "metadata": {
        "colab": {
          "base_uri": "https://localhost:8080/"
        },
        "id": "f_buIRgu3iPu",
        "outputId": "e00104aa-574c-4a92-b608-512f425cb061"
      },
      "outputs": [
        {
          "name": "stdout",
          "output_type": "stream",
          "text": [
            "Кортеж: ('s', 'p', 'a', 'm')\n",
            "Список: ['s', 'p', 'a', 'm']\n"
          ]
        }
      ],
      "source": [
        "# Создание кортежа из итерируемого объекта\n",
        "\n",
        "t = tuple('spam')\n",
        "l = list('spam')\n",
        "\n",
        "print('Кортеж:',t)\n",
        "print('Список:',l)"
      ]
    },
    {
      "cell_type": "code",
      "execution_count": null,
      "metadata": {
        "colab": {
          "base_uri": "https://localhost:8080/"
        },
        "id": "tPvlk6Qr4jSj",
        "outputId": "588061cd-f703-45e8-d385-6119b478cf0a"
      },
      "outputs": [
        {
          "name": "stdout",
          "output_type": "stream",
          "text": [
            "(1, 2, 3, 4)\n"
          ]
        }
      ],
      "source": [
        "# Мы также можем список преобразовать в кортеж\n",
        "\n",
        "t = tuple([1,2,3,4])\n",
        "print(t)"
      ]
    },
    {
      "cell_type": "code",
      "execution_count": null,
      "metadata": {
        "colab": {
          "base_uri": "https://localhost:8080/",
          "height": 208
        },
        "id": "gAenHpa_5CIe",
        "outputId": "7e39164c-f586-4ccc-86a6-8f0b3b8193a0"
      },
      "outputs": [
        {
          "ename": "TypeError",
          "evalue": "'int' object is not iterable",
          "output_type": "error",
          "traceback": [
            "\u001b[0;31m---------------------------------------------------------------------------\u001b[0m",
            "\u001b[0;31mTypeError\u001b[0m                                 Traceback (most recent call last)",
            "\u001b[0;32m<ipython-input-236-c6addb1cbcb5>\u001b[0m in \u001b[0;36m<cell line: 1>\u001b[0;34m()\u001b[0m\n\u001b[0;32m----> 1\u001b[0;31m \u001b[0mt\u001b[0m\u001b[0;34m=\u001b[0m \u001b[0mtuple\u001b[0m\u001b[0;34m(\u001b[0m\u001b[0;36m4\u001b[0m\u001b[0;34m)\u001b[0m \u001b[0;31m# число не является итерируемым объектом\u001b[0m\u001b[0;34m\u001b[0m\u001b[0;34m\u001b[0m\u001b[0m\n\u001b[0m",
            "\u001b[0;31mTypeError\u001b[0m: 'int' object is not iterable"
          ]
        }
      ],
      "source": [
        "t= tuple(4) # число не является итерируемым объектом"
      ]
    },
    {
      "cell_type": "code",
      "execution_count": null,
      "metadata": {
        "colab": {
          "base_uri": "https://localhost:8080/"
        },
        "id": "auicgryn5Fg5",
        "outputId": "366862ad-94e4-4170-8f72-56e9792a337d"
      },
      "outputs": [
        {
          "name": "stdout",
          "output_type": "stream",
          "text": [
            "Если словарь преобразовать в кортеж, то по умолчанию получим кортеж ключей: ('key', 'key2', 'key3')\n",
            "\n",
            "Если ключи словаря преобразовать в кортеж, то получим тоже самое: ('key', 'key2', 'key3')\n",
            "\n",
            "Если значения словаря преобразовать в кортеж, то получим кортеж значений: ('value', 'value2', 'value3')\n",
            "\n",
            "Если пары (ключ + значение) преобразовать в кортеж, то получим кортеж из пар значений:\n",
            " (('key', 'value'), ('key2', 'value2'), ('key3', 'value3'))\n",
            "\n"
          ]
        }
      ],
      "source": [
        "d = {'key':'value',\n",
        "     'key2':'value2',\n",
        "     'key3':'value3'}\n",
        "\n",
        "print('Если словарь преобразовать в кортеж, то по умолчанию получим кортеж ключей:',tuple(d),end='\\n\\n')\n",
        "print('Если ключи словаря преобразовать в кортеж, то получим тоже самое:',tuple(d.keys()), end='\\n\\n')\n",
        "print('Если значения словаря преобразовать в кортеж, то получим кортеж значений:',tuple(d.values()), end='\\n\\n')\n",
        "print('Если пары (ключ + значение) преобразовать в кортеж, то получим кортеж из пар значений:\\n',tuple(d.items()), end='\\n\\n')"
      ]
    },
    {
      "cell_type": "markdown",
      "metadata": {
        "id": "nrGakmkJ76yS"
      },
      "source": [
        "Срезы и индексация"
      ]
    },
    {
      "cell_type": "code",
      "execution_count": null,
      "metadata": {
        "colab": {
          "base_uri": "https://localhost:8080/"
        },
        "id": "ojU4H4gL53bc",
        "outputId": "2c51149e-2232-46c8-9ede-4752c595e008"
      },
      "outputs": [
        {
          "name": "stdout",
          "output_type": "stream",
          "text": [
            "Примеры индексирования:\n",
            "\n",
            "t[0]: 1 \n",
            "\n",
            "t[-1]: (2, 28) \n",
            "\n",
            "t[2:3]: (3,) \n",
            "\n",
            "t[-1][0]: 2\n"
          ]
        }
      ],
      "source": [
        "# Ничего нового\n",
        "t = ( 1,2,3,(2,28) )\n",
        "\n",
        "print('Примеры индексирования:\\n')\n",
        "print('t[0]:',t[0],'\\n')\n",
        "print('t[-1]:',t[-1],'\\n')\n",
        "print('t[2:3]:',t[2:3],'\\n')\n",
        "print('t[-1][0]:',t[-1][0])"
      ]
    },
    {
      "cell_type": "markdown",
      "metadata": {
        "id": "-9CAF7HO8riH"
      },
      "source": [
        "Размер кортежа"
      ]
    },
    {
      "cell_type": "code",
      "execution_count": null,
      "metadata": {
        "colab": {
          "base_uri": "https://localhost:8080/"
        },
        "id": "PxvM6GoH8q7R",
        "outputId": "806bf2fc-fb44-4d76-ab46-530d494325bc"
      },
      "outputs": [
        {
          "name": "stdout",
          "output_type": "stream",
          "text": [
            "Размер кортежа: 4\n",
            "Размер внутренного кортежа: 5\n"
          ]
        }
      ],
      "source": [
        "t = ( 1,2,3,(2,28,23,45,231) )\n",
        "\n",
        "print('Размер кортежа:',len(t))\n",
        "print('Размер внутренного кортежа:', len(t[-1]))"
      ]
    },
    {
      "cell_type": "markdown",
      "metadata": {
        "id": "wf7q6RUw859w"
      },
      "source": [
        "Конкатенация и повторения"
      ]
    },
    {
      "cell_type": "code",
      "execution_count": null,
      "metadata": {
        "colab": {
          "base_uri": "https://localhost:8080/"
        },
        "id": "-MgrTb2z58-L",
        "outputId": "646a92db-6331-41a1-a093-e8f569eeb3d7"
      },
      "outputs": [
        {
          "name": "stdout",
          "output_type": "stream",
          "text": [
            "Пример первой конкатенации: (1, 3, 5, 2, 4, 6)\n",
            "Пример второй конактенации(поменяли кортежи местами): (2, 4, 6, 1, 3, 5)\n"
          ]
        }
      ],
      "source": [
        "t1 = (1,3,5)\n",
        "t2 = (2,4,6)\n",
        "\n",
        "print('Пример первой конкатенации:',t1 + t2)\n",
        "print('Пример второй конактенации(поменяли кортежи местами):',t2 + t1)\n",
        "\n"
      ]
    },
    {
      "cell_type": "code",
      "execution_count": null,
      "metadata": {
        "colab": {
          "base_uri": "https://localhost:8080/"
        },
        "id": "q24Bxtl79Z6E",
        "outputId": "1db8cf64-f5b7-4645-b265-288a95cb87a9"
      },
      "outputs": [
        {
          "name": "stdout",
          "output_type": "stream",
          "text": [
            "(1, 3, 5, 1, 3, 5, 1, 3, 5)\n"
          ]
        }
      ],
      "source": [
        "# При умножение кортежа на число получаем кортеж, в котором все элементы повторяются N раз, где N- число на которое мы умножаем\n",
        "\n",
        "print(t1 * 3)"
      ]
    },
    {
      "cell_type": "code",
      "execution_count": null,
      "metadata": {
        "colab": {
          "base_uri": "https://localhost:8080/"
        },
        "id": "P0pSKn0C-JNn",
        "outputId": "e618332a-d4e9-46fe-abce-fea07a6656b2"
      },
      "outputs": [
        {
          "data": {
            "text/plain": [
              "True"
            ]
          },
          "execution_count": 242,
          "metadata": {},
          "output_type": "execute_result"
        }
      ],
      "source": [
        "# проверка на вхлждение\n",
        "1 in t1"
      ]
    },
    {
      "cell_type": "markdown",
      "metadata": {
        "id": "Q42DAMgW-R3E"
      },
      "source": [
        "сортировка"
      ]
    },
    {
      "cell_type": "code",
      "execution_count": null,
      "metadata": {
        "colab": {
          "base_uri": "https://localhost:8080/"
        },
        "id": "7TbnkEJM9aGR",
        "outputId": "a0e351cb-c120-4ada-9f8b-bda56065ae85"
      },
      "outputs": [
        {
          "name": "stdout",
          "output_type": "stream",
          "text": [
            "\n",
            "Что делать, чтобы отсортировать наш кортеж? Метод sort применяется к спискам и сортирует исходный объект,\n",
            "но кортежи неизменяемые, в отличии от списков.\n",
            "\n",
            "Для этого достаточно использовать встроенную функцию sorted(кортеж): (1, 2, 3, 4, 5, 6)\n",
            "При этом сам T3 не изменился: (1, 3, 5, 2, 4, 6)\n",
            "Чтобы сохранить результат, надо присвоить результат переменной (можно той же самой) (1, 2, 3, 4, 5, 6)\n"
          ]
        }
      ],
      "source": [
        "print(\"\"\"\\nЧто делать, чтобы отсортировать наш кортеж? Метод sort применяется к спискам и сортирует исходный объект,\n",
        "но кортежи неизменяемые, в отличии от списков.\"\"\")\n",
        "t3 = t1 + t2\n",
        "print('\\nДля этого достаточно использовать встроенную функцию sorted(кортеж):',tuple(sorted(t3)))\n",
        "print('При этом сам T3 не изменился:',t3)\n",
        "\n",
        "t3 = tuple(sorted(t3))\n",
        "print('Чтобы сохранить результат, надо присвоить результат переменной (можно той же самой)',t3)"
      ]
    },
    {
      "cell_type": "code",
      "execution_count": null,
      "metadata": {
        "colab": {
          "base_uri": "https://localhost:8080/"
        },
        "id": "Mbo3Z0kg-ZNt",
        "outputId": "31630666-cb6f-4a4d-8359-a31ab241b217"
      },
      "outputs": [
        {
          "data": {
            "text/plain": [
              "(0, 1, 2, 3, 4)"
            ]
          },
          "execution_count": 244,
          "metadata": {},
          "output_type": "execute_result"
        }
      ],
      "source": [
        "tuple(range(5)) # создание кортежей с помощью range"
      ]
    },
    {
      "cell_type": "markdown",
      "metadata": {
        "id": "vegEnvKV-tok"
      },
      "source": [
        "Подобно строкам -  нельзя изменить по индексу или срезу"
      ]
    },
    {
      "cell_type": "code",
      "execution_count": null,
      "metadata": {
        "colab": {
          "base_uri": "https://localhost:8080/",
          "height": 225
        },
        "id": "jJ_KBT3v-s4l",
        "outputId": "73d4572d-d817-42fa-9032-b01292ed9ed6"
      },
      "outputs": [
        {
          "ename": "TypeError",
          "evalue": "'tuple' object does not support item assignment",
          "output_type": "error",
          "traceback": [
            "\u001b[0;31m---------------------------------------------------------------------------\u001b[0m",
            "\u001b[0;31mTypeError\u001b[0m                                 Traceback (most recent call last)",
            "\u001b[0;32m<ipython-input-245-34dce31b3412>\u001b[0m in \u001b[0;36m<cell line: 2>\u001b[0;34m()\u001b[0m\n\u001b[1;32m      1\u001b[0m \u001b[0mt1\u001b[0m \u001b[0;34m=\u001b[0m \u001b[0;34m(\u001b[0m\u001b[0;36m1\u001b[0m\u001b[0;34m,\u001b[0m\u001b[0;34m[\u001b[0m\u001b[0;36m2\u001b[0m\u001b[0;34m,\u001b[0m\u001b[0;36m3\u001b[0m\u001b[0;34m]\u001b[0m\u001b[0;34m)\u001b[0m\u001b[0;34m\u001b[0m\u001b[0;34m\u001b[0m\u001b[0m\n\u001b[0;32m----> 2\u001b[0;31m \u001b[0mt1\u001b[0m\u001b[0;34m[\u001b[0m\u001b[0;36m0\u001b[0m\u001b[0;34m]\u001b[0m \u001b[0;34m=\u001b[0m \u001b[0;36m2\u001b[0m\u001b[0;34m\u001b[0m\u001b[0;34m\u001b[0m\u001b[0m\n\u001b[0m",
            "\u001b[0;31mTypeError\u001b[0m: 'tuple' object does not support item assignment"
          ]
        }
      ],
      "source": [
        "t1 = (1,[2,3])\n",
        "t1[0] = 2"
      ]
    },
    {
      "cell_type": "code",
      "execution_count": null,
      "metadata": {
        "colab": {
          "base_uri": "https://localhost:8080/"
        },
        "id": "sdgLtJm791rO",
        "outputId": "03c2ee75-ca36-4f33-a35d-148dd597ee13"
      },
      "outputs": [
        {
          "name": "stdout",
          "output_type": "stream",
          "text": [
            "(1, [2, 3, 3])\n"
          ]
        }
      ],
      "source": [
        "t1[1].append(3) # но можно изменить вложенный в кортеж список\n",
        "print(t1)"
      ]
    },
    {
      "cell_type": "code",
      "execution_count": null,
      "metadata": {
        "id": "_4DNddET_zDB"
      },
      "outputs": [],
      "source": [
        "# здесь попробуйте разные содавать разные кортежи и взаимодействовать с ними\n"
      ]
    },
    {
      "cell_type": "markdown",
      "metadata": {
        "id": "Xi75jO2__jXb"
      },
      "source": [
        "Зачем нужны кортежи?\n",
        "\n",
        "* Целостность данных, т.е. защита от внешнего вмешательств\n",
        "* Можно использовать как ключи для словаря, т.к. ключи могут принимать значения только неизменяемых объектов ( а списки изменяемые)"
      ]
    }
  ],
  "metadata": {
    "colab": {
      "collapsed_sections": [
        "GlT9jTgp1i4p",
        "D7wbeTeN09Hp",
        "gwaaM9_fyz1F",
        "MS5o_QTl0vOQ",
        "JngUATx77z8R",
        "OHeK1_i2FL4-",
        "MNuacPdGFj74",
        "HBi3hqct-T5q",
        "dI7vD-BMAQgc",
        "JBJ3MSw-Cu2V",
        "4ISTh9PxDg1Y",
        "nl8v_f4VJp1b",
        "N7MRpp8pUWQQ",
        "tZ9QUmpxW8sR",
        "HtbysA81Ysg0",
        "gSmYoU5AJayK",
        "y9RkCIExJfRL",
        "CymLf5OyqBEu",
        "aDogpLL-Gg8X",
        "xw6lQ3EaG_ZY"
      ],
      "provenance": []
    },
    "kernelspec": {
      "display_name": "Python 3",
      "name": "python3"
    },
    "language_info": {
      "codemirror_mode": {
        "name": "ipython",
        "version": 3
      },
      "file_extension": ".py",
      "mimetype": "text/x-python",
      "name": "python",
      "nbconvert_exporter": "python",
      "pygments_lexer": "ipython3",
      "version": "3.9.6"
    }
  },
  "nbformat": 4,
  "nbformat_minor": 0
}
