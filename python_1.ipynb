{
 "cells": [
  {
   "cell_type": "markdown",
   "metadata": {},
   "source": [
    "# Урок 1\n",
    "### - переменная \n",
    "### - числа и строки"
   ]
  },
  {
   "cell_type": "markdown",
   "metadata": {},
   "source": [
    "Представь, что у тебя есть коробка, в которую можно положить что угодно: игрушку, яблоко, книжку. Эта коробка — переменная.\n",
    "\n",
    "Переменная — это место в памяти компьютера, где можно хранить данные. Ты можешь дать этой коробке имя, чтобы всегда знать, что в ней лежит, например:\n",
    "\t•\tКоробка с именем toy (игрушка) может хранить мячик.\n",
    "\t•\tКоробка с именем num_apples (кол_яблок) может хранить число — например, 5.\n",
    "\n",
    "В python это выглядит так:\n",
    "\n"
   ]
  },
  {
   "cell_type": "markdown",
   "metadata": {},
   "source": [
    "## Переменная"
   ]
  },
  {
   "cell_type": "code",
   "execution_count": 33,
   "metadata": {},
   "outputs": [],
   "source": [
    "toy = 'мячик'\n",
    "num_apples = 5"
   ]
  },
  {
   "cell_type": "markdown",
   "metadata": {},
   "source": [
    "Зачем нужны переменные?\n",
    "\n",
    "\t•\tЧтобы хранить данные (например, имя игрока или количество очков в игре).\n",
    "\t•\tЧтобы можно было эти данные менять, если нужно.\n",
    "\n",
    "Например, ты играешь в игру, где собираешь монеты. Сначала у тебя 0 монет:\n",
    "\n",
    "\n"
   ]
  },
  {
   "cell_type": "code",
   "execution_count": 1,
   "metadata": {},
   "outputs": [],
   "source": [
    "coins = 0"
   ]
  },
  {
   "cell_type": "markdown",
   "metadata": {},
   "source": [
    "Когда ты находишь монету, добавляем ещё одну:"
   ]
  },
  {
   "cell_type": "code",
   "execution_count": 4,
   "metadata": {},
   "outputs": [],
   "source": [
    "coins = coins + 1"
   ]
  },
  {
   "cell_type": "code",
   "execution_count": 6,
   "metadata": {},
   "outputs": [],
   "source": [
    "coins += 1"
   ]
  },
  {
   "cell_type": "markdown",
   "metadata": {},
   "source": [
    "Теперь в коробке монеты хранится новое число!"
   ]
  },
  {
   "cell_type": "code",
   "execution_count": 7,
   "metadata": {},
   "outputs": [
    {
     "data": {
      "text/plain": [
       "3"
      ]
     },
     "execution_count": 7,
     "metadata": {},
     "output_type": "execute_result"
    }
   ],
   "source": [
    "coins"
   ]
  },
  {
   "cell_type": "markdown",
   "metadata": {},
   "source": [
    "Итак, переменная — это коробка с именем, в которой ты хранишь данные, чтобы использовать их в своей программе."
   ]
  },
  {
   "cell_type": "markdown",
   "metadata": {},
   "source": [
    "## Основные типы данных, знакомство\n",
    "В Python существует несколько основных типов данных, которые используются для хранения и работы с разной информацией. Вот самые важные из них и примеры операций:"
   ]
  },
  {
   "cell_type": "markdown",
   "metadata": {},
   "source": [
    "1. Числа (int, float)\n",
    "\n",
    "Типы чисел:\n",
    "\n",
    "\t•\tint — целые числа (например, 5, -10, 0).\n",
    "\t•\tfloat — числа с плавающей точкой (например, 3.14, -2.5, 0.0)."
   ]
  },
  {
   "cell_type": "code",
   "execution_count": 9,
   "metadata": {},
   "outputs": [
    {
     "name": "stdout",
     "output_type": "stream",
     "text": [
      "Сумма: 13.14\n",
      "Разность: 6.859999999999999\n",
      "Произведение: 31.400000000000002\n",
      "Деление: 3.184713375796178\n",
      "Квадрат числа a: 100\n"
     ]
    }
   ],
   "source": [
    "# Примеры операций:\n",
    "# Целое число\n",
    "a = 10  # целое число\n",
    "b = 3.14  # число с плавающей точкой\n",
    "\n",
    "# Арифметические операции\n",
    "summa = a + b  # Сложение\n",
    "diff = a - b  # Вычитание\n",
    "prod = a * b  # Умножение\n",
    "quotient = a / b  # Деление\n",
    "power = a ** 2  # Возведение в степень\n",
    "\n",
    "\n",
    "print(\"Сумма:\", summa) # динамическая типизация\n",
    "print(\"Разность:\", diff)\n",
    "print(\"Произведение:\", prod)\n",
    "print(\"Деление:\", quotient)\n",
    "print(\"Квадрат числа a:\", power)"
   ]
  },
  {
   "cell_type": "code",
   "execution_count": 15,
   "metadata": {},
   "outputs": [
    {
     "data": {
      "text/plain": [
       "3.0"
      ]
     },
     "execution_count": 15,
     "metadata": {},
     "output_type": "execute_result"
    }
   ],
   "source": [
    "9**0.5"
   ]
  },
  {
   "cell_type": "code",
   "execution_count": 16,
   "metadata": {},
   "outputs": [
    {
     "data": {
      "text/plain": [
       "2"
      ]
     },
     "execution_count": 16,
     "metadata": {},
     "output_type": "execute_result"
    }
   ],
   "source": [
    "# остаток от деления \n",
    "12%10"
   ]
  },
  {
   "cell_type": "code",
   "execution_count": 17,
   "metadata": {},
   "outputs": [
    {
     "data": {
      "text/plain": [
       "1"
      ]
     },
     "execution_count": 17,
     "metadata": {},
     "output_type": "execute_result"
    }
   ],
   "source": [
    "# целая часть\n",
    "12//10"
   ]
  },
  {
   "cell_type": "markdown",
   "metadata": {},
   "source": [
    "2. Строки (Strings)\n",
    "\n",
    "Описание: строки — это текст, заключённый в кавычки: \"Hello\", 'Python'."
   ]
  },
  {
   "cell_type": "code",
   "execution_count": 29,
   "metadata": {},
   "outputs": [
    {
     "name": "stdout",
     "output_type": "stream",
     "text": [
      "Hello, World!\n",
      "HelloHelloHello\n",
      "Первый символ: H\n",
      "Последний символ: o\n",
      "Длина строки text1: 5\n"
     ]
    }
   ],
   "source": [
    "# Примеры операций:\n",
    "# Строки\n",
    "text1 = \"Hello\"  # строка в двойных кавычках\n",
    "text2 = 'World'  # строка в одинарных кавычках\n",
    "\n",
    "# Конкатенация (соединение строк)\n",
    "greeting = text1 + \", \" + text2 + \"!\"\n",
    "print(greeting)  # Результат: Hello, World!\n",
    "\n",
    "# Повторение строк\n",
    "repeat = text1 * 3\n",
    "print(repeat)  # Результат: HelloHelloHello\n",
    "\n",
    "# Доступ к символам в строке\n",
    "first_char = text1[0]  # Первый символ строки\n",
    "last_char = text1[-1]  # Последний символ строки\n",
    "print(\"Первый символ:\", first_char)\n",
    "print(\"Последний символ:\", last_char)\n",
    "\n",
    "# Длина строки\n",
    "length = len(text1)\n",
    "print(\"Длина строки text1:\", length)"
   ]
  },
  {
   "cell_type": "code",
   "execution_count": 28,
   "metadata": {},
   "outputs": [
    {
     "data": {
      "text/plain": [
       "'He'"
      ]
     },
     "execution_count": 28,
     "metadata": {},
     "output_type": "execute_result"
    }
   ],
   "source": []
  },
  {
   "cell_type": "code",
   "execution_count": 22,
   "metadata": {},
   "outputs": [
    {
     "name": "stdout",
     "output_type": "stream",
     "text": [
      "var1 = 9\n"
     ]
    },
    {
     "data": {
      "text/plain": [
       "str"
      ]
     },
     "execution_count": 22,
     "metadata": {},
     "output_type": "execute_result"
    }
   ],
   "source": [
    "# ввод с клавиатуры\n",
    "var1 = input()\n",
    "print(f'var1 = {var1}' )\n",
    "type(var1)"
   ]
  },
  {
   "cell_type": "code",
   "execution_count": 20,
   "metadata": {},
   "outputs": [
    {
     "ename": "ValueError",
     "evalue": "could not convert string to float: '1>'",
     "output_type": "error",
     "traceback": [
      "\u001b[0;31m---------------------------------------------------------------------------\u001b[0m",
      "\u001b[0;31mValueError\u001b[0m                                Traceback (most recent call last)",
      "Cell \u001b[0;32mIn[20], line 3\u001b[0m\n\u001b[1;32m      1\u001b[0m \u001b[38;5;66;03m# ввод с клавиатуры\u001b[39;00m\n\u001b[1;32m      2\u001b[0m var2 \u001b[38;5;241m=\u001b[39m \u001b[38;5;28minput\u001b[39m(\u001b[38;5;124m'\u001b[39m\u001b[38;5;124mВведи то-то\u001b[39m\u001b[38;5;124m'\u001b[39m)\n\u001b[0;32m----> 3\u001b[0m var2 \u001b[38;5;241m=\u001b[39m \u001b[38;5;28;43mfloat\u001b[39;49m\u001b[43m(\u001b[49m\u001b[43mvar2\u001b[49m\u001b[43m)\u001b[49m\n\u001b[1;32m      4\u001b[0m \u001b[38;5;28mprint\u001b[39m(\u001b[38;5;124mf\u001b[39m\u001b[38;5;124m'\u001b[39m\u001b[38;5;124mvar1 = \u001b[39m\u001b[38;5;132;01m{\u001b[39;00mvar2\u001b[38;5;132;01m}\u001b[39;00m\u001b[38;5;124m'\u001b[39m )\n\u001b[1;32m      5\u001b[0m \u001b[38;5;28mtype\u001b[39m(var2)\n",
      "\u001b[0;31mValueError\u001b[0m: could not convert string to float: '1>'"
     ]
    }
   ],
   "source": [
    "# ввод с клавиатуры\n",
    "var2 = input('Введи то-то')\n",
    "var2 = float(var2)\n",
    "print(f'var1 = {var2}' )\n",
    "type(var2)"
   ]
  },
  {
   "cell_type": "code",
   "execution_count": 23,
   "metadata": {},
   "outputs": [
    {
     "name": "stdout",
     "output_type": "stream",
     "text": [
      " var = 9 jjj\n"
     ]
    }
   ],
   "source": [
    "print(f' var = {var1} jjj')"
   ]
  },
  {
   "cell_type": "code",
   "execution_count": 23,
   "metadata": {},
   "outputs": [
    {
     "name": "stdout",
     "output_type": "stream",
     "text": [
      "Пример разных возможностей и использования функции print(): \n",
      "\n",
      "5\n",
      "1024\n",
      "Hello World!\n",
      "24\n",
      "1024 23\n",
      "1 + 2 + 3\n",
      "1 + 3 = 4 True!\n",
      "Hello world! Hello world!  \n",
      "\n",
      "2**10 == 1024 yes?\n",
      "2**10 == 1024 yes?\n"
     ]
    }
   ],
   "source": [
    "# Для вывода обычно используется функция print()\n",
    "\n",
    "a  = 2**10\n",
    "\n",
    "print('Пример разных возможностей и использования функции print(): ')\n",
    "print() # Равносильно пустой строке\n",
    "print(2 + 3)\n",
    "print(a)\n",
    "print('Hello World!')\n",
    "print(int('20') + 4)\n",
    "print(str(a), '23')\n",
    "print('1', '2', '3', sep = ' + ', )\n",
    "print('1 + 3 =', 1+3 ,end = ' ')\n",
    "print('True!')\n",
    "print('Hello world! '*2,'\\n')\n",
    "print(f'2**10 == {2**10} yes?')\n",
    "print(f'2**10 == {a} yes?')"
   ]
  },
  {
   "cell_type": "code",
   "execution_count": 35,
   "metadata": {},
   "outputs": [
    {
     "name": "stdout",
     "output_type": "stream",
     "text": [
      "hfbgyhz  yfguyg 1\n"
     ]
    }
   ],
   "source": [
    "print('hfbgyhz', ' yfguyg', var1)"
   ]
  },
  {
   "cell_type": "markdown",
   "metadata": {},
   "source": [
    "#### Задание 1.  Привет мир!\n",
    "Напишите программу, которая приветствует пользователя, выводя слово Hello, введенное имя и знаки препинания по образцу (см. пример входных и выходных данных). Программа должна считывать в строковую переменную значение и писать соответствующее приветствие. Обратите внимание, что после запятой должен обязательно стоять пробел, а перед восклицательным знаком пробела нет. \n",
    "\n",
    "Входные данные:\n",
    "* Kitty\n",
    "\n",
    "Выходные данные:\n",
    "* Hello, Kitty!"
   ]
  },
  {
   "cell_type": "code",
   "execution_count": null,
   "metadata": {},
   "outputs": [],
   "source": []
  },
  {
   "cell_type": "code",
   "execution_count": 43,
   "metadata": {},
   "outputs": [
    {
     "ename": "TypeError",
     "evalue": "can't multiply sequence by non-int of type 'str'",
     "output_type": "error",
     "traceback": [
      "\u001b[0;31m---------------------------------------------------------------------------\u001b[0m",
      "\u001b[0;31mTypeError\u001b[0m                                 Traceback (most recent call last)",
      "Cell \u001b[0;32mIn[43], line 1\u001b[0m\n\u001b[0;32m----> 1\u001b[0m \u001b[38;5;124;43m'\u001b[39;49m\u001b[38;5;124;43ma\u001b[39;49m\u001b[38;5;124;43m'\u001b[39;49m\u001b[43m \u001b[49m\u001b[38;5;241;43m*\u001b[39;49m\u001b[43m \u001b[49m\u001b[38;5;124;43m'\u001b[39;49m\u001b[38;5;124;43m2\u001b[39;49m\u001b[38;5;124;43m'\u001b[39;49m\n",
      "\u001b[0;31mTypeError\u001b[0m: can't multiply sequence by non-int of type 'str'"
     ]
    }
   ],
   "source": [
    "'a' * '2'"
   ]
  },
  {
   "cell_type": "markdown",
   "metadata": {},
   "source": [
    "#### Задание 2.  It's penguin time\n",
    "\n",
    "Напишите программу, которая по данному числу N (N = 1,2,...,9) выводит на экран N пингвинов. Изображение одного пингвина имеет размер 5×9 символов. Между двумя соседними пингвинами также имеется пустой (из пробелов) столбец. Разрешается вывести пустой столбец после последнего пингвина. Для упрощения рисования скопируйте пингвина из примера в среду разработки."
   ]
  },
  {
   "cell_type": "code",
   "execution_count": 47,
   "metadata": {},
   "outputs": [
    {
     "name": "stdout",
     "output_type": "stream",
     "text": [
      "3r\n"
     ]
    },
    {
     "ename": "ValueError",
     "evalue": "invalid literal for int() with base 10: '3r'",
     "output_type": "error",
     "traceback": [
      "\u001b[0;31m---------------------------------------------------------------------------\u001b[0m",
      "\u001b[0;31mValueError\u001b[0m                                Traceback (most recent call last)",
      "Cell \u001b[0;32mIn[47], line 11\u001b[0m\n\u001b[1;32m      9\u001b[0m a \u001b[38;5;241m=\u001b[39m \u001b[38;5;28minput\u001b[39m()\n\u001b[1;32m     10\u001b[0m \u001b[38;5;28mprint\u001b[39m(a)\n\u001b[0;32m---> 11\u001b[0m \u001b[38;5;28mtype\u001b[39m(\u001b[38;5;28;43mint\u001b[39;49m\u001b[43m(\u001b[49m\u001b[43ma\u001b[49m\u001b[43m)\u001b[49m)\n",
      "\u001b[0;31mValueError\u001b[0m: invalid literal for int() with base 10: '3r'"
     ]
    }
   ],
   "source": [
    "penguin = '''\n",
    "    _~_    \n",
    "   (o o)   \n",
    "  /  V  \\ \n",
    " /(  _  )\\ \n",
    "   ^^ ^^   \n",
    "'''\n",
    "\n",
    "a = input()\n",
    "print(a)\n",
    "type(int(a))"
   ]
  },
  {
   "cell_type": "markdown",
   "metadata": {},
   "source": [
    "#### Задание 3. Дележ яблок\n",
    "\n",
    "N школьников делят K яблок поровну, не делящийся остаток остается в корзинке.\n",
    "Вопросы:\n",
    "* cколько яблок достанется каждому школьнику?\n",
    "* сколько яблок останется в корзине?\n",
    "\n",
    "Пример входных данных:\n",
    "* 4\n",
    "* 17\n",
    "\n",
    "Пример выходных данных:\n",
    "* В корзине осталось: 1 \n",
    "* Каждому школьнику досталось: 4 "
   ]
  },
  {
   "cell_type": "code",
   "execution_count": 49,
   "metadata": {},
   "outputs": [
    {
     "data": {
      "text/plain": [
       "4"
      ]
     },
     "execution_count": 49,
     "metadata": {},
     "output_type": "execute_result"
    }
   ],
   "source": [
    "int(input('Введите количество учеников: '))"
   ]
  },
  {
   "cell_type": "markdown",
   "metadata": {},
   "source": [
    "### Задача 4.\n",
    "Напишите программу, вычисляющую площадь треугольника по переданным длинам трёх его сторон по формуле Герона:\n",
    "\n",
    "$$ S = \\sqrt{p(p-a)(p-b)(p-c)} $$\n",
    "\n",
    "$$ p = \\frac{a+b+c}{2} $$\n",
    "\n",
    "Пример входных данных:\n",
    "* 3\n",
    "* 4\n",
    "* 5 \n",
    "\n",
    "Пример выходных данных:\n",
    "\n",
    "* 6.0"
   ]
  },
  {
   "cell_type": "code",
   "execution_count": null,
   "metadata": {},
   "outputs": [],
   "source": []
  },
  {
   "cell_type": "markdown",
   "metadata": {},
   "source": [
    "#### Задача 5. Сумма цифр трёхзначного числа\n",
    "Вводится целое положительноe число. Найти сумму его цифр.\n",
    "\n",
    "Пример:\n",
    "\n",
    "Входные данные:\n",
    "* 179\n",
    "\n",
    "Выходные данные:\n",
    "17"
   ]
  },
  {
   "cell_type": "markdown",
   "metadata": {},
   "source": []
  }
 ],
 "metadata": {
  "kernelspec": {
   "display_name": "Python 3",
   "language": "python",
   "name": "python3"
  },
  "language_info": {
   "codemirror_mode": {
    "name": "ipython",
    "version": 3
   },
   "file_extension": ".py",
   "mimetype": "text/x-python",
   "name": "python",
   "nbconvert_exporter": "python",
   "pygments_lexer": "ipython3",
   "version": "3.9.6"
  }
 },
 "nbformat": 4,
 "nbformat_minor": 2
}
