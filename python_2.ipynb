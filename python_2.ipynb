{
 "cells": [
  {
   "cell_type": "markdown",
   "metadata": {},
   "source": [
    "# Урок 2\n",
    "### - Тип данных boolean\n",
    "### - Условия"
   ]
  },
  {
   "cell_type": "markdown",
   "metadata": {},
   "source": [
    "Логический тип (Boolean)\n",
    "\n",
    "Описание: хранит значения True или False."
   ]
  },
  {
   "cell_type": "code",
   "execution_count": 13,
   "metadata": {},
   "outputs": [
    {
     "name": "stdout",
     "output_type": "stream",
     "text": [
      "Результат: True\n",
      "True\n",
      "False\n",
      "True\n"
     ]
    }
   ],
   "source": [
    "#Примеры операций:\n",
    "\n",
    "# Логические значения\n",
    "is_sunny = True\n",
    "is_raining = False\n",
    "\n",
    "# Логические операции\n",
    "result = is_sunny and not is_raining  # Логическое \"И\" и \"НЕ\"\n",
    "print(\"Результат:\", result)  # Результат: True\n",
    "\n",
    "# Сравнения\n",
    "a = 5\n",
    "b = 3\n",
    "print(a > b)  # True, потому что 5 больше 3\n",
    "print(a == b)  # False, потому что 5 не равно 3\n",
    "print(a != b)  # True, потому что 5 не равно 3"
   ]
  },
  {
   "cell_type": "code",
   "execution_count": 15,
   "metadata": {},
   "outputs": [
    {
     "data": {
      "text/plain": [
       "True"
      ]
     },
     "execution_count": 15,
     "metadata": {},
     "output_type": "execute_result"
    }
   ],
   "source": [
    "5 >= 5"
   ]
  },
  {
   "cell_type": "code",
   "execution_count": 16,
   "metadata": {},
   "outputs": [
    {
     "data": {
      "text/plain": [
       "True"
      ]
     },
     "execution_count": 16,
     "metadata": {},
     "output_type": "execute_result"
    }
   ],
   "source": [
    "bool(1)"
   ]
  },
  {
   "cell_type": "code",
   "execution_count": 17,
   "metadata": {},
   "outputs": [
    {
     "data": {
      "text/plain": [
       "False"
      ]
     },
     "execution_count": 17,
     "metadata": {},
     "output_type": "execute_result"
    }
   ],
   "source": [
    "bool(0)"
   ]
  },
  {
   "cell_type": "code",
   "execution_count": 18,
   "metadata": {},
   "outputs": [
    {
     "data": {
      "text/plain": [
       "True"
      ]
     },
     "execution_count": 18,
     "metadata": {},
     "output_type": "execute_result"
    }
   ],
   "source": [
    "bool(-3)"
   ]
  },
  {
   "cell_type": "code",
   "execution_count": 19,
   "metadata": {},
   "outputs": [
    {
     "data": {
      "text/plain": [
       "False"
      ]
     },
     "execution_count": 19,
     "metadata": {},
     "output_type": "execute_result"
    }
   ],
   "source": [
    "bool('')"
   ]
  },
  {
   "cell_type": "code",
   "execution_count": 20,
   "metadata": {},
   "outputs": [
    {
     "data": {
      "text/plain": [
       "True"
      ]
     },
     "execution_count": 20,
     "metadata": {},
     "output_type": "execute_result"
    }
   ],
   "source": [
    "bool('giuyghbkjhgbl')"
   ]
  },
  {
   "cell_type": "code",
   "execution_count": 21,
   "metadata": {},
   "outputs": [
    {
     "data": {
      "text/plain": [
       "'True'"
      ]
     },
     "execution_count": 21,
     "metadata": {},
     "output_type": "execute_result"
    }
   ],
   "source": [
    "str(True)"
   ]
  },
  {
   "cell_type": "code",
   "execution_count": 9,
   "metadata": {},
   "outputs": [
    {
     "data": {
      "text/plain": [
       "0"
      ]
     },
     "execution_count": 9,
     "metadata": {},
     "output_type": "execute_result"
    }
   ],
   "source": [
    "int(False)"
   ]
  },
  {
   "cell_type": "markdown",
   "metadata": {},
   "source": [
    "## Условия"
   ]
  },
  {
   "cell_type": "markdown",
   "metadata": {},
   "source": [
    "1. Что такое условия?\n",
    "\n",
    "Иногда нужно, чтобы программа выполняла разные действия в зависимости от ситуации. Например:\n",
    "\n",
    "\t•\tЕсли идёт дождь, возьми зонт.\n",
    "\t\n",
    "\t•\tЕсли ты не сделал домашку, ты не можешь играть в компьютер.\n",
    "\n",
    "В Python такие проверки делаются с помощью условий. Условие — это вопрос, на который программа отвечает “да” (True) или “нет” (False)."
   ]
  },
  {
   "cell_type": "markdown",
   "metadata": {},
   "source": [
    "2. Условный оператор if\n",
    "\n",
    "Ключевое слово if используется для проверки условия. Если условие истинно (True), программа выполняет код под ним.\n",
    "\n",
    "Пример:"
   ]
  },
  {
   "cell_type": "code",
   "execution_count": 23,
   "metadata": {},
   "outputs": [],
   "source": [
    "weather = \"rainy\"  # переменная с погодой\n",
    "\n",
    "if weather == \"rainy\":  # Проверяем, идёт ли дождь\n",
    "    print(\"Возьми зонт.\")  # Выполнится, если условие True"
   ]
  },
  {
   "cell_type": "markdown",
   "metadata": {},
   "source": [
    "3. Добавляем ветку else\n",
    "\n",
    "Если условие if ложно (False), мы можем указать, что делать с помощью else.\n",
    "\n",
    "Пример:"
   ]
  },
  {
   "cell_type": "code",
   "execution_count": 25,
   "metadata": {},
   "outputs": [
    {
     "name": "stdout",
     "output_type": "stream",
     "text": [
      "Зонт не нужен.\n"
     ]
    }
   ],
   "source": [
    "weather = \"sunny\"  # переменная с погодой\n",
    "\n",
    "if weather == \"rainy\":  # Проверяем, идёт ли дождь\n",
    "    print(\"Возьми зонт.\")\n",
    "else:\n",
    "    print(\"Зонт не нужен.\") # Выполнится, если условие False\n"
   ]
  },
  {
   "cell_type": "markdown",
   "metadata": {},
   "source": [
    "4. Несколько условий: elif\n",
    "\n",
    "Что если вариантов несколько? Например:\n",
    "\n",
    "\t•\tЕсли холодно, надень куртку.\n",
    "\n",
    "\t•\tЕсли тепло, надень футболку.\n",
    "\t\n",
    "\t•\tЕсли жарко, надень шорты.\n",
    "\n",
    "Для этого используется elif (сокращение от “else if”).\n",
    "\n",
    "Пример:"
   ]
  },
  {
   "cell_type": "code",
   "execution_count": null,
   "metadata": {},
   "outputs": [
    {
     "name": "stdout",
     "output_type": "stream",
     "text": [
      "Надень футболку.\n"
     ]
    }
   ],
   "source": [
    "temperature = 25  # температура в градусах\n",
    "\n",
    "if temperature < 10:  # Если холодно\n",
    "    print(\"Надень куртку.\")\n",
    "elif temperature < 20:  # Если прохладно\n",
    "    print(\"Надень свитер.\")\n",
    "else:  # Если тепло\n",
    "    print(\"Надень футболку.\")"
   ]
  },
  {
   "cell_type": "markdown",
   "metadata": {},
   "source": [
    "5. Сравнительные операторы\n",
    "\n",
    "В условиях можно сравнивать числа и строки:\n",
    "\n",
    "\t•\t== — равно\n",
    "\t•\t!= — не равно\n",
    "\t•\t< — меньше\n",
    "\t•\t> — больше\n",
    "\t•\t<= — меньше или равно\n",
    "\t•\t>= — больше или равно\n",
    "Пример:"
   ]
  },
  {
   "cell_type": "code",
   "execution_count": 40,
   "metadata": {},
   "outputs": [
    {
     "ename": "ZeroDivisionError",
     "evalue": "division by zero",
     "output_type": "error",
     "traceback": [
      "\u001b[0;31m---------------------------------------------------------------------------\u001b[0m",
      "\u001b[0;31mZeroDivisionError\u001b[0m                         Traceback (most recent call last)",
      "Cell \u001b[0;32mIn[40], line 1\u001b[0m\n\u001b[0;32m----> 1\u001b[0m \u001b[38;5;241;43m6\u001b[39;49m\u001b[38;5;241;43m/\u001b[39;49m\u001b[38;5;241;43m0\u001b[39;49m\n",
      "\u001b[0;31mZeroDivisionError\u001b[0m: division by zero"
     ]
    }
   ],
   "source": [
    "6/0"
   ]
  },
  {
   "cell_type": "code",
   "execution_count": 39,
   "metadata": {},
   "outputs": [
    {
     "name": "stdout",
     "output_type": "stream",
     "text": [
      "dkhg\n"
     ]
    }
   ],
   "source": [
    "if True or 6/0:\n",
    "    print('dkhg')"
   ]
  },
  {
   "cell_type": "code",
   "execution_count": null,
   "metadata": {},
   "outputs": [
    {
     "name": "stdout",
     "output_type": "stream",
     "text": [
      "Ты ещё слишком молод для прав.\n"
     ]
    }
   ],
   "source": [
    "age = 12  # возраст\n",
    "\n",
    "if age >= 18:\n",
    "    print(\"Ты можешь получить водительские права.\")\n",
    "else:\n",
    "    print(\"Ты ещё слишком молод для прав.\")"
   ]
  },
  {
   "cell_type": "markdown",
   "metadata": {},
   "source": [
    "1.\tНапиши программу, которая сравнивает два числа a и b (например, 7 и 10) и выводит результат:\n",
    "\t•\tбольше ли a чем b;\n",
    "\t•\tравно ли a b;\n",
    "\t•\tменьше ли a чем b."
   ]
  },
  {
   "cell_type": "code",
   "execution_count": null,
   "metadata": {},
   "outputs": [],
   "source": []
  },
  {
   "cell_type": "markdown",
   "metadata": {},
   "source": [
    "6. Логические операторы в условиях\n",
    "\n",
    "Иногда нужно проверить сразу несколько условий. Для этого используются операторы:\n",
    "\n",
    "\t•\tand — “И”, оба условия должны быть True.\n",
    "\t•\tor — “ИЛИ”, хотя бы одно условие должно быть True.\n",
    "\t•\tnot — “НЕ”, меняет значение на противоположное.\n",
    "\n",
    "Примеры:"
   ]
  },
  {
   "cell_type": "code",
   "execution_count": null,
   "metadata": {},
   "outputs": [
    {
     "name": "stdout",
     "output_type": "stream",
     "text": [
      "Возьми зонт, но можешь идти гулять.\n"
     ]
    }
   ],
   "source": [
    "# Проверяем два условия одновременно\n",
    "is_rainy = True\n",
    "is_windy = False\n",
    "\n",
    "if is_rainy and not is_windy:  # Дождь, но не ветрено\n",
    "    print(\"Возьми зонт, но можешь идти гулять.\")\n",
    "elif is_rainy and is_windy:  # Дождь и ветрено\n",
    "    print(\"Лучше останься дома.\")\n",
    "else:\n",
    "    print(\"Гуляй спокойно!\")"
   ]
  },
  {
   "cell_type": "markdown",
   "metadata": {},
   "source": [
    "Вложенные условия\n",
    "\n",
    "Иногда одно условие зависит от другого. Такие проверки называются вложенными.\n",
    "\n",
    "Пример:"
   ]
  },
  {
   "cell_type": "code",
   "execution_count": null,
   "metadata": {},
   "outputs": [
    {
     "name": "stdout",
     "output_type": "stream",
     "text": [
      "Ты слишком молод.\n"
     ]
    }
   ],
   "source": [
    "age = 15  # возраст\n",
    "has_pass = True  # есть ли пропуск\n",
    "\n",
    "if age >= 18:\n",
    "    if has_pass:  # вложенное условие\n",
    "        print(\"Добро пожаловать на вечеринку.\")\n",
    "    else:\n",
    "        print(\"Ты взрослый, но без пропуска нельзя.\")\n",
    "else:\n",
    "    print(\"Ты слишком молод.\")"
   ]
  },
  {
   "cell_type": "code",
   "execution_count": null,
   "metadata": {},
   "outputs": [],
   "source": [
    "age = 15  # возраст\n",
    "has_pass = True  # есть ли пропуск\n",
    "\n",
    "if age >= 18 and has_pass:\n",
    "    print(\"Добро пожаловать на вечеринку.\")\n",
    "else:\n",
    "    print(\"Тебе нельзя.\")"
   ]
  },
  {
   "cell_type": "markdown",
   "metadata": {},
   "source": [
    "## Task 1.\n",
    "\n",
    "### Напиши программу, которая проверяет возраст пользователя и говорит:\n",
    "\t•\t“Ребёнок”, если меньше 13 лет;\n",
    "\n",
    "\t•\t“Подросток”, если от 13 до 18;\n",
    "\t\n",
    "\t•\t“Взрослый”, если больше 18.\n",
    "\n"
   ]
  },
  {
   "cell_type": "code",
   "execution_count": null,
   "metadata": {},
   "outputs": [],
   "source": []
  },
  {
   "cell_type": "markdown",
   "metadata": {},
   "source": [
    "## Task 2.\n",
    "\n",
    "### Напиши программу, которая просит ввести число и проверяет:\n",
    "\t•\tЧётное оно или нечётное"
   ]
  },
  {
   "cell_type": "code",
   "execution_count": null,
   "metadata": {},
   "outputs": [],
   "source": []
  },
  {
   "cell_type": "markdown",
   "metadata": {},
   "source": [
    "## Task 3.\n",
    "\n",
    "### Напиши программу, которая просит 2х пользователей ввести \"камень\", \"ножницы\" или \"бумага\", и выводит кто победил."
   ]
  },
  {
   "cell_type": "code",
   "execution_count": null,
   "metadata": {},
   "outputs": [],
   "source": []
  },
  {
   "cell_type": "markdown",
   "metadata": {},
   "source": [
    "## Task 4. [Алкоголь можно?](https://codechick.io/challenges/85)\n",
    "\n",
    "### Помогите бармену написать программу, которая определяет, можно ли продать алкогольный напиток.\n",
    "\n",
    "### Алкоголь можно только людям, которым есть 18 лет и выше. А еще у бармена в это время не должно быть перерыва.\n",
    "\n",
    "#### Программа получает на вход возраст клиента, а также информация о том, идет ли сейчас перерыв: True или False.\n",
    "\n",
    "#### Программа должна напечатать \"Можно\", если алкогольный напиток можно продать, и 'Нельзя\" в противном случае.\n",
    "\n",
    "Пример работы:\n",
    "\n",
    "Вход:\n",
    "\n",
    "30\n",
    "\n",
    "True\n",
    "\n",
    "Вывод: \n",
    "\n",
    "Нельзя"
   ]
  },
  {
   "cell_type": "code",
   "execution_count": null,
   "metadata": {},
   "outputs": [],
   "source": []
  },
  {
   "cell_type": "markdown",
   "metadata": {},
   "source": [
    "## Task 5. [Без условий](https://codechick.io/challenges/86)\n",
    "\n",
    "### Напишите программу, которая инвертирует переданное значение. Если передано 1, напечатать 0. Если 0, напечатать 1.\n",
    "\n",
    "В этой задаче запрещено использовать условия\n",
    "\n",
    "\n",
    "\n",
    "\n",
    "\n",
    "*(необязательно) решить в одну строчку\n"
   ]
  },
  {
   "cell_type": "code",
   "execution_count": null,
   "metadata": {},
   "outputs": [],
   "source": []
  },
  {
   "cell_type": "markdown",
   "metadata": {},
   "source": [
    "## Task 6. [Високосные годы](https://codechick.io/challenges/188)\n",
    "\n",
    "### Високосный год имеет один дополнительный день в феврале, чтобы быть синхронизированным со временем года. Високосный год появляется с регулярной частотой, которая определяется следующим правилом:\n",
    "\n",
    "### Год должен быть либо кратным 400, либо кратным 4 и не кратным 100.\n",
    "\n",
    "Учитывая year, вы должны реализовать программу, которая печатает True, если это високосный год, или False, если нет."
   ]
  },
  {
   "cell_type": "code",
   "execution_count": null,
   "metadata": {},
   "outputs": [],
   "source": []
  },
  {
   "cell_type": "markdown",
   "metadata": {},
   "source": [
    "## Task 7. Найти большее из 3х чисел\n",
    "\n",
    "### Программа принемает на вход 3 числа и выводит большее\n",
    "\n",
    "Пример работы:\n",
    "\n",
    "Вход:\n",
    "\n",
    "1\n",
    "\n",
    "2\n",
    "\n",
    "3\n",
    "\n",
    "Вывод: \n",
    "\n",
    "3"
   ]
  },
  {
   "cell_type": "markdown",
   "metadata": {},
   "source": []
  }
 ],
 "metadata": {
  "kernelspec": {
   "display_name": "Python 3",
   "language": "python",
   "name": "python3"
  },
  "language_info": {
   "codemirror_mode": {
    "name": "ipython",
    "version": 3
   },
   "file_extension": ".py",
   "mimetype": "text/x-python",
   "name": "python",
   "nbconvert_exporter": "python",
   "pygments_lexer": "ipython3",
   "version": "3.9.6"
  }
 },
 "nbformat": 4,
 "nbformat_minor": 2
}
