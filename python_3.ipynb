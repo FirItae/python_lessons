{
 "cells": [
  {
   "cell_type": "markdown",
   "metadata": {},
   "source": [
    "# Урок 3\n",
    "## - Списки\n",
    "## - Индексация и срезы"
   ]
  },
  {
   "cell_type": "markdown",
   "metadata": {},
   "source": [
    "## **Списки**\n",
    "\n",
    "Списки – это самые гибкий тип упорядоченных, изменяемых коллекций в языке Python. Списки могут содержать объекты **любых** типов: числа, строки,кортежи,словари, и даже другие списки. Кроме того, в отличие от строк, списки могут изменяться непосредственно, с помощью операции присваивания по смещениям и срезам, с помощью методов списков, с использованием инструкций удаления и другими способами.\n",
    "\n",
    "Изменяемые коллекции можно изменить \"на месте\" - это значит, что воздействие на такие коллекции изменит эту коллекцию. В связи с этим возникает опасность: если две(или больше) переменные ссылаются на один и тот же изменяемый объект в памяти, то изменения, которые вносятся через одну переменную - будут видны из другой\n",
    "\n",
    "В упорядоченных коллекциях - каждый элемент этой коллекции \"закреплен на какой-то позиции\"- каждому элементу \"присвоен свой порядковый номер\"-индекс,и по этому индексу можно обратиться к элменту последовательности.\n",
    "При выводе в терминал упорядоченной коллекции - все элементы будут стоять на своих местах."
   ]
  },
  {
   "cell_type": "code",
   "execution_count": 1,
   "metadata": {},
   "outputs": [
    {
     "name": "stdout",
     "output_type": "stream",
     "text": [
      "Разницы между созданием пустого(!) списка с помощью литералов- empty_list1: [], и функции list- empty_list2: [] - нет\n"
     ]
    }
   ],
   "source": [
    "# инициализация пустого списка\n",
    "empty_list1 = []\n",
    "empty_list2 = list()\n",
    "print(f'Разницы между созданием пустого(!) списка с помощью литералов- empty_list1: {empty_list1}, и функции list- empty_list2: {empty_list2} - нет')\n",
    "# Однако лучше создавать пустой список с помощью литералов, тк это у нас как у программистов займет меньше времени)\n",
    "# + Так принято"
   ]
  },
  {
   "cell_type": "code",
   "execution_count": 2,
   "metadata": {},
   "outputs": [
    {
     "data": {
      "text/plain": [
       "[1, 5, 3, 3]"
      ]
     },
     "execution_count": 2,
     "metadata": {},
     "output_type": "execute_result"
    }
   ],
   "source": [
    "# создание списка, который содержит элементы\n",
    "L = [1, 5, 3, 3] # 4 элемента с индексами 0,1,2,3\n",
    "L"
   ]
  },
  {
   "cell_type": "markdown",
   "metadata": {},
   "source": [
    "С помощью функции list() мы меняем тип данных. Мы можем преобразовать в список с помощью этой функии только итерируемые объекты.\n",
    "\n",
    "Например: из строки можно сделать список."
   ]
  },
  {
   "cell_type": "code",
   "execution_count": 3,
   "metadata": {},
   "outputs": [
    {
     "data": {
      "text/plain": [
       "['1', ' ', '2', ' ', '3', ' ', '4', ' ', '5', '!']"
      ]
     },
     "execution_count": 3,
     "metadata": {},
     "output_type": "execute_result"
    }
   ],
   "source": [
    "list('1 2 3 4 5!')\n"
   ]
  },
  {
   "cell_type": "code",
   "execution_count": 4,
   "metadata": {},
   "outputs": [
    {
     "ename": "TypeError",
     "evalue": "list expected at most 1 argument, got 4",
     "output_type": "error",
     "traceback": [
      "\u001b[0;31m---------------------------------------------------------------------------\u001b[0m",
      "\u001b[0;31mTypeError\u001b[0m                                 Traceback (most recent call last)",
      "Cell \u001b[0;32mIn[4], line 2\u001b[0m\n\u001b[1;32m      1\u001b[0m \u001b[38;5;66;03m# list принимает только 1 аргумент - то,что необходимо преобразовать в список\u001b[39;00m\n\u001b[0;32m----> 2\u001b[0m L \u001b[38;5;241m=\u001b[39m \u001b[38;5;28;43mlist\u001b[39;49m\u001b[43m(\u001b[49m\u001b[38;5;241;43m1\u001b[39;49m\u001b[43m,\u001b[49m\u001b[43m \u001b[49m\u001b[38;5;241;43m5\u001b[39;49m\u001b[43m,\u001b[49m\u001b[43m \u001b[49m\u001b[38;5;241;43m3\u001b[39;49m\u001b[43m,\u001b[49m\u001b[43m \u001b[49m\u001b[38;5;241;43m3\u001b[39;49m\u001b[43m)\u001b[49m \u001b[38;5;66;03m# такая запись приведет к ошибке(если нужен перевод- воспользуйтесь переводчиком)\u001b[39;00m\n",
      "\u001b[0;31mTypeError\u001b[0m: list expected at most 1 argument, got 4"
     ]
    }
   ],
   "source": [
    "# list принимает только 1 аргумент - то,что необходимо преобразовать в список\n",
    "L = list(1, 5, 3, 3) # такая запись приведет к ошибке(если нужен перевод- воспользуйтесь переводчиком)"
   ]
  },
  {
   "cell_type": "code",
   "execution_count": 5,
   "metadata": {},
   "outputs": [
    {
     "ename": "TypeError",
     "evalue": "'int' object is not iterable",
     "output_type": "error",
     "traceback": [
      "\u001b[0;31m---------------------------------------------------------------------------\u001b[0m",
      "\u001b[0;31mTypeError\u001b[0m                                 Traceback (most recent call last)",
      "Cell \u001b[0;32mIn[5], line 2\u001b[0m\n\u001b[1;32m      1\u001b[0m \u001b[38;5;66;03m# ошибка будет также, если передать неитерируемый объект\u001b[39;00m\n\u001b[0;32m----> 2\u001b[0m \u001b[38;5;28;43mlist\u001b[39;49m\u001b[43m(\u001b[49m\u001b[38;5;241;43m1\u001b[39;49m\u001b[43m)\u001b[49m\n",
      "\u001b[0;31mTypeError\u001b[0m: 'int' object is not iterable"
     ]
    }
   ],
   "source": [
    "# ошибка будет также, если передать неитерируемый объект\n",
    "list(1)"
   ]
  },
  {
   "cell_type": "code",
   "execution_count": 6,
   "metadata": {},
   "outputs": [
    {
     "data": {
      "text/plain": [
       "['abc', ['def', 'ghi']]"
      ]
     },
     "execution_count": 6,
     "metadata": {},
     "output_type": "execute_result"
    }
   ],
   "source": [
    "#В качестве элемента списка может быть другой список\n",
    "list_with_list = ['abc', ['def', 'ghi']] # ['def', 'ghi'] - Вложенный список\n",
    "list_with_list"
   ]
  },
  {
   "cell_type": "code",
   "execution_count": 7,
   "metadata": {},
   "outputs": [
    {
     "data": {
      "text/plain": [
       "[-4, -3, -2, -1, 0, 1, 2, 3]"
      ]
     },
     "execution_count": 7,
     "metadata": {},
     "output_type": "execute_result"
    }
   ],
   "source": [
    "continuous_sequence1 = list(range(-4, 4)) # создание списка из непрерывной последовательности целых чисел\n",
    "continuous_sequence1 #обратите внимание! правая граница - не включается в результирующий список"
   ]
  },
  {
   "cell_type": "code",
   "execution_count": 8,
   "metadata": {},
   "outputs": [
    {
     "data": {
      "text/plain": [
       "[-4, -2, 0, 2]"
      ]
     },
     "execution_count": 8,
     "metadata": {},
     "output_type": "execute_result"
    }
   ],
   "source": [
    "continuous_sequence2 = list(range(-4, 4, 2)) # создание списка из непрерывной последовательности целых чисел. с некоторым шагом\n",
    "continuous_sequence2 #обратите внимание! последним элементом - будет поместившийся в границы, с учетом шага, элемент, не включая границу"
   ]
  },
  {
   "cell_type": "code",
   "execution_count": 9,
   "metadata": {},
   "outputs": [
    {
     "data": {
      "text/plain": [
       "[4, 3, 2, 1, 0, -1, -2, -3]"
      ]
     },
     "execution_count": 9,
     "metadata": {},
     "output_type": "execute_result"
    }
   ],
   "source": [
    "continuous_sequence3 = list(range(4, -4, -1)) # создание списка из непрерывной последовательности целых чиселс шагом в обраном направлении\n",
    "continuous_sequence3"
   ]
  },
  {
   "cell_type": "code",
   "execution_count": 10,
   "metadata": {},
   "outputs": [
    {
     "data": {
      "text/plain": [
       "[]"
      ]
     },
     "execution_count": 10,
     "metadata": {},
     "output_type": "execute_result"
    }
   ],
   "source": [
    " # здесь попробуйте создавать разные списки с последовательностми с помощью range, каждый раз думайте почему так получилось\n",
    "\n",
    " \n",
    "# пример\n",
    "list(range(-1,-5,2)) # пустой  список\n",
    "# Почему? - (-1) + 2 = 0 (уже вышли за границы) - соответсвенно, между (-1) и (-5) - нет чисел, соответсвенно список пустой"
   ]
  },
  {
   "cell_type": "markdown",
   "metadata": {},
   "source": [
    "# **Индексация и срезы**"
   ]
  },
  {
   "cell_type": "code",
   "execution_count": 11,
   "metadata": {},
   "outputs": [
    {
     "name": "stdout",
     "output_type": "stream",
     "text": [
      "Первый элемент: S\n",
      "Последний элемент: m\n",
      "Срез элементов: ['p', 'a']\n",
      "Длина: 4\n"
     ]
    }
   ],
   "source": [
    "l = list('Spam')\n",
    "\n",
    "print('Первый элемент:',l[0])\n",
    "\n",
    "print('Последний элемент:',l[-1])\n",
    "\n",
    "print('Срез элементов:',l[1:-1])\n",
    "\n",
    "print('Длина:',len(l))"
   ]
  },
  {
   "cell_type": "markdown",
   "metadata": {},
   "source": [
    "# **Индексация**\n",
    "Чтобы взять элемент по индексу, необходимо нужный индекс передать в квадратных скобках"
   ]
  },
  {
   "cell_type": "code",
   "execution_count": 13,
   "metadata": {},
   "outputs": [
    {
     "name": "stdout",
     "output_type": "stream",
     "text": [
      "Индекс - 0, элемент - \"Я\"\n",
      "Индекс - 1, элемент - \" \"\n",
      "Индекс - 2, элемент - \"п\"\n",
      "Индекс - 3, элемент - \"о\"\n",
      "Индекс - 4, элемент - \"м\"\n",
      "Индекс - 5, элемент - \"н\"\n",
      "Индекс - 6, элемент - \"ю\"\n",
      "Индекс - 7, элемент - \" \"\n",
      "Индекс - 8, элемент - \"ч\"\n",
      "Индекс - 9, элемент - \"у\"\n",
      "Индекс - 10, элемент - \"д\"\n",
      "Индекс - 11, элемент - \"н\"\n",
      "Индекс - 12, элемент - \"о\"\n",
      "Индекс - 13, элемент - \"е\"\n",
      "Индекс - 14, элемент - \" \"\n",
      "Индекс - 15, элемент - \"м\"\n",
      "Индекс - 16, элемент - \"г\"\n",
      "Индекс - 17, элемент - \"н\"\n",
      "Индекс - 18, элемент - \"о\"\n",
      "Индекс - 19, элемент - \"в\"\n",
      "Индекс - 20, элемент - \"е\"\n",
      "Индекс - 21, элемент - \"н\"\n",
      "Индекс - 22, элемент - \"ь\"\n",
      "Индекс - 23, элемент - \"е\"\n",
      "Индекс - 24, элемент - \"\n",
      "\"\n"
     ]
    }
   ],
   "source": [
    "list_for_example = list('Я помню чудное мгновенье\\n')\n",
    "# Мы пока не проходили циклы, я здесь их испльзую - чтоб вывести элементы и не считать какой индекс соответсвует какому символу\n",
    "# Позже узнаете как это работает)\n",
    "for i, element in enumerate(list_for_example):\n",
    "  print(f'Индекс - {i}, элемент - \"{element}\"')\n"
   ]
  },
  {
   "cell_type": "markdown",
   "metadata": {},
   "source": [
    "К одному и тому же элементу можно обращаться с помощью как прямой, так и отрицательной нумерации.\n",
    "\n",
    "Отрицательную нумерацию (-|отрицательный индекс|) можно воспринимать как сокращенную запись такого выражения: длинна_списка -|отрицательный индекс|\n",
    "\n",
    "Например, в нашем случае:\n",
    "\n",
    "-1 элемент <=> длинна_списка -1 = 24\n",
    "\n"
   ]
  },
  {
   "cell_type": "code",
   "execution_count": 14,
   "metadata": {},
   "outputs": [
    {
     "name": "stdout",
     "output_type": "stream",
     "text": [
      "длинна списка = 25, предпоследний элемент = 23\n"
     ]
    }
   ],
   "source": [
    "# да, переменные можно называть кирилицей, но  никогда! никогда! так не делайте\n",
    "# и ругайте тех, кто делает))\n",
    "# Так не принято! и не правильно с точки зрения стандартов стилистики!\n",
    "# я просто показываю вам, что так можно с точки зрения синтаксиса\n",
    "# чтобы вы знали, что могли написать переменную, допустив опечатку(поставив вместо латинской- a, русскую -а)\n",
    "# их визуально - не отличить, но для компьютера это будут разные переменные\n",
    "# и компьютер не будет \"ругаться\" на кирилицу\n",
    "длинна_списка = len(list_for_example)\n",
    "предпоследний_элемент = длинна_списка -2\n",
    "print(f'длинна списка = {длинна_списка}, предпоследний элемент = {предпоследний_элемент}')\n"
   ]
  },
  {
   "cell_type": "code",
   "execution_count": 15,
   "metadata": {},
   "outputs": [
    {
     "name": "stdout",
     "output_type": "stream",
     "text": [
      "е <=> е\n"
     ]
    }
   ],
   "source": [
    "print(f'{list_for_example[-2]} <=> {list_for_example[23]}')"
   ]
  },
  {
   "cell_type": "code",
   "execution_count": 16,
   "metadata": {},
   "outputs": [
    {
     "name": "stdout",
     "output_type": "stream",
     "text": [
      "\n",
      "\n"
     ]
    },
    {
     "data": {
      "text/plain": [
       "'\\n'"
      ]
     },
     "execution_count": 16,
     "metadata": {},
     "output_type": "execute_result"
    }
   ],
   "source": [
    "# обратите внимние! последний элемент - символ переноса строки, это 1 элемент\n",
    "# (один символ: хоть он состоит из двух \\ и n, компьютер воспринемет его как единый сивол)\n",
    "# Также обратите внимние!  при выводе через принт его видно не будет\n",
    "print(list_for_example[-1])# строка просто перенесется # причем 2 раза, тк print тоже переносит строку\n",
    "list_for_example[-1]# однако его можно увидеть с помощью встроеного вывода в тетрадке"
   ]
  },
  {
   "cell_type": "code",
   "execution_count": 18,
   "metadata": {},
   "outputs": [
    {
     "name": "stdout",
     "output_type": "stream",
     "text": [
      "Правильно\n"
     ]
    }
   ],
   "source": [
    "# здесь потренируйтесь находить положительные и отрицательные индексы\n",
    "# которые относятся к одному объекту\n",
    "positive_index = int(input('Введите число - положительный индекс: '))\n",
    "negative_index = int(input('Введите число - отрицательный индекс: '))\n",
    "# тут я использую условие, чтобы автоматизировать проверку, не обращайте внимание\n",
    "# скоро вы узнаете как это работает)\n",
    "print('Правильно' if (positive_index-len(list_for_example)) == negative_index else 'Неправильно')"
   ]
  },
  {
   "cell_type": "markdown",
   "metadata": {},
   "source": [
    "# **Срезы**\n",
    "\n",
    "Срезы можно воспринимать как набор индексов, по которым мы хотим взять элементы.\n",
    "Срезы как и индексы - записываются в квадратных скобках.\n",
    "\n",
    "Схему среза можно описать следующим образом:\n",
    "\n",
    "[начало : конец(не включительно) : шаг]\n",
    "\n",
    "Это очень похоже на создание последовательности чисел c помощью range.\n",
    "Нужно уточнить,срез и range - разные по своей природе и с используются с разными целями, но интересно заметить, что если взять одинаковые: начало,конец и шаг, то range создаст последовательность чисел условно равную \"набору индексов\",который взьмет срез.\n",
    "\n",
    "Поясню о чем я говорю:"
   ]
  },
  {
   "cell_type": "code",
   "execution_count": 19,
   "metadata": {},
   "outputs": [
    {
     "data": {
      "text/plain": [
       "[1, 3, 5, 7]"
      ]
     },
     "execution_count": 19,
     "metadata": {},
     "output_type": "execute_result"
    }
   ],
   "source": [
    "# сначала на списке с числами - число совпадает с индексами\n",
    "numbers_for_slice = [0, 1, 2, 3, 4, 5, 6, 7, 8, 9]\n",
    "numbers_for_slice[1:9:2]"
   ]
  },
  {
   "cell_type": "code",
   "execution_count": 20,
   "metadata": {},
   "outputs": [
    {
     "data": {
      "text/plain": [
       "['b', 'd', 'f', 'h']"
      ]
     },
     "execution_count": 20,
     "metadata": {},
     "output_type": "execute_result"
    }
   ],
   "source": [
    "# теперь с буквами\n",
    "chars_for_slice = ['a', 'b', 'c', 'd', 'e', 'f', 'g', 'h', 'i', 'j']\n",
    "chars_for_slice[1:9:2]"
   ]
  },
  {
   "cell_type": "code",
   "execution_count": 21,
   "metadata": {},
   "outputs": [
    {
     "data": {
      "text/plain": [
       "[1, 3, 5, 7]"
      ]
     },
     "execution_count": 21,
     "metadata": {},
     "output_type": "execute_result"
    }
   ],
   "source": [
    "list(range(1, 9, 2))"
   ]
  },
  {
   "cell_type": "code",
   "execution_count": 22,
   "metadata": {},
   "outputs": [
    {
     "name": "stdout",
     "output_type": "stream",
     "text": [
      "b\n",
      "d\n",
      "f\n",
      "h\n"
     ]
    }
   ],
   "source": [
    "print(chars_for_slice[1])\n",
    "print(chars_for_slice[3])\n",
    "print(chars_for_slice[5])\n",
    "print(chars_for_slice[7])"
   ]
  },
  {
   "cell_type": "markdown",
   "metadata": {},
   "source": [
    "По сути срез:\n",
    "\n",
    "* Берет элементы с индексами - такими же, какие числа создал бы range - при тех же границах\n",
    "* И кладет эти элементы, в новый список\n"
   ]
  },
  {
   "cell_type": "code",
   "execution_count": 24,
   "metadata": {},
   "outputs": [
    {
     "data": {
      "text/plain": [
       "['b', 'd', 'f', 'h']"
      ]
     },
     "execution_count": 24,
     "metadata": {},
     "output_type": "execute_result"
    }
   ],
   "source": [
    "[chars_for_slice[1],chars_for_slice[3],chars_for_slice[5],chars_for_slice[7]] # примерно так"
   ]
  },
  {
   "cell_type": "markdown",
   "metadata": {},
   "source": [
    "\n",
    "\n",
    "\n",
    "> Срез не изменяет список, а создает новый  - поэтому, если его нужно  сохранить для будущих вычислений - его нужно записть в переменную."
   ]
  },
  {
   "cell_type": "code",
   "execution_count": 26,
   "metadata": {},
   "outputs": [
    {
     "ename": "TypeError",
     "evalue": "list indices must be integers or slices, not tuple",
     "output_type": "error",
     "traceback": [
      "\u001b[0;31m---------------------------------------------------------------------------\u001b[0m",
      "\u001b[0;31mTypeError\u001b[0m                                 Traceback (most recent call last)",
      "Cell \u001b[0;32mIn[26], line 2\u001b[0m\n\u001b[1;32m      1\u001b[0m \u001b[38;5;66;03m# так нелзя делать - будет ошибка\u001b[39;00m\n\u001b[0;32m----> 2\u001b[0m \u001b[43mchars_for_slice\u001b[49m\u001b[43m[\u001b[49m\u001b[38;5;241;43m1\u001b[39;49m\u001b[43m,\u001b[49m\u001b[38;5;241;43m3\u001b[39;49m\u001b[43m,\u001b[49m\u001b[38;5;241;43m5\u001b[39;49m\u001b[43m,\u001b[49m\u001b[38;5;241;43m7\u001b[39;49m\u001b[43m]\u001b[49m\n",
      "\u001b[0;31mTypeError\u001b[0m: list indices must be integers or slices, not tuple"
     ]
    }
   ],
   "source": [
    "# так нелзя делать - будет ошибка\n",
    "chars_for_slice[1,3,5,7]"
   ]
  },
  {
   "cell_type": "code",
   "execution_count": 27,
   "metadata": {},
   "outputs": [
    {
     "ename": "TypeError",
     "evalue": "list indices must be integers or slices, not range",
     "output_type": "error",
     "traceback": [
      "\u001b[0;31m---------------------------------------------------------------------------\u001b[0m",
      "\u001b[0;31mTypeError\u001b[0m                                 Traceback (most recent call last)",
      "Cell \u001b[0;32mIn[27], line 2\u001b[0m\n\u001b[1;32m      1\u001b[0m \u001b[38;5;66;03m# и так\u001b[39;00m\n\u001b[0;32m----> 2\u001b[0m \u001b[43mchars_for_slice\u001b[49m\u001b[43m[\u001b[49m\u001b[38;5;28;43mrange\u001b[39;49m\u001b[43m(\u001b[49m\u001b[38;5;241;43m1\u001b[39;49m\u001b[43m,\u001b[49m\u001b[38;5;241;43m9\u001b[39;49m\u001b[43m,\u001b[49m\u001b[38;5;241;43m2\u001b[39;49m\u001b[43m)\u001b[49m\u001b[43m]\u001b[49m\n",
      "\u001b[0;31mTypeError\u001b[0m: list indices must be integers or slices, not range"
     ]
    }
   ],
   "source": [
    "# и так\n",
    "chars_for_slice[range(1,9,2)]"
   ]
  },
  {
   "cell_type": "code",
   "execution_count": 28,
   "metadata": {},
   "outputs": [
    {
     "ename": "TypeError",
     "evalue": "list indices must be integers or slices, not list",
     "output_type": "error",
     "traceback": [
      "\u001b[0;31m---------------------------------------------------------------------------\u001b[0m",
      "\u001b[0;31mTypeError\u001b[0m                                 Traceback (most recent call last)",
      "Cell \u001b[0;32mIn[28], line 2\u001b[0m\n\u001b[1;32m      1\u001b[0m \u001b[38;5;66;03m# и так\u001b[39;00m\n\u001b[0;32m----> 2\u001b[0m \u001b[43mchars_for_slice\u001b[49m\u001b[43m[\u001b[49m\u001b[38;5;28;43mlist\u001b[39;49m\u001b[43m(\u001b[49m\u001b[38;5;28;43mrange\u001b[39;49m\u001b[43m(\u001b[49m\u001b[38;5;241;43m1\u001b[39;49m\u001b[43m,\u001b[49m\u001b[38;5;241;43m9\u001b[39;49m\u001b[43m,\u001b[49m\u001b[38;5;241;43m2\u001b[39;49m\u001b[43m)\u001b[49m\u001b[43m)\u001b[49m\u001b[43m]\u001b[49m\n",
      "\u001b[0;31mTypeError\u001b[0m: list indices must be integers or slices, not list"
     ]
    }
   ],
   "source": [
    "# и так\n",
    "chars_for_slice[list(range(1,9,2))]"
   ]
  },
  {
   "cell_type": "markdown",
   "metadata": {},
   "source": [
    "У срезов можно опускать(не писать) некоторые значение"
   ]
  },
  {
   "cell_type": "code",
   "execution_count": 29,
   "metadata": {},
   "outputs": [
    {
     "data": {
      "text/plain": [
       "['Я', ' ', 'п', 'о', 'м', 'н', 'ю']"
      ]
     },
     "execution_count": 29,
     "metadata": {},
     "output_type": "execute_result"
    }
   ],
   "source": [
    "# например не указывать шаг - по умолчанию шаг = 1\n",
    "list_for_example[0:7]"
   ]
  },
  {
   "cell_type": "code",
   "execution_count": 31,
   "metadata": {},
   "outputs": [
    {
     "data": {
      "text/plain": [
       "['Я', 'н', 'д', 'м', 'е']"
      ]
     },
     "execution_count": 31,
     "metadata": {},
     "output_type": "execute_result"
    }
   ],
   "source": [
    "# или не указывать конец - по умолчанию конец = длине списка\n",
    "list_for_example[0::5]"
   ]
  },
  {
   "cell_type": "code",
   "execution_count": 32,
   "metadata": {},
   "outputs": [
    {
     "data": {
      "text/plain": [
       "['Я', 'н', 'д', 'м', 'е']"
      ]
     },
     "execution_count": 32,
     "metadata": {},
     "output_type": "execute_result"
    }
   ],
   "source": [
    "# или не указывать начало - по умолчанию начало = 0\n",
    "list_for_example[::5]"
   ]
  },
  {
   "cell_type": "code",
   "execution_count": 33,
   "metadata": {},
   "outputs": [
    {
     "data": {
      "text/plain": [
       "['Я',\n",
       " ' ',\n",
       " 'п',\n",
       " 'о',\n",
       " 'м',\n",
       " 'н',\n",
       " 'ю',\n",
       " ' ',\n",
       " 'ч',\n",
       " 'у',\n",
       " 'д',\n",
       " 'н',\n",
       " 'о',\n",
       " 'е',\n",
       " ' ',\n",
       " 'м',\n",
       " 'г',\n",
       " 'н',\n",
       " 'о',\n",
       " 'в',\n",
       " 'е',\n",
       " 'н',\n",
       " 'ь',\n",
       " 'е',\n",
       " '\\n']"
      ]
     },
     "execution_count": 33,
     "metadata": {},
     "output_type": "execute_result"
    }
   ],
   "source": [
    "# или ничго не указывать, тогда сздается копия списка\n",
    "list_for_example[:]"
   ]
  },
  {
   "cell_type": "code",
   "execution_count": 34,
   "metadata": {},
   "outputs": [
    {
     "data": {
      "text/plain": [
       "[0, 1, 2, 3, 4, 5, 6, 7, 8, 9, 10, 11, 12, 13, 14, 15, 16, 17, 18, 19]"
      ]
     },
     "execution_count": 34,
     "metadata": {},
     "output_type": "execute_result"
    }
   ],
   "source": [
    "list_for_example_num = list(range(20))# можно не указывать начало - по умолчанию = 0, шаг по умолчанию = 1\n",
    "list_for_example_num"
   ]
  },
  {
   "cell_type": "code",
   "execution_count": 35,
   "metadata": {},
   "outputs": [
    {
     "data": {
      "text/plain": [
       "[]"
      ]
     },
     "execution_count": 35,
     "metadata": {},
     "output_type": "execute_result"
    }
   ],
   "source": [
    "# здесь потренируйтесь брать разные срезы, каждый раз думайте, почему так получилось\n",
    "# сначала со числами\n",
    "# пример:\n",
    "list_for_example_num[-1:-5: 2] # пустой список\n",
    "# Почему? - мы идем от последнего элемента (19) - в право(положительный шаг)- справа больше нет элементов - соответсвенно, список"
   ]
  },
  {
   "cell_type": "code",
   "execution_count": null,
   "metadata": {},
   "outputs": [],
   "source": [
    "#теперь с буквами\n",
    "# пример:\n",
    "list_for_example[-1:-15: -3]"
   ]
  },
  {
   "cell_type": "markdown",
   "metadata": {},
   "source": [
    "## Задача 1: Извлечение элемента по индексу\n",
    "**Описание:** Дан список и индекс. Выведите элемент списка, находящийся по данному индексу.  \n",
    "**Пример:**\n",
    "```python\n",
    "# Входные данные\n",
    "lst = [10, 20, 30, 40, 50]\n",
    "index = 2\n",
    "\n",
    "# Выходные данные\n",
    "30"
   ]
  },
  {
   "cell_type": "code",
   "execution_count": null,
   "metadata": {},
   "outputs": [],
   "source": []
  },
  {
   "cell_type": "markdown",
   "metadata": {},
   "source": [
    "## Задача 2: Извлечение последнего элемента\n",
    "**Описание:** Дан список. Выведите последний элемент списка.  \n",
    "**Пример:**\n",
    "```python\n",
    "# Входные данные\n",
    "lst = [5, 10, 15, 20]\n",
    "\n",
    "# Выходные данные\n",
    "20\n"
   ]
  },
  {
   "cell_type": "code",
   "execution_count": null,
   "metadata": {},
   "outputs": [],
   "source": []
  },
  {
   "cell_type": "markdown",
   "metadata": {},
   "source": [
    "## Задача 3: Срез с начала списка\n",
    "**Описание:** Дан список и число `n`. Выведите первые `n` элементов списка.  \n",
    "**Пример:**\n",
    "```python\n",
    "# Входные данные\n",
    "lst = [1, 2, 3, 4, 5]\n",
    "n = 3\n",
    "\n",
    "# Выходные данные\n",
    "[1, 2, 3]"
   ]
  },
  {
   "cell_type": "code",
   "execution_count": null,
   "metadata": {},
   "outputs": [],
   "source": []
  },
  {
   "cell_type": "markdown",
   "metadata": {},
   "source": [
    "## Задача 4: Срез до конца\n",
    "**Описание:** Дан список и число `n`. Выведите все элементы списка, начиная с индекса `n`.  \n",
    "**Пример:**\n",
    "```python\n",
    "# Входные данные\n",
    "lst = [10, 20, 30, 40, 50]\n",
    "n = 2\n",
    "\n",
    "# Выходные данные\n",
    "[30, 40, 50]\n"
   ]
  },
  {
   "cell_type": "code",
   "execution_count": null,
   "metadata": {},
   "outputs": [],
   "source": []
  },
  {
   "cell_type": "markdown",
   "metadata": {},
   "source": [
    "## Задача 5: Извлечение четных индексов\n",
    "**Описание:** Дан список. Выведите элементы списка, находящиеся на четных позициях.  \n",
    "**Пример:**\n",
    "```python\n",
    "# Входные данные\n",
    "lst = [1, 2, 3, 4, 5, 6]\n",
    "\n",
    "# Выходные данные\n",
    "[1, 3, 5]"
   ]
  },
  {
   "cell_type": "code",
   "execution_count": null,
   "metadata": {},
   "outputs": [],
   "source": []
  },
  {
   "cell_type": "markdown",
   "metadata": {},
   "source": [
    "## Задача 6: Обратный порядок\n",
    "**Описание:** Дан список. Выведите его элементы в обратном порядке.  \n",
    "**Пример:**\n",
    "```python\n",
    "# Входные данные\n",
    "lst = [1, 2, 3, 4, 5]\n",
    "\n",
    "# Выходные данные\n",
    "[5, 4, 3, 2, 1]"
   ]
  },
  {
   "cell_type": "code",
   "execution_count": null,
   "metadata": {},
   "outputs": [],
   "source": []
  },
  {
   "cell_type": "markdown",
   "metadata": {},
   "source": [
    "## Задача 7: Срез с шагом\n",
    "**Описание:** Дан список. Выведите каждый второй элемент списка.  \n",
    "**Пример:**\n",
    "```python\n",
    "# Входные данные\n",
    "lst = [10, 20, 30, 40, 50]\n",
    "\n",
    "# Выходные данные\n",
    "[10, 30, 50]"
   ]
  },
  {
   "cell_type": "code",
   "execution_count": null,
   "metadata": {},
   "outputs": [],
   "source": []
  },
  {
   "cell_type": "markdown",
   "metadata": {},
   "source": [
    "## Задача 8: Длина списка\n",
    "**Описание:** Найдите количество элементов в списке.  \n",
    "**Пример:**\n",
    "```python\n",
    "# Входные данные\n",
    "lst = [7, 14, 21, 28]\n",
    "\n",
    "# Выходные данные\n",
    "4"
   ]
  },
  {
   "cell_type": "code",
   "execution_count": null,
   "metadata": {},
   "outputs": [],
   "source": []
  },
  {
   "cell_type": "markdown",
   "metadata": {},
   "source": [
    "## Задача 9: Создание подсписка\n",
    "**Описание:** Создайте подсписок из элементов с индексами от `start` до `end` (включительно).  \n",
    "**Пример:**\n",
    "```python\n",
    "# Входные данные\n",
    "lst = [5, 10, 15, 20, 25, 30]\n",
    "start = 2\n",
    "end = 4\n",
    "\n",
    "# Выходные данные\n",
    "[15, 20, 25]"
   ]
  },
  {
   "cell_type": "code",
   "execution_count": null,
   "metadata": {},
   "outputs": [],
   "source": []
  },
  {
   "cell_type": "markdown",
   "metadata": {},
   "source": [
    "\n",
    "## Задача 10: Числа и цифры\n",
    "**Описание:** На вход программы подается число N. Напишите программу, которая выводила бы:\n",
    "\n",
    "- первую цифру числа;\n",
    "- последнюю цифру числа;\n",
    "- остальные цифры этого числа.\n",
    "**Пример работы программы:**\n",
    "\n",
    "Введите Ваше число: 26231\n",
    "\n",
    "Первая цифра: 2\n",
    "\n",
    "Последняя цифры: 1\n",
    "\n",
    "Остальные цифры: 623"
   ]
  },
  {
   "cell_type": "code",
   "execution_count": null,
   "metadata": {},
   "outputs": [],
   "source": []
  },
  {
   "cell_type": "markdown",
   "metadata": {},
   "source": []
  }
 ],
 "metadata": {
  "kernelspec": {
   "display_name": "Python 3",
   "language": "python",
   "name": "python3"
  },
  "language_info": {
   "codemirror_mode": {
    "name": "ipython",
    "version": 3
   },
   "file_extension": ".py",
   "mimetype": "text/x-python",
   "name": "python",
   "nbconvert_exporter": "python",
   "pygments_lexer": "ipython3",
   "version": "3.9.6"
  }
 },
 "nbformat": 4,
 "nbformat_minor": 2
}
