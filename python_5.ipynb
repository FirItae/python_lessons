{
 "cells": [
  {
   "cell_type": "markdown",
   "metadata": {},
   "source": [
    " Цикл For\n",
    "\n",
    "Цикл for в Python используется для перебора элементов в последовательности (например, списка, кортежа или строки).\n",
    "\n",
    "Пример использования цикла for:\n",
    "\n",
    "\n",
    "\n",
    "\n",
    "\n"
   ]
  },
  {
   "cell_type": "code",
   "execution_count": 1,
   "metadata": {},
   "outputs": [
    {
     "name": "stdout",
     "output_type": "stream",
     "text": [
      "1\n",
      "2\n",
      "3\n",
      "4\n",
      "5\n"
     ]
    }
   ],
   "source": [
    "for val in [1, 2, 3, 4, 5]:\n",
    "    print(val)\n"
   ]
  },
  {
   "cell_type": "markdown",
   "metadata": {},
   "source": [
    "В этом примере переменная val последовательно принимает значения 1, 2, 3, 4 и 5 из списка [1, 2, 3, 4, 5].\n",
    "На каждой итерации цикла выполняется команда print(val), которая выводит текущее значение переменной val.\n",
    "\n",
    "Таким образом, данный код выведет на экран числа от 1 до 5.\n"
   ]
  },
  {
   "cell_type": "code",
   "execution_count": 2,
   "metadata": {},
   "outputs": [
    {
     "name": "stdout",
     "output_type": "stream",
     "text": [
      "1 * 2 = 2\n",
      "2 * 2 = 4\n",
      "3 * 2 = 6\n",
      "4 * 2 = 8\n",
      "5 * 2 = 10\n"
     ]
    }
   ],
   "source": [
    "\n",
    "for num in [1, 2, 3, 4, 5]:\n",
    "    print(f'{num} * 2 = {num * 2}')\n",
    "\n"
   ]
  },
  {
   "cell_type": "markdown",
   "metadata": {},
   "source": [
    "Мы можем использовать цикл for для выполнения различных задач, добавляя различные команды, такие как вычисление суммы элементов списка, поиск максимального или минимального значения, и т.д.\n",
    "\n"
   ]
  },
  {
   "cell_type": "code",
   "execution_count": 4,
   "metadata": {},
   "outputs": [
    {
     "name": "stdout",
     "output_type": "stream",
     "text": [
      "0 + 1 = 1\n",
      "1 + 2 = 3\n",
      "3 + 3 = 6\n",
      "6 + 4 = 10\n",
      "10 + 5 = 15\n",
      "Сумма элементов списка: 15\n"
     ]
    }
   ],
   "source": [
    "sum = 0\n",
    "for num in [1, 2, 3, 4, 5]:\n",
    "    print(f'{sum} + {num} = {sum + num}')\n",
    "    sum += num\n",
    "    \n",
    "\n",
    "\n",
    "print(f'Сумма элементов списка: {sum}')\n",
    "\n"
   ]
  },
  {
   "cell_type": "markdown",
   "metadata": {},
   "source": [
    "При этом мы можем использовать цикл for для перебора элементов в любом списке."
   ]
  },
  {
   "cell_type": "code",
   "execution_count": 6,
   "metadata": {},
   "outputs": [
    {
     "name": "stdout",
     "output_type": "stream",
     "text": [
      "hello\n",
      "world\n",
      "python\n",
      "code\n",
      "example\n"
     ]
    }
   ],
   "source": [
    "for word in ['hello', 'world', 'python', 'code', 'example']:\n",
    "    print(word)\n",
    "\n",
    "\n"
   ]
  },
  {
   "cell_type": "code",
   "execution_count": 7,
   "metadata": {},
   "outputs": [
    {
     "name": "stdout",
     "output_type": "stream",
     "text": [
      "hello!\n",
      "world!\n",
      "python!\n",
      "code!\n",
      "example!\n"
     ]
    }
   ],
   "source": [
    "for word in ['hello', 'world', 'python', 'code', 'example']:\n",
    "    print(word + '!')\n",
    "\n",
    "\n"
   ]
  },
  {
   "cell_type": "markdown",
   "metadata": {},
   "source": [
    "Попробуйте подумать - что будет выведено на экран в следующем коде:\n",
    "\n",
    "\n"
   ]
  },
  {
   "cell_type": "code",
   "execution_count": null,
   "metadata": {},
   "outputs": [],
   "source": [
    "power = 1\n",
    "for num in [1, 2, 3, 4, 5]:\n",
    "    power *= num\n",
    "    \n",
    "print(f'Результат: {power}')"
   ]
  },
  {
   "cell_type": "markdown",
   "metadata": {},
   "source": [
    "Мы  можем  итерироваться по любым последовательностям, которые имеют порядок, в том числе и по строкам.\n",
    "\n",
    "\n"
   ]
  },
  {
   "cell_type": "code",
   "execution_count": 8,
   "metadata": {},
   "outputs": [
    {
     "name": "stdout",
     "output_type": "stream",
     "text": [
      "h\n",
      "e\n",
      "l\n",
      "l\n",
      "o\n"
     ]
    }
   ],
   "source": [
    "\n",
    "for char in 'hello':\n",
    "    print(char)\n",
    "    "
   ]
  },
  {
   "cell_type": "markdown",
   "metadata": {},
   "source": [
    "Существует еще один способ использования цикла for - это использование функции range().\n",
    "\n",
    "range(start, stop, step) - эта функция возвращает последовательность чисел, начиная с start, заканчивая stop(не включая), с шагом step.\n",
    "\n",
    "Например:\n",
    "\n",
    "range(1, 10, 1) - это последовательность чисел от 1 до 10 с шагом 1."
   ]
  },
  {
   "cell_type": "code",
   "execution_count": 14,
   "metadata": {},
   "outputs": [
    {
     "data": {
      "text/plain": [
       "range(1, 10)"
      ]
     },
     "execution_count": 14,
     "metadata": {},
     "output_type": "execute_result"
    }
   ],
   "source": [
    "range(1, 10, 1)    - возвращает объект range, который представляет собой последовательность чисел от 1 до 10 с шагом 1."
   ]
  },
  {
   "cell_type": "code",
   "execution_count": 15,
   "metadata": {},
   "outputs": [
    {
     "data": {
      "text/plain": [
       "[1, 2, 3, 4, 5, 6, 7, 8, 9]"
      ]
     },
     "execution_count": 15,
     "metadata": {},
     "output_type": "execute_result"
    }
   ],
   "source": [
    "list(range(1, 10, 1))    - можно преобразовать в список, чтобы увидеть последовательность чисел."
   ]
  },
  {
   "cell_type": "code",
   "execution_count": 16,
   "metadata": {},
   "outputs": [
    {
     "name": "stdout",
     "output_type": "stream",
     "text": [
      "1\n",
      "2\n",
      "3\n",
      "4\n",
      "5\n",
      "6\n",
      "7\n",
      "8\n",
      "9\n"
     ]
    }
   ],
   "source": [
    "for num in range(1, 10):   -  если шаг не указан - по умолчанию шаг равен 1,\n",
    "    print(num)\n"
   ]
  },
  {
   "cell_type": "markdown",
   "metadata": {},
   "source": [
    "Если нам нужны не только значения списка, но и их индексы, то мы можем использовать функцию enumerate()."
   ]
  },
  {
   "cell_type": "code",
   "execution_count": 17,
   "metadata": {},
   "outputs": [
    {
     "name": "stdout",
     "output_type": "stream",
     "text": [
      "0 - spam\n",
      "1 - eggs\n",
      "2 - ham\n"
     ]
    }
   ],
   "source": [
    "for index, value in enumerate(['spam', 'eggs', 'ham']):\n",
    "    print(f'{index} - {value}')\n",
    "\n",
    "\n",
    "\n"
   ]
  },
  {
   "cell_type": "markdown",
   "metadata": {},
   "source": [
    "Update по условиям:\n",
    "Можно проверять есть ли элемент в списке\n",
    "\n",
    "\n"
   ]
  },
  {
   "cell_type": "code",
   "execution_count": 18,
   "metadata": {},
   "outputs": [
    {
     "name": "stdout",
     "output_type": "stream",
     "text": [
      "Список чисел: [1, 2, 3, 4, 5, 6, 7, 8, 9]\n",
      "5 есть в списке\n",
      "10 нет в списке\n"
     ]
    }
   ],
   "source": [
    "numbers = list(range(1, 10))\n",
    "print(f'Список чисел: {numbers}')\n",
    "\n",
    "if 5 in numbers:\n",
    "    print('5 есть в списке')\n",
    "else:\n",
    "    print('5 нет в списке')\n",
    "\n",
    "if 10 in numbers:\n",
    "    print('10 есть в списке')\n",
    "else:\n",
    "    print('10 нет в списке')\n",
    "\n",
    "\n"
   ]
  },
  {
   "cell_type": "markdown",
   "metadata": {},
   "source": [
    "Соединив это с циклом, можно узнать есть ли элемент из списка в другом списке:"
   ]
  },
  {
   "cell_type": "code",
   "execution_count": 27,
   "metadata": {},
   "outputs": [
    {
     "name": "stdout",
     "output_type": "stream",
     "text": [
      "Проверяем \"green\":\n",
      "---- У меня есть \"green\" (в списке colors_i_have:['red', 'green', 'blue'])\n",
      "==============================\n",
      "Проверяем \"blue\":\n",
      "---- У меня есть \"blue\" (в списке colors_i_have:['red', 'green', 'blue'])\n",
      "==============================\n",
      "Проверяем \"purple\":\n",
      "---- У меня нет \"purple\" (в списке colors_i_have:['red', 'green', 'blue'])\n",
      "==============================\n"
     ]
    }
   ],
   "source": [
    "colors_i_have = ['red', 'green', 'blue']\n",
    "colors_i_want = ['green', 'blue', 'purple']\n",
    "\n",
    "for color in colors_i_want:\n",
    "    print(f'Проверяем \"{color}\":')\n",
    "    if color in colors_i_have:\n",
    "        print(f'---- У меня есть \"{color}\" (в списке colors_i_have:{colors_i_have})')\n",
    "    else:\n",
    "        print(f'---- У меня нет \"{color}\" (в списке colors_i_have:{colors_i_have})')\n",
    "    print('==='*10)"
   ]
  },
  {
   "cell_type": "markdown",
   "metadata": {},
   "source": [
    "# Практические задания"
   ]
  },
  {
   "cell_type": "markdown",
   "metadata": {},
   "source": [
    "\n",
    "\n",
    "**Задача 1 \"Поиск простых чисел\":** \n",
    "\n",
    "Простые числа - это числа, которые делятся только на 1 и на само себя.\n",
    "\n",
    "Разработайте программу для нахождения всех простых чисел в диапазоне от 1 до 100, чтобы использовать их в криптографических алгоритмах.\n"
   ]
  },
  {
   "cell_type": "code",
   "execution_count": null,
   "metadata": {},
   "outputs": [],
   "source": []
  },
  {
   "cell_type": "markdown",
   "metadata": {},
   "source": [
    "\n",
    "\n",
    "**Задача 2 \"Анализ текста\":** \n",
    "\n",
    "Напишите программу, которая подсчитывает количество гласных и согласных в строке, чтобы оценить сложность произношения текста.\n",
    "\n",
    "Пример :\n",
    "\n",
    "вход: \"Привет, мир!\"\n",
    "\n",
    "вывод: Гласные: 3, Согласные: 6"
   ]
  },
  {
   "cell_type": "code",
   "execution_count": null,
   "metadata": {},
   "outputs": [],
   "source": []
  },
  {
   "cell_type": "markdown",
   "metadata": {},
   "source": [
    "**Задача 3 \"Фильтрация четных чисел\":** \n",
    "\n",
    "Создайте программу, которая извлекает все четные числа из списка для анализа данных.\n",
    "\n",
    "Пример :\n",
    "\n",
    "вход: [1, 2, 3, 4, 5, 6, 7, 8, 9, 10]\n",
    "\n",
    "вывод: [2, 4, 6, 8, 10]"
   ]
  },
  {
   "cell_type": "code",
   "execution_count": null,
   "metadata": {},
   "outputs": [],
   "source": []
  },
  {
   "cell_type": "markdown",
   "metadata": {},
   "source": [
    "**Задача 4 \"Поиск общих элементов\":** \n",
    "\n",
    "Разработайте программу для нахождения общих элементов в двух списках, чтобы определить пересечения данных.\n",
    "\n",
    "Пример :\n",
    "\n",
    "вход: [1, 2, 3, 4], [3, 4, 5, 6]\n",
    "\n",
    "вывод: [3, 4]"
   ]
  },
  {
   "cell_type": "code",
   "execution_count": null,
   "metadata": {},
   "outputs": [],
   "source": []
  },
  {
   "cell_type": "markdown",
   "metadata": {},
   "source": [
    "\n",
    "\n",
    "**Задача 5 \"Сумма чисел\":** \n",
    "\n",
    "Разработайте программу для нахождения суммы всех чисел в списке, чтобы использовать её в финансовых расчетах.\n",
    "\n",
    "Пример :\n",
    "\n",
    "вход: [1, 2, 3, 4, 5]\n",
    "\n",
    "вывод: 15"
   ]
  },
  {
   "cell_type": "code",
   "execution_count": null,
   "metadata": {},
   "outputs": [],
   "source": [
    "\n"
   ]
  },
  {
   "cell_type": "markdown",
   "metadata": {},
   "source": [
    "\n",
    "**Задача 6 \"Подсчет слов\":** \n",
    "\n",
    "Напишите программу, которая подсчитывает количество слов в строке. \n",
    "Решить задачу несколькими способами:\n",
    "1. не используя функцию split()\n",
    "2. не используя цикл  \n",
    "*3. не используя функцию split() и цикл\n",
    "\n",
    "\n",
    "Пример :\n",
    "\n",
    "вход: \"Это пример строки\"\n",
    "\n",
    "вывод: 3\n"
   ]
  },
  {
   "cell_type": "code",
   "execution_count": null,
   "metadata": {},
   "outputs": [],
   "source": []
  },
  {
   "cell_type": "markdown",
   "metadata": {},
   "source": [
    "\n",
    "**Задача 7 \"Квадрат чисел\":** \n",
    "\n",
    "Создайте программу, которая возводит в квадрат все числа в списке для математических вычислений.\n",
    "\n",
    "Пример :\n",
    "\n",
    "вход: [1, 2, 3, 4]\n",
    "\n",
    "вывод: [1, 4, 9, 16]"
   ]
  },
  {
   "cell_type": "code",
   "execution_count": null,
   "metadata": {},
   "outputs": [],
   "source": []
  },
  {
   "cell_type": "markdown",
   "metadata": {},
   "source": [
    "\n",
    "\n",
    "\n",
    "\n",
    "**Задача 8 \"Подсчет символов\":** \n",
    "\n",
    "Разработайте программу для подсчета количества символов в строке, чтобы оценить её длину.(не используя функцию len())\n",
    "\n",
    "Пример :\n",
    "\n",
    "вход: \"Hello, World!\"\n",
    "\n",
    "вывод: 13\n",
    "\n",
    "\n"
   ]
  },
  {
   "cell_type": "code",
   "execution_count": null,
   "metadata": {},
   "outputs": [],
   "source": []
  }
 ],
 "metadata": {
  "kernelspec": {
   "display_name": "Python 3",
   "language": "python",
   "name": "python3"
  },
  "language_info": {
   "codemirror_mode": {
    "name": "ipython",
    "version": 3
   },
   "file_extension": ".py",
   "mimetype": "text/x-python",
   "name": "python",
   "nbconvert_exporter": "python",
   "pygments_lexer": "ipython3",
   "version": "3.9.6"
  }
 },
 "nbformat": 4,
 "nbformat_minor": 2
}
