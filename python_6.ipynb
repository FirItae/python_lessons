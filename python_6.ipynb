{
 "cells": [
  {
   "cell_type": "markdown",
   "metadata": {},
   "source": [
    "## Общая информация:\n",
    "\n",
    "* Функции. Создание функции. Документирование\n",
    "* Функция - это объект. Области видимости функции (global, nonlocal). Вложенные функции\n",
    "* Аргументы функции: aргументы по умолчанию, изменяемые объекты как аргументы по умолчанию, звездочки. Лямбда функции\n",
    "\n",
    "\n",
    "##  Функции. \n",
    "### Определение функции "
   ]
  },
  {
   "cell_type": "markdown",
   "metadata": {},
   "source": [
    "**Что такое функция?**\n",
    "\n",
    "1. функция в программировании — фрагмент программного кода (подпрограмма), к которому можно обратиться из другого места программы;\n",
    "\n",
    "2. функция – это средство, позволяющее группировать наборы инструкций так, что в программе они могут запускаться неоднократно.\n",
    "\n",
    "3.  Функции – это практически универсальное средство структурирования программы\n",
    "\n",
    "\n",
    "**Обощим:** \n",
    "\n",
    "* Функция - это блок кода, который можно использовать несколько раз в разных местах программы."
   ]
  },
  {
   "cell_type": "markdown",
   "metadata": {},
   "source": [
    "Рассмотрим пример собственных простых функций\n",
    "\n",
    "**Пример №1**"
   ]
  },
  {
   "cell_type": "code",
   "execution_count": 11,
   "metadata": {},
   "outputs": [
    {
     "name": "stdout",
     "output_type": "stream",
     "text": [
      "Текущее время: 2025.03.23 13:25:02\n"
     ]
    }
   ],
   "source": [
    "from datetime import datetime # Необходимые модули для работы со временем\n",
    "\n",
    "# Создание функции\n",
    "\n",
    "def get_time(): \n",
    "    '''\n",
    "    Данная функция выводит на консоль текущую дату и время в формате: Год.месяц.день часы:минуты:секунды\n",
    "    ''' \n",
    "    print('Текущее время:',datetime.strftime(datetime.now(), \"%Y.%m.%d %H:%M:%S\")) \n",
    "    \n",
    "# Вызов функции \n",
    "get_time()"
   ]
  },
  {
   "cell_type": "code",
   "execution_count": 12,
   "metadata": {},
   "outputs": [
    {
     "name": "stdout",
     "output_type": "stream",
     "text": [
      "\n",
      "    Данная функция выводит на консоль текущую дату и время в формате: Год.месяц.день часы:минуты:секунды\n",
      "    \n"
     ]
    }
   ],
   "source": [
    "print(get_time.__doc__)"
   ]
  },
  {
   "cell_type": "markdown",
   "metadata": {},
   "source": [
    "**Пример №2**"
   ]
  },
  {
   "cell_type": "code",
   "execution_count": 14,
   "metadata": {},
   "outputs": [],
   "source": [
    "def split_tags(text):\n",
    "    tag_list = []\n",
    "    \n",
    "    for tag in text.split(','):\n",
    "        tag_list.append(tag.strip())\n",
    "        \n",
    "    return tag_list"
   ]
  },
  {
   "cell_type": "code",
   "execution_count": 15,
   "metadata": {},
   "outputs": [
    {
     "data": {
      "text/plain": [
       "['Python', 'lessons', 'test']"
      ]
     },
     "execution_count": 15,
     "metadata": {},
     "output_type": "execute_result"
    }
   ],
   "source": [
    "split_tags('Python, lessons, test')"
   ]
  },
  {
   "cell_type": "code",
   "execution_count": 16,
   "metadata": {},
   "outputs": [
    {
     "data": {
      "text/plain": [
       "['New tag', 'Python', 'Hello World!']"
      ]
     },
     "execution_count": 16,
     "metadata": {},
     "output_type": "execute_result"
    }
   ],
   "source": [
    "split_tags('New tag, Python, Hello World!')"
   ]
  },
  {
   "cell_type": "markdown",
   "metadata": {},
   "source": [
    "**Для чего нужны функции?**\n",
    "\n",
    "\n",
    "* разбить большую задачу на ряд подзачад\n",
    "\n",
    "* избавиться от повторяющихся элементов в коде\n",
    "\n",
    "* зачем править одну ошибку в 5 местах, если можно в 1?"
   ]
  },
  {
   "cell_type": "markdown",
   "metadata": {},
   "source": [
    "### Часть 2. Создание функций. Функции без аргументов. Функции с аргументами."
   ]
  },
  {
   "cell_type": "markdown",
   "metadata": {},
   "source": [
    "**Общая схема создания функции без аргументов**"
   ]
  },
  {
   "cell_type": "code",
   "execution_count": null,
   "metadata": {
    "collapsed": true
   },
   "outputs": [],
   "source": [
    "def <имя_функции> ():\n",
    "    <действие 1>\n",
    "    <действие 2>"
   ]
  },
  {
   "cell_type": "markdown",
   "metadata": {},
   "source": [
    "Например"
   ]
  },
  {
   "cell_type": "code",
   "execution_count": 17,
   "metadata": {
    "collapsed": true
   },
   "outputs": [],
   "source": [
    "def test_function():\n",
    "    print('Hello World!')"
   ]
  },
  {
   "cell_type": "markdown",
   "metadata": {},
   "source": [
    "Вызов функции:"
   ]
  },
  {
   "cell_type": "code",
   "execution_count": 18,
   "metadata": {},
   "outputs": [
    {
     "name": "stdout",
     "output_type": "stream",
     "text": [
      "Hello World!\n"
     ]
    }
   ],
   "source": [
    "test_function()"
   ]
  },
  {
   "cell_type": "markdown",
   "metadata": {},
   "source": [
    "**Общая схема создания функции с аргументами:**"
   ]
  },
  {
   "cell_type": "code",
   "execution_count": null,
   "metadata": {
    "collapsed": true
   },
   "outputs": [],
   "source": [
    "def <имя_функции> (аргумент_1, аргумент_2, аргумент_3,..., аргумент_N):\n",
    "    <действие 1>\n",
    "    <действие 2>"
   ]
  },
  {
   "cell_type": "markdown",
   "metadata": {},
   "source": [
    "Например "
   ]
  },
  {
   "cell_type": "code",
   "execution_count": 24,
   "metadata": {
    "collapsed": true
   },
   "outputs": [],
   "source": [
    "def calc(x,y): \n",
    "    print(x * y)\n",
    "    return x*y"
   ]
  },
  {
   "cell_type": "markdown",
   "metadata": {},
   "source": [
    "Вызов функции:"
   ]
  },
  {
   "cell_type": "code",
   "execution_count": 25,
   "metadata": {},
   "outputs": [
    {
     "name": "stdout",
     "output_type": "stream",
     "text": [
      "20\n"
     ]
    }
   ],
   "source": [
    "a = calc(4,5)"
   ]
  },
  {
   "cell_type": "code",
   "execution_count": 26,
   "metadata": {},
   "outputs": [
    {
     "name": "stdout",
     "output_type": "stream",
     "text": [
      "20\n"
     ]
    }
   ],
   "source": [
    "print(a)"
   ]
  },
  {
   "cell_type": "markdown",
   "metadata": {},
   "source": [
    "**Задание: **"
   ]
  },
  {
   "cell_type": "code",
   "execution_count": 21,
   "metadata": {},
   "outputs": [
    {
     "name": "stdout",
     "output_type": "stream",
     "text": [
      "Hi Hi \n"
     ]
    }
   ],
   "source": [
    "calc('Hi ',2) # Результат функции?"
   ]
  },
  {
   "cell_type": "markdown",
   "metadata": {},
   "source": [
    "Более сложный пример"
   ]
  },
  {
   "cell_type": "code",
   "execution_count": 27,
   "metadata": {},
   "outputs": [
    {
     "name": "stdout",
     "output_type": "stream",
     "text": [
      "-1\n"
     ]
    }
   ],
   "source": [
    "def calc_v_2(x,y,z):\n",
    "    fp = x + y\n",
    "    sp = y + z \n",
    "    dif = fp - sp\n",
    "    print(dif)\n",
    "    \n",
    "calc_v_2(1,3,2)"
   ]
  },
  {
   "cell_type": "markdown",
   "metadata": {},
   "source": [
    "Задание: "
   ]
  },
  {
   "cell_type": "code",
   "execution_count": 29,
   "metadata": {},
   "outputs": [
    {
     "name": "stdout",
     "output_type": "stream",
     "text": [
      "0\n"
     ]
    }
   ],
   "source": [
    "calc_v_2(2,2,2) # Результат функции?"
   ]
  },
  {
   "cell_type": "code",
   "execution_count": 28,
   "metadata": {},
   "outputs": [
    {
     "name": "stdout",
     "output_type": "stream",
     "text": [
      "2\n"
     ]
    }
   ],
   "source": [
    "calc_v_2(4,3,2) # Результат функции?"
   ]
  },
  {
   "cell_type": "markdown",
   "metadata": {},
   "source": [
    "Мы можем явно указывать какой аргумент какое значение принимает на вход:"
   ]
  },
  {
   "cell_type": "code",
   "execution_count": 32,
   "metadata": {},
   "outputs": [
    {
     "ename": "TypeError",
     "evalue": "calc() missing 2 required positional arguments: 'x' and 'y'",
     "output_type": "error",
     "traceback": [
      "\u001b[0;31m---------------------------------------------------------------------------\u001b[0m",
      "\u001b[0;31mTypeError\u001b[0m                                 Traceback (most recent call last)",
      "Cell \u001b[0;32mIn[32], line 4\u001b[0m\n\u001b[1;32m      1\u001b[0m \u001b[38;5;28;01mdef\u001b[39;00m \u001b[38;5;21mcalc\u001b[39m(x,y): \n\u001b[1;32m      2\u001b[0m     \u001b[38;5;28mprint\u001b[39m(x \u001b[38;5;241m*\u001b[39m y)\n\u001b[0;32m----> 4\u001b[0m \u001b[43mcalc\u001b[49m\u001b[43m(\u001b[49m\u001b[43m)\u001b[49m\n",
      "\u001b[0;31mTypeError\u001b[0m: calc() missing 2 required positional arguments: 'x' and 'y'"
     ]
    }
   ],
   "source": [
    "def calc(x,y): \n",
    "    print(x * y)\n",
    "    \n",
    "calc()"
   ]
  },
  {
   "cell_type": "markdown",
   "metadata": {},
   "source": [
    "**Задание №1.** \n",
    "\n",
    "Напишите функцию, которая принимала бы на вход 2 строки, соединяла бы их, после чего выводила бы результат.\n",
    "\n",
    "Строки должны быть разделены пробелами при выводе "
   ]
  },
  {
   "cell_type": "code",
   "execution_count": 235,
   "metadata": {},
   "outputs": [
    {
     "name": "stdout",
     "output_type": "stream",
     "text": [
      "Введите слово: \n",
      "Hello World!\n",
      "Введите слово: \n",
      "Hi guyes!\n",
      "Результат работы функции: \n",
      "Hello World! Hi guyes!\n"
     ]
    }
   ],
   "source": [
    "# Пример работы программы"
   ]
  },
  {
   "cell_type": "markdown",
   "metadata": {},
   "source": [
    "**Задание №2**\n",
    "\n",
    "Напишите простой калькулятор в виде функции, который бы считал произведение или сумму трех чисел"
   ]
  },
  {
   "cell_type": "code",
   "execution_count": 238,
   "metadata": {},
   "outputs": [
    {
     "name": "stdout",
     "output_type": "stream",
     "text": [
      "Введите число: 2\n",
      "Введите число: 3\n",
      "Введите число: 5\n",
      "Введите знак:  +\n",
      "10\n"
     ]
    }
   ],
   "source": [
    "# Пример 1 "
   ]
  },
  {
   "cell_type": "code",
   "execution_count": 239,
   "metadata": {},
   "outputs": [
    {
     "name": "stdout",
     "output_type": "stream",
     "text": [
      "Введите число: 2\n",
      "Введите число: -3\n",
      "Введите число: 1\n",
      "Введите знак:  *\n",
      "-6\n"
     ]
    }
   ],
   "source": [
    "# Пример 2"
   ]
  },
  {
   "cell_type": "markdown",
   "metadata": {},
   "source": [
    "### Часть 3. Объект None. Инструкция return"
   ]
  },
  {
   "cell_type": "markdown",
   "metadata": {},
   "source": [
    "На данный момент мы рассмотрели 2 ситуации:\n",
    "    \n",
    "* функция что-то принимает на вход, далее что-то делает с этими данными  и выводит результат\n",
    "* функция ничего не принимает и просто производит вычисления с выводом результата\n",
    "\n",
    "Однако очень часто нам хочется сохранить результат работы функции. Давайте попробуем это сделать "
   ]
  },
  {
   "cell_type": "code",
   "execution_count": 40,
   "metadata": {},
   "outputs": [
    {
     "name": "stdout",
     "output_type": "stream",
     "text": [
      "15\n"
     ]
    }
   ],
   "source": [
    "def task(x,y):\n",
    "    print(x*y)\n",
    "    \n",
    "x = 3\n",
    "y = 5\n",
    "result = task(x,y)"
   ]
  },
  {
   "cell_type": "code",
   "execution_count": 42,
   "metadata": {},
   "outputs": [
    {
     "name": "stdout",
     "output_type": "stream",
     "text": [
      "15\n"
     ]
    }
   ],
   "source": [
    "task(x, y)"
   ]
  },
  {
   "cell_type": "markdown",
   "metadata": {},
   "source": [
    "Однако не надо наивно полагать, что теперь переменная result хранит в себе значение функции task.\n",
    "\n",
    "На самом деле функция произвела умножение и вывела результат на экран. Тем временем давайте выведем переменную result и посмотрим, что она содержит."
   ]
  },
  {
   "cell_type": "code",
   "execution_count": 41,
   "metadata": {},
   "outputs": [
    {
     "name": "stdout",
     "output_type": "stream",
     "text": [
      "15\n",
      "None\n"
     ]
    }
   ],
   "source": [
    "print(task(x,y))"
   ]
  },
  {
   "cell_type": "markdown",
   "metadata": {},
   "source": [
    "\n",
    "Мы получили, что переменная result хранит в себе None. \n",
    "\n",
    "**Что такое None?**"
   ]
  },
  {
   "cell_type": "markdown",
   "metadata": {},
   "source": [
    "None является объектом (типом данных), который подчеркивает, что у переменной отсуствует значение "
   ]
  },
  {
   "cell_type": "markdown",
   "metadata": {},
   "source": [
    "**К чему мы пришли? **\n",
    "\n",
    "Мы пришли к тому, что не можем сохранить значение функции в переменную, потому что она ничего **не возвращает**\n",
    "\n",
    "(на самом деле если функция явно не возвращает значение, то по умолчанию она возвращает объект типа None, как это показано выше)"
   ]
  },
  {
   "cell_type": "markdown",
   "metadata": {},
   "source": [
    "Исправим ситуацию с помощью инструкция **return**\n",
    "\n",
    "Инструкция **return** говорит, что нужно вернуть значение. В нашем случае функция возвращает произведение x и y."
   ]
  },
  {
   "cell_type": "code",
   "execution_count": 36,
   "metadata": {},
   "outputs": [],
   "source": [
    "def task(x,y):\n",
    "    return x*y\n",
    "    \n",
    "x = 3\n",
    "y = 5\n",
    "result = task(x,y)"
   ]
  },
  {
   "cell_type": "code",
   "execution_count": 37,
   "metadata": {},
   "outputs": [
    {
     "name": "stdout",
     "output_type": "stream",
     "text": [
      "15\n"
     ]
    }
   ],
   "source": [
    "print(result)"
   ]
  },
  {
   "cell_type": "markdown",
   "metadata": {},
   "source": [
    "Теперь наша функция считает произведение двух чисел и возвращает его в переменную. \n",
    "\n",
    "Если мы не хотим сохранять значение, а просто вывести его на экран, то нам никто не запрещает сказать функции, чтобы она вернула значение, а на печать в функцию print() подать в качестве аргумента нашу функцию"
   ]
  },
  {
   "cell_type": "code",
   "execution_count": 248,
   "metadata": {},
   "outputs": [
    {
     "name": "stdout",
     "output_type": "stream",
     "text": [
      "15\n"
     ]
    }
   ],
   "source": [
    "print(task(x,y))"
   ]
  },
  {
   "cell_type": "markdown",
   "metadata": {},
   "source": [
    "Что делать если мы хотим вернуть сразу несколько значений? Ответ прост"
   ]
  },
  {
   "cell_type": "code",
   "execution_count": 45,
   "metadata": {
    "collapsed": true
   },
   "outputs": [],
   "source": [
    "def task_2(x,y):\n",
    "    r =  x + y\n",
    "    return r, r[::-1]"
   ]
  },
  {
   "cell_type": "code",
   "execution_count": 46,
   "metadata": {},
   "outputs": [],
   "source": [
    "x = 'Hello '\n",
    "y = 'World!'\n",
    "\n",
    "r = task_2(x,y)"
   ]
  },
  {
   "cell_type": "markdown",
   "metadata": {},
   "source": [
    "В данном случае r будет хранить в себе кортеж:"
   ]
  },
  {
   "cell_type": "code",
   "execution_count": 43,
   "metadata": {},
   "outputs": [
    {
     "name": "stdout",
     "output_type": "stream",
     "text": [
      "('Hello World!', '!dlroW olleH')\n"
     ]
    }
   ],
   "source": [
    "print(r)"
   ]
  },
  {
   "cell_type": "markdown",
   "metadata": {},
   "source": [
    "Однако нам ничего не стоит разбить кортеж во время присвоения результатов функции переменным"
   ]
  },
  {
   "cell_type": "code",
   "execution_count": 47,
   "metadata": {},
   "outputs": [
    {
     "name": "stdout",
     "output_type": "stream",
     "text": [
      "Hello World!\n",
      "!dlroW olleH\n"
     ]
    }
   ],
   "source": [
    "r1, r2 = task_2(x,y)\n",
    "print(r1)\n",
    "print(r2)"
   ]
  },
  {
   "cell_type": "markdown",
   "metadata": {},
   "source": [
    "Следует заметить, что мы нигде не указываем тип аргументов. Следовательно наша функция способна работать не только для строк, но и например для списков "
   ]
  },
  {
   "cell_type": "code",
   "execution_count": 277,
   "metadata": {},
   "outputs": [
    {
     "name": "stdout",
     "output_type": "stream",
     "text": [
      "[1, 2, 3, 3, 4, 5]\n",
      "[5, 4, 3, 3, 2, 1]\n"
     ]
    }
   ],
   "source": [
    "x = [1,2,3]\n",
    "y = [3,4,5]\n",
    "\n",
    "l1, l2 = task_2(x,y)\n",
    "print(l1)\n",
    "print(l2)"
   ]
  },
  {
   "cell_type": "markdown",
   "metadata": {},
   "source": [
    "Добавим документацию"
   ]
  },
  {
   "cell_type": "code",
   "execution_count": 278,
   "metadata": {
    "collapsed": true
   },
   "outputs": [],
   "source": [
    "def task_2(x,y):\n",
    "    \"\"\"\n",
    "     Arguments\n",
    "    ---------\n",
    "    x : str or list\n",
    "        First string or list\n",
    "        \n",
    "    y : str or list \n",
    "        Second string or list\n",
    "        \n",
    "     Returns\n",
    "        -------\n",
    "        Concatenated string (or list) and reversed concatenated (or list)\n",
    "    \"\"\"\n",
    "    \n",
    "    r =  x + y\n",
    "    return r, r[::-1]"
   ]
  },
  {
   "cell_type": "markdown",
   "metadata": {},
   "source": [
    "Функция готова!\n",
    "\n",
    "** Как посмотреть документацию функции?**\n",
    "\n",
    "Пример 1. Получим документацию для нашей функции "
   ]
  },
  {
   "cell_type": "code",
   "execution_count": 59,
   "metadata": {},
   "outputs": [
    {
     "name": "stdout",
     "output_type": "stream",
     "text": [
      "\n",
      "    Добрый день. Данная функция просто выводит надпись \"Hello World!\"\n",
      "    \n"
     ]
    }
   ],
   "source": [
    "# Документация хранится как аттрибут функции. Т.е. в данном случае, чтобы получить документацию надо вызвать funct.__doc__\n",
    "\n",
    "print(funct.__doc__) # Вывести её на экран можно с помощью функции print()"
   ]
  },
  {
   "cell_type": "markdown",
   "metadata": {},
   "source": [
    "Пример 2. Документация встроенной функции "
   ]
  },
  {
   "cell_type": "code",
   "execution_count": 48,
   "metadata": {},
   "outputs": [
    {
     "name": "stdout",
     "output_type": "stream",
     "text": [
      "Return the absolute value of the argument.\n"
     ]
    }
   ],
   "source": [
    "print(abs.__doc__)"
   ]
  },
  {
   "cell_type": "markdown",
   "metadata": {},
   "source": [
    "Пример 3. Документация конкретного метода для конкретного типа "
   ]
  },
  {
   "cell_type": "code",
   "execution_count": 51,
   "metadata": {},
   "outputs": [
    {
     "name": "stdout",
     "output_type": "stream",
     "text": [
      "S.isdigit() -> bool\n",
      "\n",
      "Return True if all characters in S are digits\n",
      "and there is at least one character in S, False otherwise.\n"
     ]
    }
   ],
   "source": [
    "print(str.isdigit.__doc__)"
   ]
  },
  {
   "cell_type": "markdown",
   "metadata": {},
   "source": [
    "**Задание №3**\n",
    "\n",
    "Какое значение хранится в переменной result?"
   ]
  },
  {
   "cell_type": "code",
   "execution_count": 53,
   "metadata": {},
   "outputs": [
    {
     "data": {
      "text/plain": [
       "3"
      ]
     },
     "execution_count": 53,
     "metadata": {},
     "output_type": "execute_result"
    }
   ],
   "source": [
    "def task(x,y):\n",
    "    x = x**2\n",
    "    y = x+y\n",
    "    c = x + y \n",
    "    return c\n",
    "\n",
    "w1 = 1\n",
    "w2 = 1 \n",
    "\n",
    "result = task(w2, w1)\n",
    "result"
   ]
  },
  {
   "cell_type": "markdown",
   "metadata": {},
   "source": [
    "### Резюмируя:\n",
    "\n",
    "* мы научились создавать свои собственные функции\n",
    "* рассмотрели как создавать функции без аргументов и с аргументами\n",
    "* рассмотрели, что нужно сделать, чтобы функция вернула результат\n",
    "* изучили документирование функций"
   ]
  },
  {
   "cell_type": "markdown",
   "metadata": {},
   "source": [
    "# Практика"
   ]
  },
  {
   "cell_type": "markdown",
   "metadata": {},
   "source": [
    "**Задача №1** \n",
    "\n",
    "Напишите программу, которая принимала бы на вход два списка целых чисел и выводила бы их общие элементы в виде строки.\n",
    "\n",
    "В рамках выполнения реализуйте 2 функции:\n",
    "\n",
    "* функция create_data - формирует список целых чисел на основе введеных с клавиатуры данных.\n",
    "* функция inter - возвращает список, состоящий из пересечения двух введеных списков"
   ]
  },
  {
   "cell_type": "code",
   "execution_count": null,
   "metadata": {},
   "outputs": [],
   "source": []
  },
  {
   "cell_type": "markdown",
   "metadata": {},
   "source": [
    "#### Задача 2\n",
    "\n",
    "Напишите программу, которая принимает на вход строку из чисел, разделенных пробелами. Вашей задачей является найти и вывести число, сумма цифр которого является наибольшей. Например: 1 9 17 80 43 => 9"
   ]
  },
  {
   "cell_type": "code",
   "execution_count": null,
   "metadata": {},
   "outputs": [],
   "source": []
  },
  {
   "cell_type": "markdown",
   "metadata": {},
   "source": [
    "Домашнее задание:\n",
    "https://codechick.io/challenges\n",
    "Либо решить 10 задач из категории легко.\n",
    "Либо решить 3 задачи из категории средне.\n",
    "Либо решить 1 задачу из категории сложно.\n",
    "\n",
    "\n",
    "\n",
    "\n"
   ]
  }
 ],
 "metadata": {
  "kernelspec": {
   "display_name": "Python 3",
   "language": "python",
   "name": "python3"
  },
  "language_info": {
   "codemirror_mode": {
    "name": "ipython",
    "version": 3
   },
   "file_extension": ".py",
   "mimetype": "text/x-python",
   "name": "python",
   "nbconvert_exporter": "python",
   "pygments_lexer": "ipython3",
   "version": "3.9.6"
  }
 },
 "nbformat": 4,
 "nbformat_minor": 2
}
